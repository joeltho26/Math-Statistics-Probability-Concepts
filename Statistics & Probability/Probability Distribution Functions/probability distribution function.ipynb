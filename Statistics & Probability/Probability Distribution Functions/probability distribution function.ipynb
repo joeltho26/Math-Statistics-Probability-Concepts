{
 "cells": [
  {
   "cell_type": "markdown",
   "metadata": {},
   "source": [
    "1. [Probability Distribution function](#probability-distribution-function)"
   ]
  },
  {
   "cell_type": "markdown",
   "metadata": {},
   "source": [
    "#### Probability Distribution function:\n",
    "- used to determine the probability of a random variable taking up certain value within a given interval range\n",
    "- the probability distribution function are classified into continouous and discrete"
   ]
  }
 ],
 "metadata": {
  "language_info": {
   "name": "python"
  }
 },
 "nbformat": 4,
 "nbformat_minor": 2
}
