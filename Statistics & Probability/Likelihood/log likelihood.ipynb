{
 "cells": [
  {
   "cell_type": "markdown",
   "metadata": {},
   "source": [
    "1. [Log Likelihood](#log-likelihood)"
   ]
  },
  {
   "cell_type": "markdown",
   "metadata": {},
   "source": [
    "#### Log Likelihood:\n",
    "- is the natural logarithm of likelihood function i.e. log base e\n",
    "- it aids in mathematical calculations and analysis"
   ]
  }
 ],
 "metadata": {
  "language_info": {
   "name": "python"
  }
 },
 "nbformat": 4,
 "nbformat_minor": 2
}
