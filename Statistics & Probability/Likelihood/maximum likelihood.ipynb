{
 "cells": [
  {
   "cell_type": "markdown",
   "metadata": {},
   "source": [
    "1. [Max Likelihood](#max-likelihood)"
   ]
  },
  {
   "cell_type": "markdown",
   "metadata": {},
   "source": [
    "#### Max Likelihood:\n",
    "- for an observation using the assumption of mean and standard deviation value which yield the highest pdf value i.e. the point on the normal curve"
   ]
  }
 ],
 "metadata": {
  "language_info": {
   "name": "python"
  }
 },
 "nbformat": 4,
 "nbformat_minor": 2
}
