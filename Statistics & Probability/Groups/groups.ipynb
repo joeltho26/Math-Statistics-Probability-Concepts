{
 "cells": [
  {
   "cell_type": "markdown",
   "metadata": {},
   "source": [
    "1. [Groups](#groups)\n",
    "2. [Between/Independent Groups vs Within/Paired/Related Group](#betweenindependent-groups-vs-withinpairedrelated-groups)"
   ]
  },
  {
   "cell_type": "markdown",
   "metadata": {},
   "source": [
    "#### Groups:\n",
    "- it represents different categories, populations, or conditions that are being compared. \n",
    "- Examples of group comparisons:\n",
    "    - Comparing the average test scores of students who received a new teaching method versus those who did not [Between Groups]\n",
    "    - Comparing the survival rates of same list of patients before receiving the drug and after receiving the drug [Within Groups]\n",
    "    - Comparing the prevalence of a disease in different geographic regions [Between Groups (more than 2 groups)]"
   ]
  },
  {
   "cell_type": "markdown",
   "metadata": {},
   "source": [
    "#### One group:\n",
    "parametric:\n",
    "- One sample t test\n",
    "- one sample z test\n",
    "\n",
    "Non-parametric:\n",
    "- Wilcoxon signed-rank test\n",
    "- binomial test\n",
    "- One-Sample Kolmogorov-Smirnov Test\n",
    "    - compares the distribution of a single sample to a specified theoretical distribution\n",
    "- one-sample runs test"
   ]
  },
  {
   "cell_type": "markdown",
   "metadata": {},
   "source": [
    "### Between/Independent Groups:\n",
    "- Between/Independent Groups:\n",
    "    - comparing 2 separate groups who differ completely \n",
    "        - eg: comparing men vs women data\n",
    "\n",
    "#### Parametric Tests:\n",
    "- ##### between 2 groups:\n",
    "    - two sample t-test \n",
    "        - also has one sample t test\n",
    "    - z test\n",
    "- ##### more than 2 groups: \n",
    "    - ANOVA (Analysis of Variance)\n",
    "        - One-Way ANOVA (one independent variable with two or more groups)\n",
    "        - Two-Way ANOVA (two or more independent variables)\n",
    "\n",
    "#### Non-Parametric Tests:\n",
    "- ##### between 2 groups:\n",
    "    - Kolmogorov-Smirnov\n",
    "        - Two-sample KS Test\n",
    "            - compares the distributions of two independent samples to determine if they are drawn from the same underlying distribution\n",
    "    - Spearman's Rank Correlation\n",
    "        - assesses the monotonic relationship between two variables\n",
    "    - Mann Whitney U\n",
    "    - Wilcoxon rank sum test\n",
    "    - Chi-square test\n",
    "    - Mood's median test\n",
    "- ##### more than 2 groups:\n",
    "    - Kruskal-Wallis test\n",
    "    - Chi-square test\n",
    "    - Mood's median test\n",
    "    - Spearman's Rank Correlation\n",
    "        - you'd calculate Spearman's correlation for each pair of variables within each group\n",
    "            - assess the relationship between two variables within each group, and then compare the correlation coefficients across the groups\n",
    "            - Z-test or Fisher's Z-transformation\n",
    "                -  transform the Spearman correlation coefficients and then compare the transformed values using a t-test. \n",
    "            - Bootstrap methods\n",
    "                - heteroscedasticity (unequal variances)\n",
    "            - Page's trend test\n",
    "                -  where there are three or more conditions and a predicted order of observations\n",
    "                \n",
    "            - Eg: relationship between study time and exam scores is different across different grades in school (e.g., 3rd, 4th, and 5th grade). You could calculate Spearman's correlation for each grade and then compare the correlation coefficients to see if there's a significant difference in the relationship. \n",
    "    "
   ]
  },
  {
   "cell_type": "markdown",
   "metadata": {},
   "source": [
    "### Within/Paired/Related Groups\n",
    "- Within/Paired/Related Groups: \n",
    "    - comparing the same group but before and after a specific action has been performed\n",
    "\n",
    "#### Parametric Tests:\n",
    "- ##### between 2 groups:\n",
    "    - paired t-test (paired students t test)\n",
    "    - z test\n",
    "- ##### more than 2 groups:\n",
    "    - Repeated Measures ANOVA\n",
    "\n",
    "#### Non-Parametric Tests:\n",
    "- ##### between 2 groups:\n",
    "    - Spearman's Rank Correlation\n",
    "        - assesses the relationship between the ranks of the paired observations, rather than the raw data values\n",
    "    - Wilcoxon signed-rank test\n",
    "    - sign test\n",
    "    - Mcnemar's test\n",
    "- ##### more than 2 groups:\n",
    "    - Friedman test\n",
    "        - Ranking:\n",
    "            - each subject, the measurements across the different conditions are ranked from 1 to the number of conditions\n",
    "        - Summing Ranks:\n",
    "            - ranks for each condition are summed\n",
    "        - Calculating the Test Statistic:\n",
    "            - test statistic (Friedman's chi-square statistic) is calculated based on these rank sums\n",
    "        - Comparing to a Chi-Square Distribution:\n",
    "            - calculated test statistic is compared to a chi-square distribution with degrees of freedom equal to the number of conditions minus 1    \n",
    "    - Spearman's Rank Correlation\n",
    "        - If you have paired data (e.g., before and after measurements for the same subjects in different groups), you can calculate the Spearman's correlation within each group and then compare the correlations between the groups using a paired t-test or other appropriate statistical test"
   ]
  }
 ],
 "metadata": {
  "language_info": {
   "name": "python"
  }
 },
 "nbformat": 4,
 "nbformat_minor": 2
}
