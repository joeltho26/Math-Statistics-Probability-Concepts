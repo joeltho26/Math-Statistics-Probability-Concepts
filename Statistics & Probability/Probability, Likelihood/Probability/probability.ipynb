{
 "cells": [
  {
   "cell_type": "markdown",
   "metadata": {},
   "source": [
    "1. [Probability](#probability)"
   ]
  },
  {
   "cell_type": "markdown",
   "metadata": {},
   "source": [
    "#### Probability:\n",
    "- the chance of an event occuring\n",
    "- when the data distribution is already known i.e. mean and standard deviation and are fixed\n",
    "- the observation value keeps changing\n",
    "- predicting a new value given a known model\n",
    "- to find the probability\n",
    "    - greater than a value\n",
    "    - lesser than a value\n",
    "    - between a range\n",
    "- eg: weight of a mouse\n",
    "    - mean = 32 kgs\n",
    "    - std = 2.5\n",
    "    - find probability of mouse weight between 35 kgs and 36 kgs\n",
    "        - probability of finding mouse < 35 kgs:\n",
    "            - z score:\n",
    "                - 1.2 => z-table => 88.49% \n",
    "        - probability of finding mouse > 35 kgs:\n",
    "            - 100 - 88.49 => 11.51%\n",
    "        - probability of finding mouse < 36 kgs:\n",
    "            - z score:\n",
    "                - 1.6 => z-table => 94.52% \n",
    "        - probability of finding mouse > 36 kgs:\n",
    "            - 100 - 94.52 => 5.48%\n",
    "        - probability of finding mouse > 35 kgs & < 36 kgs:\n",
    "            - 94.52 - 88.49 => 6.03%"
   ]
  }
 ],
 "metadata": {
  "language_info": {
   "name": "python"
  }
 },
 "nbformat": 4,
 "nbformat_minor": 2
}
