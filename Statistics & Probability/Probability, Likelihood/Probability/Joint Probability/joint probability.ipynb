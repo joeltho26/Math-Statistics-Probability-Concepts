{
 "cells": [
  {
   "cell_type": "markdown",
   "id": "36c3725d",
   "metadata": {},
   "source": [
    "1. [Joint Probability](#joint-probability)"
   ]
  },
  {
   "cell_type": "markdown",
   "id": "49fda634",
   "metadata": {},
   "source": [
    "#### Joint Probability:\n",
    "- likelihood of two or more events happening at the same time"
   ]
  },
  {
   "cell_type": "markdown",
   "id": "1ca2f52c",
   "metadata": {},
   "source": []
  }
 ],
 "metadata": {
  "language_info": {
   "name": "python"
  }
 },
 "nbformat": 4,
 "nbformat_minor": 5
}
