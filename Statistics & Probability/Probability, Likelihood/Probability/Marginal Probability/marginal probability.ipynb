{
 "cells": [
  {
   "cell_type": "markdown",
   "id": "0708eddb",
   "metadata": {},
   "source": [
    "1. [Marginal Probability](#marginal-probability)"
   ]
  },
  {
   "cell_type": "markdown",
   "id": "9753488a",
   "metadata": {},
   "source": [
    "#### Marginal Probability:\n",
    "- the probability of a single event occurring, without considering any other variables or events"
   ]
  }
 ],
 "metadata": {
  "language_info": {
   "name": "python"
  }
 },
 "nbformat": 4,
 "nbformat_minor": 5
}
