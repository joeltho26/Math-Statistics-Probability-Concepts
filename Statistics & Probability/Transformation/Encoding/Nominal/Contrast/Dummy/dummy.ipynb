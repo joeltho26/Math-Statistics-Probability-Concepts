{
 "cells": [
  {
   "cell_type": "markdown",
   "id": "c8f2290a",
   "metadata": {},
   "source": [
    "1. [Dummy Encoding](#dummy-encoding)"
   ]
  },
  {
   "cell_type": "markdown",
   "id": "7beccb68",
   "metadata": {},
   "source": [
    "#### Dummy Encoding:\n",
    "- similar to ```one hot``` encoding\n",
    "- generate ```new column``` for ```each categorical label``` i.e. ```N-1 columns``` for ```N-1 categories``` \n",
    "- it ```removes``` ```one``` of the ```categorical``` label from encoding as ```reference``` value"
   ]
  },
  {
   "cell_type": "code",
   "execution_count": 2,
   "metadata": {},
   "outputs": [
    {
     "data": {
      "image/png": "[encoded data removed]",
      "text/plain": [
       "<PIL.Image.Image image mode=P size=350x200>"
      ]
     },
     "metadata": {},
     "output_type": "display_data"
    }
   ],
   "source": [
    "from PIL import Image \n",
    "from IPython.display import display\n",
    "\n",
    "img = Image.open('images/dummy.png')\n",
    "new_image = img.resize((350, 200))\n",
    "display(new_image)"
   ]
  },
  {
   "cell_type": "markdown",
   "id": "76c35d58",
   "metadata": {},
   "source": []
  }
 ],
 "metadata": {
  "kernelspec": {
   "display_name": "Python 3",
   "language": "python",
   "name": "python3"
  },
  "language_info": {
   "codemirror_mode": {
    "name": "ipython",
    "version": 3
   },
   "file_extension": ".py",
   "mimetype": "text/x-python",
   "name": "python",
   "nbconvert_exporter": "python",
   "pygments_lexer": "ipython3",
   "version": "3.13.7"
  }
 },
 "nbformat": 4,
 "nbformat_minor": 5
}
