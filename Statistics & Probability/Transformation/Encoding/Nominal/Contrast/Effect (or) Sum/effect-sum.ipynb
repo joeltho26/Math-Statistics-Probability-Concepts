{
 "cells": [
  {
   "cell_type": "markdown",
   "id": "0ee113d9",
   "metadata": {},
   "source": [
    "1. [Sum or Average or Effect Encoding](#sum-or-average-or-effect-encoding)"
   ]
  },
  {
   "cell_type": "markdown",
   "id": "15eb3695",
   "metadata": {},
   "source": [
    "#### Sum or Average or Effect Encoding:"
   ]
  },
  {
   "cell_type": "code",
   "execution_count": null,
   "id": "05d3060e",
   "metadata": {},
   "outputs": [],
   "source": [
    "from PIL import Image \n",
    "from IPython.display import display\n",
    "\n",
    "img = Image.open('images/sum-effect.png')\n",
    "new_image = img.resize((460, 180))\n",
    "display(new_image)"
   ]
  },
  {
   "cell_type": "code",
   "execution_count": null,
   "id": "1b68d5d4",
   "metadata": {},
   "outputs": [],
   "source": []
  }
 ],
 "metadata": {
  "kernelspec": {
   "display_name": "Python 3",
   "language": "python",
   "name": "python3"
  },
  "language_info": {
   "name": "python",
   "version": "3.13.7"
  }
 },
 "nbformat": 4,
 "nbformat_minor": 5
}
