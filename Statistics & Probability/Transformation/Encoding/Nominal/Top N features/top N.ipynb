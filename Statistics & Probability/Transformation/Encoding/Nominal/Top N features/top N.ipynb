{
 "cells": [
  {
   "cell_type": "markdown",
   "id": "68dd8fe2",
   "metadata": {},
   "source": [
    "1. [Top N features Encoding](#top-n-features-encoding)"
   ]
  },
  {
   "cell_type": "markdown",
   "id": "e9ec6b81",
   "metadata": {},
   "source": [
    "#### Top N features Encoding:\n",
    "- useful when the categorical labels are ```very large``` in number i.e. ```high cardinality```\n",
    "- take the ```top 20 features``` which the ```highest frequency``` and tag the ```remaining``` as ```1 category``` variable"
   ]
  },
  {
   "cell_type": "markdown",
   "id": "6002486b",
   "metadata": {},
   "source": []
  }
 ],
 "metadata": {
  "language_info": {
   "name": "python"
  }
 },
 "nbformat": 4,
 "nbformat_minor": 5
}
