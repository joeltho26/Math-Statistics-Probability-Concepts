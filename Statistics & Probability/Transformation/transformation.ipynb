{
 "cells": [
  {
   "cell_type": "markdown",
   "metadata": {},
   "source": [
    "1. [Transformation](#transformation)"
   ]
  },
  {
   "cell_type": "markdown",
   "metadata": {},
   "source": [
    "#### Transformation:\n",
    "- scaling: used to rescale the values to a specific range and not result in normality of data\n",
    "- normalization: develop normality of data\n",
    "- reduces impact of outliers, skewness and kurtosis\n",
    "- Eg:\n",
    "    - Feature Scaling\n",
    "    - Guassian Distribution transformation types\n",
    "    - Quantile Transformer\n",
    "    - Spline Transformer\n",
    "    - Power Transformer \n",
    "    - many more"
   ]
  },
  {
   "cell_type": "markdown",
   "metadata": {},
   "source": []
  }
 ],
 "metadata": {
  "language_info": {
   "name": "python"
  }
 },
 "nbformat": 4,
 "nbformat_minor": 2
}
