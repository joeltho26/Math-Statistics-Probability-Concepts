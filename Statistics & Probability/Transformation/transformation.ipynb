{
 "cells": [
  {
   "cell_type": "markdown",
   "metadata": {},
   "source": [
    "1. [Transformation](#transformation)"
   ]
  },
  {
   "cell_type": "markdown",
   "metadata": {},
   "source": [
    "#### Transformation:\n",
    "- ```reduces``` impact of ```outliers```, ```skewness``` and ```kurtosis```\n",
    "- Types of transformation,\n",
    "    - ```Scaling```: \n",
    "    - ```Gaussian Transformation```\n",
    "    - ```Spline Transformer```\n",
    "    - ```Power Transformer```\n",
    "\n",
    "Note:\n",
    "- order of transformation: \n",
    "    1. perform scaling\n",
    "    2. perform gaussian transformation    "
   ]
  },
  {
   "cell_type": "markdown",
   "metadata": {},
   "source": []
  }
 ],
 "metadata": {
  "language_info": {
   "name": "python"
  }
 },
 "nbformat": 4,
 "nbformat_minor": 2
}
