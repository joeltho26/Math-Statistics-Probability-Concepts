{
 "cells": [
  {
   "cell_type": "markdown",
   "metadata": {},
   "source": [
    "1. [Transformation](#transformation)"
   ]
  },
  {
   "cell_type": "markdown",
   "metadata": {},
   "source": [
    "#### Transformation:\n",
    "- used to rescale the values which result in normality of data\n",
    "- reduces skewness and kurtosis\n",
    "- helps in outlier detection\n",
    "- Eg:\n",
    "    - Feature Scaling\n",
    "    - Guassian Distribution transformation types\n",
    "    - Quantile Transformer\n",
    "    - Spline Transformer\n",
    "    - Power Transformer \n",
    "    - many more"
   ]
  },
  {
   "cell_type": "markdown",
   "metadata": {},
   "source": []
  }
 ],
 "metadata": {
  "language_info": {
   "name": "python"
  }
 },
 "nbformat": 4,
 "nbformat_minor": 2
}
