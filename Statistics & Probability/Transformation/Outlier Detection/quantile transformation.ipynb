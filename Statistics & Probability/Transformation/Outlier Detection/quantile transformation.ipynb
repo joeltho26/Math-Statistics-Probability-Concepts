{
 "cells": [
  {
   "cell_type": "markdown",
   "metadata": {},
   "source": [
    "1. [Quantile Transformation](#quantile-transformation)"
   ]
  },
  {
   "cell_type": "markdown",
   "metadata": {},
   "source": [
    "#### Quantile Transformation:\n",
    "- reduces the impact of outliers\n",
    "- used for data with unknown or non-gaussian distribution\n",
    "- it tends to spread out the most frequent values"
   ]
  },
  {
   "cell_type": "markdown",
   "metadata": {},
   "source": []
  }
 ],
 "metadata": {
  "language_info": {
   "name": "python"
  }
 },
 "nbformat": 4,
 "nbformat_minor": 2
}
