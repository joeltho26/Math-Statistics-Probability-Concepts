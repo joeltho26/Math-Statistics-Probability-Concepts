{
 "cells": [
  {
   "cell_type": "markdown",
   "metadata": {},
   "source": [
    "1. [Box-Cox Transformation](#box-cox-transformation)"
   ]
  },
  {
   "cell_type": "markdown",
   "metadata": {},
   "source": [
    "#### Box-Cox Transformation:\n",
    "- transform data into ```gaussian``` distribution\n",
    "- achieves ```normality``` of data\n",
    "- reduces ```skew``` and ```kurtosis``` of data\n",
    "- applied for ```right/+ve``` skewed data\n",
    "- reduces the impact of ```outliers```\n",
    "- ```λ``` is the transformation factor and it ranges between ```+5``` to ```-5```\n",
    "- works only with ```+ve``` values\n",
    "- Based on ```λ``` value:\n",
    "    - ```λ = 1``` => no transformation\n",
    "    - ```λ = 0``` => log base e transformation\n",
    "    - ```λ = 0.5``` => square root transformation\n",
    "    - ```λ = -0.5``` => square root & reciprocal transformation\n",
    "    - ```λ = -1``` => reciprocal transformation"
   ]
  },
  {
   "cell_type": "code",
   "execution_count": 4,
   "metadata": {},
   "outputs": [
    {
     "data": {
      "image/png": "[encoded data removed]",
      "text/plain": [
       "<PIL.Image.Image image mode=P size=300x130>"
      ]
     },
     "metadata": {},
     "output_type": "display_data"
    }
   ],
   "source": [
    "from PIL import Image \n",
    "from IPython.display import display\n",
    "\n",
    "img = Image.open('images/boxcox.png')\n",
    "new_image = img.resize((300, 130))\n",
    "display(new_image)"
   ]
  },
  {
   "cell_type": "code",
   "execution_count": null,
   "metadata": {},
   "outputs": [],
   "source": []
  }
 ],
 "metadata": {
  "kernelspec": {
   "display_name": "Python 3",
   "language": "python",
   "name": "python3"
  },
  "language_info": {
   "codemirror_mode": {
    "name": "ipython",
    "version": 3
   },
   "file_extension": ".py",
   "mimetype": "text/x-python",
   "name": "python",
   "nbconvert_exporter": "python",
   "pygments_lexer": "ipython3",
   "version": "3.13.7"
  }
 },
 "nbformat": 4,
 "nbformat_minor": 2
}
