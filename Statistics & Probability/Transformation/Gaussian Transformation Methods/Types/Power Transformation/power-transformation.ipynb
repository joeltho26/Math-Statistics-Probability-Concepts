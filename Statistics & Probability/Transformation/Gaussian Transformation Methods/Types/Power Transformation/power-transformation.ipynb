{
 "cells": [
  {
   "cell_type": "markdown",
   "id": "9b0b89cc",
   "metadata": {},
   "source": [
    "1. [Power Transformation](#power-transformation)"
   ]
  },
  {
   "cell_type": "markdown",
   "metadata": {},
   "source": [
    "#### Power Transformation:\n",
    "- transform data into ```gaussian``` distribution\n",
    "    - ```skew``` = 0, ```kurtosis``` = 3\n",
    "- achieves ```normality``` of data\n",
    "- reduces impact of ```outliers```\n",
    "- reduces ```skew``` and ```kurtosis``` of data\n",
    "- applied to both ```+ve/-ve``` skewed data\n",
    "- it stabilizes the ```variance```\n",
    "- ```λ``` = power parameter, determines the ```strength``` and ```directions```\n",
    "- types of power transformation are ```Box-Cox``` and ```Yeo-Johnson```"
   ]
  },
  {
   "cell_type": "markdown",
   "id": "dbf71024",
   "metadata": {},
   "source": []
  }
 ],
 "metadata": {
  "language_info": {
   "name": "python"
  }
 },
 "nbformat": 4,
 "nbformat_minor": 5
}
