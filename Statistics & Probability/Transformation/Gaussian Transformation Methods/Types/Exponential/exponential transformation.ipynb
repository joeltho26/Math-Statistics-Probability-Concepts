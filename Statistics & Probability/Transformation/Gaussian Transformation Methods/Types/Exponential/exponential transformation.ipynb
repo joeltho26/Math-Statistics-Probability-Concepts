{
 "cells": [
  {
   "cell_type": "markdown",
   "metadata": {},
   "source": [
    "1. [Exponential Transformation](#exponential-transformation)"
   ]
  },
  {
   "cell_type": "markdown",
   "metadata": {},
   "source": [
    "#### Exponential Transformation:\n",
    "- achieves ```normality``` of data\n",
    "- reduces ```skew``` and ```kurtosis``` of data\n",
    "- reduce ```left/-ve``` skew data\n",
    "- works with ```+ve``` and ```0``` values\n",
    "- handle ```-ve``` values:\n",
    "    - adding small constant\n",
    "    - take absolute of value\n",
    "- ```e = 2.718``` (Euler's number)\n",
    "- reduces the impact of ```outliers```\n",
    "- transform the data into ```gaussian``` distribution"
   ]
  },
  {
   "cell_type": "code",
   "execution_count": 9,
   "metadata": {},
   "outputs": [
    {
     "data": {
      "image/png": "[encoded data removed]",
      "text/plain": [
       "<PIL.Image.Image image mode=RGBA size=70x75>"
      ]
     },
     "metadata": {},
     "output_type": "display_data"
    }
   ],
   "source": [
    "from PIL import Image \n",
    "from IPython.display import display\n",
    "\n",
    "img = Image.open('images/exp.png')\n",
    "new_image = img.resize((70, 75))\n",
    "display(new_image)"
   ]
  }
 ],
 "metadata": {
  "kernelspec": {
   "display_name": "Python 3",
   "language": "python",
   "name": "python3"
  },
  "language_info": {
   "codemirror_mode": {
    "name": "ipython",
    "version": 3
   },
   "file_extension": ".py",
   "mimetype": "text/x-python",
   "name": "python",
   "nbconvert_exporter": "python",
   "pygments_lexer": "ipython3",
   "version": "3.13.7"
  }
 },
 "nbformat": 4,
 "nbformat_minor": 2
}
