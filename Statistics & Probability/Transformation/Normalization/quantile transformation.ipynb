{
 "cells": [
  {
   "cell_type": "markdown",
   "metadata": {},
   "source": [
    "1. [Quantile Transformation](#quantile-transformation)"
   ]
  },
  {
   "cell_type": "markdown",
   "metadata": {},
   "source": [
    "#### Quantile Transformation:\n",
    "- reduces the impact of outliers\n",
    "- achieves normaility of data\n",
    "- used for data with unknown or non-gaussian distribution\n",
    "- it tends to spread out the most frequent values\n",
    "- reduces kurtosis and skewness\n",
    "- applicable to both left and right skew\n",
    "- works the best for non-gaussian distribution\n",
    "- robust to outliers but sometimes not"
   ]
  },
  {
   "cell_type": "markdown",
   "metadata": {},
   "source": [
    "##### Process of Quantile Transformation:\n",
    "1. Empirical Cumulative Distribution Function (ECDF):\n",
    "    - calculate empirical CDF of data for each feature\n",
    "        - the data points in the sample are sorted in ascending order.\n",
    "        - each value x, the ECDF counts the number of data points in the sample that are less than or equal to x\n",
    "        - count is then divided by the total number of data points (n) to get the proportion.\n",
    "    - thusm, ranks data and converts into probabilities\n",
    "2. Mapping to Target Distribution:\n",
    "    - maps ECDF values into desired distribution \n",
    "        - uniform or normal\n",
    "    - it is achieved by inverse CDF of uniform or normal distribution (quantile function)\n",
    "        - CDF =>  F(2) = 0.75, means there's a 75% probability that the random variable X will be less than or equal to 2. \n",
    "        - ICDF => F⁻¹(0.75) = 2, means the 75th percentile of the distribution is 2. \n",
    "- If Uniform Distribution Output:\n",
    "    -  uses the ECDF values directly since it ranges between 0 - 1\n",
    "- If Normal Distribution Output:\n",
    "    -  uses the inverse CDF of the standard normal distribution"
   ]
  }
 ],
 "metadata": {
  "language_info": {
   "name": "python"
  }
 },
 "nbformat": 4,
 "nbformat_minor": 2
}
