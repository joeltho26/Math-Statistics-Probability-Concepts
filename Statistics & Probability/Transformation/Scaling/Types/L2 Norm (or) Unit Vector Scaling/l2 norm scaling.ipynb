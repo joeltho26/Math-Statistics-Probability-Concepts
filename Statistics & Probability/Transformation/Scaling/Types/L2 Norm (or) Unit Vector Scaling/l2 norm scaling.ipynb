{
 "cells": [
  {
   "cell_type": "markdown",
   "id": "73308ecc",
   "metadata": {},
   "source": [
    "1. [L2 Norm Scaling](#l2-norm-scaling)"
   ]
  },
  {
   "cell_type": "markdown",
   "id": "dbfa2ab1",
   "metadata": {},
   "source": [
    "#### L2 Norm Scaling:\n",
    "- ```rescales``` the data\n",
    "- preferred for ```non gaussian``` or when data distribution is ```unknown```\n",
    "- transforms the data by ```not changing``` the ```shape``` of the distribution or the ```relationship``` between variables\n",
    "\n",
    "```Working```:\n",
    "- take the ```vector```:\n",
    "    - v: [3,4]\n",
    "- calculate the ```L2 norm```\n",
    "    - √((3)^2 + (4)^2) = √25 = 5\n",
    "- ```Divide``` the vectors with L2 norm values\n",
    "    - v = (3/5,4/5)\n",
    "- ```Verify```, the final vector value a unit vector value\n",
    "    - calculate the L2 norm value for v = (3/5,4/5)\n",
    "        - L2 norm = √((3/5)^2 + (4/5)^2) = √(0.36+0.64) = 1 "
   ]
  },
  {
   "cell_type": "code",
   "execution_count": 3,
   "id": "5ea02d57",
   "metadata": {},
   "outputs": [
    {
     "data": {
      "image/png": "[encoded data removed]",
      "text/plain": [
       "<PIL.Image.Image image mode=P size=220x100>"
      ]
     },
     "metadata": {},
     "output_type": "display_data"
    }
   ],
   "source": [
    "from PIL import Image \n",
    "from IPython.display import display\n",
    "\n",
    "img = Image.open('images/l2.png')\n",
    "new_image = img.resize((220, 100))\n",
    "display(new_image)"
   ]
  },
  {
   "cell_type": "markdown",
   "id": "450744a9",
   "metadata": {},
   "source": []
  }
 ],
 "metadata": {
  "kernelspec": {
   "display_name": "Python 3",
   "language": "python",
   "name": "python3"
  },
  "language_info": {
   "codemirror_mode": {
    "name": "ipython",
    "version": 3
   },
   "file_extension": ".py",
   "mimetype": "text/x-python",
   "name": "python",
   "nbconvert_exporter": "python",
   "pygments_lexer": "ipython3",
   "version": "3.13.7"
  }
 },
 "nbformat": 4,
 "nbformat_minor": 5
}
