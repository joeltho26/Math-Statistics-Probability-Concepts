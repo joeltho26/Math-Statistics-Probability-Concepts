{
 "cells": [
  {
   "cell_type": "markdown",
   "id": "5647be6c",
   "metadata": {},
   "source": [
    "1. [Scaling](#scaling)"
   ]
  },
  {
   "cell_type": "markdown",
   "id": "2de9e896",
   "metadata": {},
   "source": [
    "#### Scaling:\n",
    "- transforms the data by ```not changing``` the ```shape``` of distribution or ```relationship``` between variables\n",
    "- works with ```+ve```, ```-ve``` and ```0``` values\n",
    "- ```rescales``` the data within a ```specified range```\n",
    "- ```scaling``` the data will ```not``` make it follow ```normality```\n",
    "- to improve ```model training``` and ```accuracy```\n",
    "- ```reduces``` the impact of ```outliers```\n",
    "- Types of Scaling:\n",
    "\n",
    "    - ```Standardization Scaling```\n",
    "\n",
    "    - ```Normalization Scaling```\n",
    "\n",
    "    - ```Max Abs Scalar```\n",
    "\n",
    "    - ```Mean Normalization Scaling```\n",
    "\n",
    "    - ```L2 Norm Scaling```\n",
    "\n",
    "    - ```Robust Scaling```"
   ]
  },
  {
   "cell_type": "markdown",
   "id": "efe793f7",
   "metadata": {},
   "source": []
  }
 ],
 "metadata": {
  "language_info": {
   "name": "python"
  }
 },
 "nbformat": 4,
 "nbformat_minor": 5
}
