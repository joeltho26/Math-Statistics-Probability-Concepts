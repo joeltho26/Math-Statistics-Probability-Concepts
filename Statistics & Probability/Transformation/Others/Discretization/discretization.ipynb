{
 "cells": [
  {
   "cell_type": "markdown",
   "id": "f3d96a2c",
   "metadata": {},
   "source": [
    "1. [Discretization](#discretization)"
   ]
  },
  {
   "cell_type": "markdown",
   "id": "a2fe479b",
   "metadata": {},
   "source": [
    "#### Discretization:\n",
    "- transforming the ```continuous``` data into ```discrete bins``` i.e.  \n",
    "    - ```sort``` the data\n",
    "    - ```split``` the data into ```bins``` or ```intervals```\n",
    "        - ```random``` split\n",
    "        - ```equally distributed``` split\n",
    "        - split based on the ```weight``` \n",
    "    - the value representing each bin based on \n",
    "\n",
    "        - ```median```\n",
    "\n",
    "        - ```mean```\n",
    "\n",
    "        - ```label```\n",
    "\n",
    "        - ```ordinal```\n",
    "\n",
    "    - the ```adjacent bins``` will be merged into ```1```\n",
    "        - if adjacent bins are ```not statistically significant```\n",
    "    - ```stop``` discretization, based on\n",
    "        - no. of ```bins```\n",
    "        - ```p-value```\n",
    "        - minimum ```interval size```\n",
    "\n"
   ]
  },
  {
   "cell_type": "markdown",
   "id": "ae45262f",
   "metadata": {},
   "source": []
  },
  {
   "cell_type": "markdown",
   "id": "7371e71b",
   "metadata": {},
   "source": []
  }
 ],
 "metadata": {
  "language_info": {
   "name": "python"
  }
 },
 "nbformat": 4,
 "nbformat_minor": 5
}
