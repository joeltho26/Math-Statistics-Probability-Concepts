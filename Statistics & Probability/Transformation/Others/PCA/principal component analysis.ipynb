{
 "cells": [
  {
   "cell_type": "markdown",
   "id": "d5bd23fa",
   "metadata": {},
   "source": [
    "1. [Principal Component Analysis](#principal-component-analysis)"
   ]
  },
  {
   "cell_type": "markdown",
   "id": "5c38f391",
   "metadata": {},
   "source": [
    "#### Principal Component Analysis:\n",
    "- a ```dimensionality reduction algorithm```\n",
    "- uses ```SVD``` to perform dimensionality reduction\n",
    "    - ```Single Value Decomposition```:\n",
    "        - ```A = UΣVᐪ```\n",
    "            - ```U``` => rotation matrix\n",
    "            - ```Σ``` => scaling matrix\n",
    "            - ```Vᐪ``` => rotation matrix\n",
    "- ```reduces``` the ```number of features``` attributing to target output value addressing ```curse of dimensionality``` issue\n",
    "- ```removes correlated variables```\n",
    "- create new features called ```principal components```\n",
    "    - the ```best fit line``` i.e. principal component line are based on the ```maximum sum``` of ```squared distances``` by ```projecting``` the ```data points``` onto the ```line``` than OLE i.e. minimize the sum of square distance between line and actual value\n",
    "    - principal components are ```linear combinations``` of original features based on the ```slope``` of ```best fit line```\n",
    "    - the linear combination values are converted to unit vector to calculate the ```eigen value```\n",
    "- each ```uncorrelated feature``` is considered as ```principal component``` & are ```orthogonal``` to each other\n",
    "- the ```final number``` of ```principal components``` are considered based on the ```amount of variation``` of data it accounts for\n",
    "- use ```scree plot``` to verify the variances visually\n"
   ]
  },
  {
   "cell_type": "markdown",
   "id": "f2030854",
   "metadata": {},
   "source": []
  }
 ],
 "metadata": {
  "language_info": {
   "name": "python"
  }
 },
 "nbformat": 4,
 "nbformat_minor": 5
}
