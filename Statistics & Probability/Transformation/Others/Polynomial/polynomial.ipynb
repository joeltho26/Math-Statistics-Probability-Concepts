{
 "cells": [
  {
   "cell_type": "markdown",
   "id": "74e48a14",
   "metadata": {},
   "source": [
    "1. [Polynomial Functions](#polynomial-functions)"
   ]
  },
  {
   "cell_type": "markdown",
   "id": "47b91c40",
   "metadata": {},
   "source": [
    "#### Polynomial Functions:\n",
    "- creates ```new``` feature by ```increasing``` the ```power``` of the ```existing``` feature\n",
    "- the power value is controlled by '```d```' (```degree``` of polynomial)\n",
    "\n",
    "    - eg: ```d=3```:\n",
    "\n",
    "        - ```Pᵢ(x) = aᵢ + aᵢx + aᵢx² + aᵢx³ + .....```\n",
    "- used in kernels to transform data into higher dimension, linear models when data is exponential"
   ]
  },
  {
   "cell_type": "markdown",
   "id": "c9970f1d",
   "metadata": {},
   "source": []
  }
 ],
 "metadata": {
  "language_info": {
   "name": "python"
  }
 },
 "nbformat": 4,
 "nbformat_minor": 5
}
