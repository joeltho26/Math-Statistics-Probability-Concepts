{
 "cells": [
  {
   "cell_type": "markdown",
   "metadata": {},
   "source": [
    "1. [Types of Splines](#types-of-splines)"
   ]
  },
  {
   "cell_type": "markdown",
   "metadata": {},
   "source": [
    "#### Types of Splines:\n",
    "- different splines provide different degree of polynomial function\n",
    "- Cubic Spline: use cubic polynomials between knots (offers better smoothness and continuity)\n",
    "    - Pᵢ(x) = aᵢ + bᵢ(x - xᵢ) + cᵢ(x - xᵢ)² + dᵢ(x - xᵢ)³\n",
    "- Linear Spline: use linear polynomials (straight lines) between knots\n",
    "    - Pᵢ(x) = aᵢ + bᵢ(x - xᵢ)\n",
    "- Quadratic Spline: use quadratic polynomials (parabola) between knots\n",
    "    - Pᵢ(x) = aᵢ + bᵢ(x - xᵢ) + cᵢ(x - xᵢ)²\n",
    "- B-Spline: use basic polynomials functions between knots\n",
    "- Natural Spline: use cubic polynomials with added constraints, that force the function to be linear beyond knots"
   ]
  }
 ],
 "metadata": {
  "language_info": {
   "name": "python"
  }
 },
 "nbformat": 4,
 "nbformat_minor": 2
}
