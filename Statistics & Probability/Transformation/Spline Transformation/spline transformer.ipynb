{
 "cells": [
  {
   "cell_type": "markdown",
   "metadata": {},
   "source": [
    "#### Spline Transformation:\n",
    "- spline are piecewise polynomial functions\n",
    "- it means instead of fitting a single polynomial function for whole dataset, the dataset is broken into n intervals and separate polynomial functions are fit into it. n polynomials functions combined together in a point called knot which results in a smooth continuous curve\n",
    "- used to capture non linear pattern in the dataset thereby increasing model accuracy\n",
    "- works for both gaussian and non-gaussian data\n",
    "- works with both positive and negative values\n",
    "- achieve almost normality of data"
   ]
  }
 ],
 "metadata": {
  "language_info": {
   "name": "python"
  }
 },
 "nbformat": 4,
 "nbformat_minor": 2
}
