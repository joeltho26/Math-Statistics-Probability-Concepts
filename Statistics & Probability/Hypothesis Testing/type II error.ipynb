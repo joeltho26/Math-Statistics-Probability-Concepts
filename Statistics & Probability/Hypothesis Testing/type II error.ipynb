{
 "cells": [
  {
   "cell_type": "markdown",
   "metadata": {},
   "source": [
    "1. [Type II Error](#type-ii-error)"
   ]
  },
  {
   "cell_type": "markdown",
   "metadata": {},
   "source": [
    "#### Type II Error:\n",
    "- when we falsely reject the alternate hypothesis and accept the null hypothesis but in conclusion there is statistical significance\n",
    "- false negative"
   ]
  }
 ],
 "metadata": {
  "language_info": {
   "name": "python"
  }
 },
 "nbformat": 4,
 "nbformat_minor": 2
}
