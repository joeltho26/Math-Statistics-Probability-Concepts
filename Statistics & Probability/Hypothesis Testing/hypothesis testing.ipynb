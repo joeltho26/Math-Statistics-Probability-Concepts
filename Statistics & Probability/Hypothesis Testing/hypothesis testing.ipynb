{
 "cells": [
  {
   "cell_type": "markdown",
   "metadata": {},
   "source": [
    "1. [Hypothesis Testing](#hypothesis-testing)"
   ]
  },
  {
   "cell_type": "markdown",
   "metadata": {},
   "source": [
    "#### Hypothesis Testing:\n",
    "- it is ues to reject the null hypothesis and accept the alternate hypothesis\n",
    "- it is used to identify statistical significance"
   ]
  }
 ],
 "metadata": {
  "language_info": {
   "name": "python"
  }
 },
 "nbformat": 4,
 "nbformat_minor": 2
}
