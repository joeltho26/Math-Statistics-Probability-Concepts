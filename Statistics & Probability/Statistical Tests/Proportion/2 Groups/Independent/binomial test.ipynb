{
 "cells": [
  {
   "cell_type": "markdown",
   "id": "8c92fb58",
   "metadata": {},
   "source": [
    "1. [Binomial Test](#binomial-test)"
   ]
  },
  {
   "cell_type": "markdown",
   "id": "47b8ae71",
   "metadata": {},
   "source": [
    "#### Binomial Test: \n",
    "- uses just 1 categorical variable with binary data and measure the proportion of it to be significant"
   ]
  },
  {
   "cell_type": "markdown",
   "id": "10a97bfc",
   "metadata": {},
   "source": [
    "##### Example:\n",
    "Question:\n",
    "- Categorical Variable (binary data)\n",
    "    - click ad.\n",
    "    - not click ad\n",
    "- Hypothesized Proportion of click ad = 5% => 0.05\n",
    "- Number of trials (sample size) = 300\n",
    "- number of click ad = 25\n",
    "\n",
    "Answer:\n",
    "- Null Hypothesis: Hypothesized Proportion of click ad = 5%\n",
    "- Alternate Hypothesis: Hypothesized Proportion of click ad ≠ 5%\n",
    "- Significance level = 0.05\n",
    "- Identify the Parameters \n",
    "    - n (number of trials): 300 (the number of people who saw the ad).\n",
    "    - x (number of successes): 25 (the number of clicks).\n",
    "    - p₀ (hypothesized probability of success): 0.05 (the historical click-through rate).\n",
    "- calculate the p-value using binomial probability formula,\n",
    "    - P(X = x) = (nCx) * pˣ * (1 - p)^(n - x)\n",
    "        - nCx = n!/(x!*(n-x)!)\n",
    "    - p-value = 0.00436\n",
    "- Hence, p-value (0.00436) ≤ significance level (0.05). We reject the null hypothesis"
   ]
  }
 ],
 "metadata": {
  "kernelspec": {
   "display_name": "Python 3",
   "language": "python",
   "name": "python3"
  },
  "language_info": {
   "codemirror_mode": {
    "name": "ipython",
    "version": 3
   },
   "file_extension": ".py",
   "mimetype": "text/x-python",
   "name": "python",
   "nbconvert_exporter": "python",
   "pygments_lexer": "ipython3",
   "version": "3.9.6"
  }
 },
 "nbformat": 4,
 "nbformat_minor": 5
}
