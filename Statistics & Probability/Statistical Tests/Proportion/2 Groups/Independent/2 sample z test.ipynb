{
 "cells": [
  {
   "cell_type": "markdown",
   "id": "eed60dfb",
   "metadata": {},
   "source": [
    "1. [2 Sample Z test](#2-sample-z-test)"
   ]
  },
  {
   "cell_type": "markdown",
   "id": "f40c175a",
   "metadata": {},
   "source": [
    "#### 2 Sample Z test:\n",
    "- uses two categorical variables with 2 binary data (2 groups)\n",
    "- used to compare the proportions of the two categorical variables to be significantly different "
   ]
  },
  {
   "cell_type": "markdown",
   "id": "18066fd2",
   "metadata": {},
   "source": [
    "##### Example:\n",
    "Question:\n",
    "- Campaign A\n",
    "    - sample size = 500\n",
    "    - leads = 45\n",
    "    - non leads = 455\n",
    "    - Proportion of leads = 45/500\n",
    "\n",
    "- Campaign B\n",
    "    - sample size = 600\n",
    "    - leads = 30\n",
    "    - non leads = 570 \n",
    "    - Proportion of leads = 30/600\n",
    "\n",
    "Answer:\n",
    "- Null Hypothesis = Proportion of lead for campaign A = Proportion of leads for campaign B\n",
    "- Alternate Hypothesis = Proportion of leads for campaign A ≠ Proportion of leads for campaign B\n",
    "- calculate the sample proportions\n",
    "    - Sample proportion for Campaign A (p̂₁): x₁ / n₁ = 45 / 500 = 0.09\n",
    "    - Sample proportion for Campaign B (p̂₂): x₂ / n₂ = 30 / 600 = 0.05\n",
    "- calculate pooled proportion (p̂):\n",
    "    - p̂ = (x₁ + x₂) / (n₁ + n₂) = (45 + 30) / (500 + 600) = 75 / 1100 ≈ 0.0682\n",
    "- calculate the Standard Error of Difference in Proportions\n",
    "    - SE = √[p̂(1-p̂) * (1/n₁+1/n₂)] ≈ 0.01526\n",
    "- calculate the z statistic\n",
    "    - Z = (p̂₁ - p̂₂) / SE = Z = (0.09 - 0.05) / 0.01526 = 2.621\n",
    "- calculate the p-value\n",
    "    - using the z-statistic value from z-table\n",
    "    - p-value (2.621) = 0.0044\n",
    "        - two-tailed test = 2 * 0.0044 => 0.0088\n",
    "- Hence p-value (0.0088) < significance level (0.05). Reject the null hypothesis"
   ]
  }
 ],
 "metadata": {
  "language_info": {
   "name": "python"
  }
 },
 "nbformat": 4,
 "nbformat_minor": 5
}
