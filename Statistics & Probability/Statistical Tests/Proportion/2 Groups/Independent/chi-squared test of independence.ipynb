{
 "cells": [
  {
   "cell_type": "markdown",
   "id": "03ec6b68",
   "metadata": {},
   "source": [
    "1. [Chi-squared Test for Independence](#chi-squared-test-for-independence)"
   ]
  },
  {
   "cell_type": "markdown",
   "id": "6b0f6fb6",
   "metadata": {},
   "source": [
    "#### Chi-squared Test for Independence:\n",
    "- uses 2 categorical variables with binary data for each\n",
    "- used to measure the proportion of both the categories and identify them if they are statistically different\n",
    "- to check if there is any association between the variables"
   ]
  },
  {
   "cell_type": "markdown",
   "id": "db08a778",
   "metadata": {},
   "source": [
    "##### Example:\n",
    "Question:\n",
    "- Campaign A\n",
    "    - sample size = 500\n",
    "    - leads = 45\n",
    "    - non leads = 455\n",
    "    - Proportion of leads = 45/500\n",
    "- Campaign B\n",
    "    - sample size = 600\n",
    "    - leads = 30\n",
    "    - non leads = 570 \n",
    "    - Proportion of leads = 30/600\n",
    "\n",
    "Answer:\n",
    "- Null Hypothesis = Proportion of campaign A = Proportion of campaign B\n",
    "- Alternate Hypothesis = Proportion of campaign A ≠ Proportion of campaign B\n",
    "- create contingency table\n",
    "\n",
    "| Campaign | Leads | Non-Leads | Total |\n",
    "|---|---|---|---|\n",
    "| Campaign A | 45 | 455 | 500 |\n",
    "| Campaign B | 30 | 570 | 600 |\n",
    "| Total | 75 | 1025 | 1100 |\n",
    "\n",
    "- calculate expected values\n",
    "    - Expected Frequency = (Row Total * Column Total) / Grand Total\n",
    "    - Expected (Lead, Campaign A) = (75 * 500) / 1100 = 34.09\n",
    "    - Expected (Lead, Campaign B) = (75 * 600) / 1100 = 40.91\n",
    "    - Expected (No Lead, Campaign A) = (1025 * 500) / 1100 = 465.91\n",
    "    - Expected (No Lead, Campaign B) = (1025 * 600) / 1100 = 559.09\n",
    "\n",
    "| Outcome | Campaign A | Campaign B | Total |\n",
    "| --- | --- | --- | --- |\n",
    "| Lead | 45 (34.09) | 30 (40.91) | 75 |\n",
    "| No Lead | 455 (465.91) | 570 (559.09) | 1025 |\n",
    "| Total | 500 | 600 | 1100 |\n",
    "- calculate the Chi-Squared Test Statistic (χ²)\n",
    "    - χ2 = ∑ (O−E)2/E ≈ 6.811\n",
    "- calculate the Degrees of Freedom (df)\n",
    "    - df=(R−1)×(C−1) = (2−1)×(2−1)=1×1=1\n",
    "    - where R rows and C columns\n",
    "- calculate the p-value\n",
    "    - using degree of freedom (1) & the test statisitc (6.811)\n",
    "    - p-value = <0.01\n",
    "- Hence the p-value (0.01) < significance level (0.05). Reject the null hypothesis"
   ]
  }
 ],
 "metadata": {
  "language_info": {
   "name": "python"
  }
 },
 "nbformat": 4,
 "nbformat_minor": 5
}
