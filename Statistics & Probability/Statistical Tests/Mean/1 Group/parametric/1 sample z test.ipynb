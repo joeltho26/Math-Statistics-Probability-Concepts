{
 "cells": [
  {
   "cell_type": "markdown",
   "id": "0888494a",
   "metadata": {},
   "source": [
    "1. [1 Sample Z Test](#1-sample-z-test)"
   ]
  },
  {
   "cell_type": "markdown",
   "metadata": {},
   "source": [
    "#### 1 Sample Z test:\n",
    "- used when the variable is following a distribution\n",
    "    -  normal, exponential, log-normal, and beta distributions.\n",
    "- used when we have samples >30 or when the population standard deviation is known\n",
    "- deals with 1 continuous numerical variable\n",
    "- used to compare the mean of 1 continuous numerical variable with the known mean population"
   ]
  },
  {
   "cell_type": "code",
   "execution_count": 1,
   "id": "7264bda9",
   "metadata": {},
   "outputs": [
    {
     "data": {
      "image/png": "[encoded data removed]",
      "text/plain": [
       "<PIL.Image.Image image mode=RGBA size=230x150>"
      ]
     },
     "metadata": {},
     "output_type": "display_data"
    }
   ],
   "source": [
    "from PIL import Image \n",
    "from IPython.display import display\n",
    "\n",
    "img = Image.open('images/ztest.png')\n",
    "new_image = img.resize((230, 150))\n",
    "display(new_image)"
   ]
  },
  {
   "cell_type": "markdown",
   "id": "a9ebeb0b",
   "metadata": {},
   "source": [
    "##### Example:\n",
    "Question:\n",
    "- μ = 175cm\n",
    "- σ = 7cm\n",
    "- n = 100\n",
    "- x` = 178\n",
    "- Find the z-test value, z critical value, significance level, p-value?\n",
    "\n",
    "Answer:\n",
    "- Null Hypothesis = 175\n",
    "- Alternate Hypothesis = 178\n",
    "- z-statistic value = (178-175)/(7/(100)^(1/2)) = (178-175)/(7/10) => 4.29\n",
    "- Significance level value = 0.05\n",
    "\n",
    "Comparing z critical value vs z-statistic:\n",
    "- refering the z table with significance level value\n",
    "- one tailed:\n",
    "    - z critical value = 1.96\n",
    "    - since z-statistic (4.29) greater than z critical value level value (1.96) then it denotes to reject the null hypothesis and accept the alternate hypothesis since its statistically significant\n",
    "- two tailed:\n",
    "    - z critical value = 1.645\n",
    "    - since z-statistic (4.29) greater than z critical value level value (1.645) then it denotes to reject the null hypothesis and accept the alternate hypothesis since its statistically significant\n",
    "\n",
    "Comparing p-value vs significance level:\n",
    "- p-value is referred from z distribution table with z-statistic value \n",
    "- one tailed:\n",
    "    - p-value(4.29) = 0.0001\n",
    "    - significance level value = 0.05\n",
    "    - since p-value (0.0001) less than significance level value (0.05) then it denotes to reject the null hypothesis and accept the alternate hypothesis since its statistically significant\n",
    "- two tailed:\n",
    "    - p-value(4.29) = = 0.0001\n",
    "    - significance level value = 0.05/2 => 0.025\n",
    "    - since p-value (0.0001) less than significance level value (0.025) then it denotes to reject the null hypothesis and accept the alternate hypothesis since its statistically significant"
   ]
  }
 ],
 "metadata": {
  "kernelspec": {
   "display_name": "Python 3",
   "language": "python",
   "name": "python3"
  },
  "language_info": {
   "codemirror_mode": {
    "name": "ipython",
    "version": 3
   },
   "file_extension": ".py",
   "mimetype": "text/x-python",
   "name": "python",
   "nbconvert_exporter": "python",
   "pygments_lexer": "ipython3",
   "version": "3.9.6"
  }
 },
 "nbformat": 4,
 "nbformat_minor": 5
}
