{
 "cells": [
  {
   "cell_type": "markdown",
   "id": "ae4ea194",
   "metadata": {},
   "source": [
    "1. [Paired Z test](#paired-z-test)"
   ]
  },
  {
   "cell_type": "markdown",
   "id": "2361b5ab",
   "metadata": {},
   "source": [
    "#### Paired Z test:\n",
    "- used to compare the mean of the sample before and after a condition and find the significance\n",
    "- used when we the known standard deviation for the population\n",
    "- uses 1 continuous variable, one with before and one with after a condition as a separate column/feature "
   ]
  },
  {
   "cell_type": "markdown",
   "id": "530a8afd",
   "metadata": {},
   "source": [
    "##### Example:\n",
    "Question:\n",
    "- n = 30\n",
    "- σ_d = 5\n",
    "- x̄_d = 3\n",
    "- significance level = 0.05\n",
    "\n",
    "Answer:\n",
    "- calculate the z statistic\n",
    "    - z-statistic = (x̄_d - μ_d) / (σ_d / √n) = 3 / (5/√30) = 3/0.91 => 3.297\n",
    "- Calculate the p-value(3.297)\n",
    "    - using the t-statistic value and referring it with z-table\n",
    "    - p-value =  2 * 0.0005 = 0.0010\n",
    "    - p-value (0.0010) < significance level (0.05). Therefore, change in mean of the sample before and after is statistically significant. We reject the null hypothesis by saying there is an effect after the condition "
   ]
  }
 ],
 "metadata": {
  "language_info": {
   "name": "python"
  }
 },
 "nbformat": 4,
 "nbformat_minor": 5
}
