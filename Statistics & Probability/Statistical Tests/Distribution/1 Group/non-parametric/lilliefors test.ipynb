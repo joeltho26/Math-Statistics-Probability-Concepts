{
 "cells": [
  {
   "cell_type": "markdown",
   "id": "cb44abb7",
   "metadata": {},
   "source": [
    "1. [Lilliefors Test](#lilliefors-test)"
   ]
  },
  {
   "cell_type": "markdown",
   "id": "fef6331d",
   "metadata": {},
   "source": [
    "#### Lilliefors Test:\n",
    "- used to determine whether a sample is normally distributed or not\n",
    "- uses 1 continuous variable "
   ]
  },
  {
   "cell_type": "markdown",
   "id": "f209b15f",
   "metadata": {},
   "source": [
    "##### Example:\n",
    "Question:\n",
    "- Values: 250, 265, 275, 245, 270, 260, 278, 255, 268, 272, 258, 277, 262\n",
    "- n = 30\n",
    "- Find the empirical CDF, CDF, D-statistic?\n",
    "\n",
    "Answer:\n",
    "- Null Hypothesis: follows normal distribution\n",
    "- Alternate Hypothesis: do not follow normal distribution\n",
    "- calculate the mean and the standard deviation of the sample   \n",
    "    - mean = 281.60\n",
    "    - standard deviation = 18.55\n",
    "- sort and calculate the frequency of the value\n",
    "| Values | Frequency | ECDF (Freq/total obs) | CDF | Difference of ECDF & CDF |\n",
    "| --- | --- | --- | --- | --- |\n",
    "| 245 | 1 | \n",
    "| 250 | 2 |\n",
    "| 255 | 3 |\n",
    "| 258 | 4 |\n",
    "| 260 | 5 |\n",
    "| 262 | 6 |\n",
    "| 265 | 7 |\n",
    "| 268 | 8 |\n",
    "| 270 | 9 |\n",
    "| 272 | 10 |\n",
    "| 275 | 11 |\n",
    "| 277 | 12 |\n",
    "| 278 | 13 |\n"
   ]
  },
  {
   "cell_type": "code",
   "execution_count": null,
   "id": "0f19f357",
   "metadata": {},
   "outputs": [
    {
     "name": "stdout",
     "output_type": "stream",
     "text": [
      "[245, 250, 255, 258, 260, 262, 265, 268, 270, 272, 275, 277, 278, 280, 282, 283, 285, 287, 288, 290, 292, 293, 295, 298, 300, 302, 305, 308, 310, 315]\n",
      "Counter({245: 1, 250: 1, 255: 1, 258: 1, 260: 1, 262: 1, 265: 1, 268: 1, 270: 1, 272: 1, 275: 1, 277: 1, 278: 1, 280: 1, 282: 1, 283: 1, 285: 1, 287: 1, 288: 1, 290: 1, 292: 1, 293: 1, 295: 1, 298: 1, 300: 1, 302: 1, 305: 1, 308: 1, 310: 1, 315: 1})\n",
      "[245 | 250 | 255 | 258 | 260 | 262 | 265 | 268 | 270 | 272 | 275 | 277 | 278 | 280 | 282 | 283 | 285 | 287 | 288 | 290 | 292 | 293 | 295 | 298 | 300 | 302 | 305 | 308 | 310 | 315]\n"
     ]
    }
   ],
   "source": [
    "from collections import Counter\n",
    "import re\n",
    "val = [250, 265, 275, 245, 270, 260, 278, 255, 268, 272, 258, 277, 262]\n",
    "val.sort()\n",
    "print(val)\n",
    "c = Counter(val)\n",
    "print(c)\n",
    "\n",
    "val = re.sub(r'[\\,]', ' |', str(val))\n",
    "print(val)\n",
    "\n"
   ]
  },
  {
   "cell_type": "code",
   "execution_count": 9,
   "id": "61a225f1",
   "metadata": {},
   "outputs": [
    {
     "name": "stdout",
     "output_type": "stream",
     "text": [
      "ECDF: [0.07692308 0.15384615 0.23076923 0.30769231 0.38461538 0.46153846\n",
      " 0.53846154 0.61538462 0.69230769 0.76923077 0.84615385 0.92307692\n",
      " 1.        ]\n",
      "ECDF (Previous Step): [0.         0.07692308 0.15384615 0.23076923 0.30769231 0.38461538\n",
      " 0.46153846 0.53846154 0.61538462 0.69230769 0.76923077 0.84615385\n",
      " 0.92307692]\n"
     ]
    }
   ],
   "source": [
    "import numpy as np\n",
    "n = 13\n",
    "ecdf = np.arange(1, n + 1) / n\n",
    "ecdf_prev = np.arange(0, n) / n\n",
    "print(f\"ECDF: {ecdf}\")\n",
    "print(f\"ECDF (Previous Step): {ecdf_prev}\")"
   ]
  },
  {
   "cell_type": "code",
   "execution_count": 10,
   "id": "bcaa416e",
   "metadata": {},
   "outputs": [
    {
     "name": "stdout",
     "output_type": "stream",
     "text": [
      "Counter({1005: 4, 1025: 4, 995: 3, 1015: 3, 975: 3, 1035: 3, 1055: 3, 985: 3, 1045: 3, 965: 3, 1065: 2, 950: 1, 1020: 1, 1080: 1, 980: 1, 1050: 1, 990: 1, 1010: 1, 970: 1, 1030: 1, 1000: 1, 1060: 1, 960: 1, 1040: 1, 1070: 1, 940: 1, 1090: 1})\n"
     ]
    }
   ],
   "source": [
    "val2 = [950, 1020, 1080, 980, 1050, 990, 1010, 970, 1030, 1000,\n",
    "1060, 960, 1040, 1070, 940, 1090, 1005, 995, 1025, 1015,\n",
    "975, 1035, 1055, 985, 1005, 1045, 965, 1025, 1065, 995,\n",
    "1015, 975, 1035, 1055, 985, 1005, 1045, 965, 1025, 1065,\n",
    "995, 1015, 975, 1035, 1055, 985, 1005, 1045, 965, 1025]\n",
    "c2 = Counter(val2)\n",
    "print(c2)"
   ]
  }
 ],
 "metadata": {
  "kernelspec": {
   "display_name": "Python 3",
   "language": "python",
   "name": "python3"
  },
  "language_info": {
   "codemirror_mode": {
    "name": "ipython",
    "version": 3
   },
   "file_extension": ".py",
   "mimetype": "text/x-python",
   "name": "python",
   "nbconvert_exporter": "python",
   "pygments_lexer": "ipython3",
   "version": "3.9.6"
  }
 },
 "nbformat": 4,
 "nbformat_minor": 5
}
