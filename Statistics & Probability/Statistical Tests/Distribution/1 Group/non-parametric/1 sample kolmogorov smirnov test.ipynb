{
 "cells": [
  {
   "cell_type": "markdown",
   "id": "f2bf987c",
   "metadata": {},
   "source": [
    "1. [1 Sample Kolmogorov Smirnov Test](#1-sample-kolmogorov-smirnov)"
   ]
  },
  {
   "cell_type": "markdown",
   "id": "e883dbc3",
   "metadata": {},
   "source": [
    "#### 1 Sample Kolmogorov Smirnov:\n",
    "- its a non-parametric test used when the variable is not following a distribution\n",
    "    - Unlike normal, exponential, log-normal, and beta distributions.\n",
    "- used for 1 continuous variable\n",
    "- used to check if the variable follows a specific distribution or not\n",
    "    - normal, exponential, uniform, Poisson"
   ]
  },
  {
   "cell_type": "markdown",
   "id": "02d6ac8f",
   "metadata": {},
   "source": [
    "##### Example:\n",
    "Question:\n",
    "- Values: 0.5, 1.2, 0.8, 2.1, 0.3, 1.5, 0.9, 2.5, 0.6\n",
    "- n = 50\n",
    "- Find the empirical CDF, CDF, D-statistic?\n",
    "\n",
    "Answers:\n",
    "- Null hypothesis = Exponential distribution\n",
    "- Alternate Hypothesis = Not a Exponential distribution\n",
    "- significance level = 0.05\n",
    "- calculate the ECDF (Empirical Cumulative Distribution Function)\n",
    "    - Sort the data in ascending order\n",
    "    - Calculate the frequency of the values\n",
    "        - eg: ≤ 0.1\n",
    "            - freq = 1/50\n",
    "        - eg: ≤ 0.2\n",
    "            - freq = 2/50\n",
    "        - eg: ≤ 0.3\n",
    "            - freq = 5/50\n",
    "        - likewise, we preat for all the values\n",
    "    - ECDF = (Frequency of the value)/n, <= total number of observations (n)\n",
    "        - eg: 0.5 => 2/50 => 1/25 => 0.04\n",
    "    - Likewise, we repeat the same for all the values\n",
    "- calculate the Theoretical CDF\n",
    "    - mean = 1.358\n",
    "    - λ = 1/1.358 = 0.736\n",
    "    - substitute the λ in the CDF function for exponential distribution for each values\n",
    "        -  F(x,λ) = 1-e^(-λx)\n",
    "        - eg: 0.5:\n",
    "            - CDF = 1-e^(-λx) => 1-e^(-(0.5*0.736)) => 0.308\n",
    "        - likewise, repeat the same for all the values\n",
    "- Calculate D statistic:\n",
    "    - absolute difference between ECDF & Theoretical CDF\n",
    "    - eg: |0.308-0.04| = 0.268\n",
    "    - likewise, we repeat the same for all the values and find the record which has the highest difference value\n",
    "        - eg: 0.468 (maximum)\n",
    "- Get the critical value from the KS table\n",
    "    - refer the KS table with number of samples (observations) and significance level value intersecting\n",
    "        - n = 50, significance level = 0.05 => 0.19\n",
    "- Since the test statistic value (D=0.468) > critical value (0.19), we reject the null hypothesis"
   ]
  },
  {
   "cell_type": "code",
   "execution_count": 3,
   "id": "4faf92e9",
   "metadata": {},
   "outputs": [
    {
     "name": "stdout",
     "output_type": "stream",
     "text": [
      "[0.1, 0.2, 0.2, 0.3, 0.3, 0.4, 0.4, 0.5, 0.5, 0.6, 0.6, 0.7, 0.7, 0.8, 0.8, 0.9, 0.9, 0.9, 1.0, 1.0, 1.1, 1.1, 1.2, 1.2, 1.3, 1.3, 1.4, 1.4, 1.5, 1.5, 1.6, 1.6, 1.7, 1.7, 1.8, 1.8, 1.9, 1.9, 2.0, 2.1, 2.1, 2.2, 2.3, 2.4, 2.5, 2.5, 2.6, 2.7, 2.8, 2.9]\n"
     ]
    }
   ],
   "source": [
    "val = [0.5, 1.2, 0.8, 2.1, 0.3, 1.5, 0.9, 2.5, 0.6, 1.8, 1.1, 0.4, 1.9, 0.7, 2.3, 1.0, 1.6, 0.2, 2.7, 1.3, 0.9, 2.0, 0.5, 1.7, 2.9, 1.4, 0.1, 2.2, 0.8, 1.5, 1.2, 0.6, 2.4, 1.1, 1.8, 0.3, 2.6, 0.7, 1.9, 1.0, 1.6, 0.4, 2.8, 1.3, 2.1, 0.9, 1.7, 0.2, 2.5, 1.4]\n",
    "val.sort()\n",
    "print(val)"
   ]
  },
  {
   "cell_type": "code",
   "execution_count": null,
   "id": "0cff5fbb",
   "metadata": {},
   "outputs": [],
   "source": []
  }
 ],
 "metadata": {
  "kernelspec": {
   "display_name": "Python 3",
   "language": "python",
   "name": "python3"
  },
  "language_info": {
   "codemirror_mode": {
    "name": "ipython",
    "version": 3
   },
   "file_extension": ".py",
   "mimetype": "text/x-python",
   "name": "python",
   "nbconvert_exporter": "python",
   "pygments_lexer": "ipython3",
   "version": "3.9.6"
  }
 },
 "nbformat": 4,
 "nbformat_minor": 5
}
