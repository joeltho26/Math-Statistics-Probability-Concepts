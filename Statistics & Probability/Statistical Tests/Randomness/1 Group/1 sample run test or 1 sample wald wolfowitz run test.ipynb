{
 "cells": [
  {
   "cell_type": "markdown",
   "id": "75b98145",
   "metadata": {},
   "source": [
    "1. [1 Sample Run test](#1-sample-run-test)"
   ]
  },
  {
   "cell_type": "markdown",
   "id": "bd1f5dcd",
   "metadata": {},
   "source": [
    "#### 1 Sample Run test:\n",
    "- used to find the randomness in the sequence of binary data\n",
    "- used with binary categorical variable or continuous value (convert them into binary variables based on median calculation)"
   ]
  },
  {
   "cell_type": "markdown",
   "id": "4e2d2b0b",
   "metadata": {},
   "source": [
    "##### Example:\n",
    "Question:\n",
    "- Temperature values: 23, 24, 25, 25, 26, 26, 27, 28, 28, 29, 30, 30, 31, 31, 32\n",
    "\n",
    "Answer:\n",
    "n = 15\n",
    "- Calculate the median value\n",
    "    - 28 is the median value\n",
    "\n",
    "- Convert to a Binary Sequence\n",
    "    - we discard values equal to the median value\n",
    "    - value lesser than median is denoted as \"-\"\n",
    "    - value greater than median is denoted as \"+\"\n",
    "    - [-,-,+,+,+,-,-,-,-,-,+,+,+]\n",
    "\n",
    "- Identify the Runs:\n",
    "    - Run 1: 2\n",
    "    - Run 2: 3\n",
    "    - Run 3: 5\n",
    "    - Run 4: 3\n",
    "    - Therefore the total runs (R) is 4\n",
    "\n",
    "- Calculate the count of \"+\" & \"-\"\n",
    "    - \"+\" (n1) = 6\n",
    "    - \"-\" (n2) = 7\n",
    "    - total count of \"+\" & \"-\" = 13\n",
    "\n",
    "- Calculate the Expected Number of Runs and Variance\n",
    "    - μ = (2 * n1 * n2) / (n1 + n2) + 1 = 7.46\n",
    "    - σ² = [2 * n1 * n2 * (2 * n1 * n2 - n1 - n2)] / [(n1 + n2)² * (n1 + n2 - 1)] = 2.94\n",
    "        - σ = 1.72        \n",
    "\n",
    "- Calculate the Test Statistic\n",
    "    - Z = (R - μ) / σ = (4-7.46)/1.72 => 2.01\n",
    "\n",
    "- Calculate the p-value\n",
    "    - refer the z table using test statistic value (2.01)\n",
    "        - p-value = 0.0174\n",
    "        \n",
    "Now, the p-value (0.0174) < significance level value (0.05). We reject the null hypothesis of randomness\n"
   ]
  }
 ],
 "metadata": {
  "language_info": {
   "name": "python"
  }
 },
 "nbformat": 4,
 "nbformat_minor": 5
}
