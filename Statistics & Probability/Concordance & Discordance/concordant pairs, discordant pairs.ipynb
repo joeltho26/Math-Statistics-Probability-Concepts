{
 "cells": [
  {
   "cell_type": "markdown",
   "metadata": {},
   "source": [
    "1. [Concordant Pairs](#concordant-pairs)\n",
    "2. [Discoradant Pairs](#discoradant-pairs)"
   ]
  },
  {
   "cell_type": "markdown",
   "metadata": {},
   "source": [
    "#### Concordant Pairs:\n",
    "- making 2 separate observations on two variables\n",
    "    - observation 1: identifying that value of variable one is higher and so is the value of variable two.\n",
    "    - observation 2: identifying the same relationship as observation 1\n",
    "    - eg: \n",
    "        - x = 170, y = 80\n",
    "        - x = 180, y = 90\n",
    "- there is an order in the observations"
   ]
  },
  {
   "cell_type": "markdown",
   "metadata": {},
   "source": [
    "#### Discoradant Pairs:\n",
    "- making 2 separate observations on two variables\n",
    "    - observation 1: identifying that value of variable one is higher and so is the value of variable two.\n",
    "    - observation 2: identifying that value of variable one is higher but the value of variable two is lower.\n",
    "    - eg: \n",
    "        - x = 170, y = 80\n",
    "        - x = 180, y = 70\n",
    "- there is no order in the observations"
   ]
  }
 ],
 "metadata": {
  "language_info": {
   "name": "python"
  }
 },
 "nbformat": 4,
 "nbformat_minor": 2
}
