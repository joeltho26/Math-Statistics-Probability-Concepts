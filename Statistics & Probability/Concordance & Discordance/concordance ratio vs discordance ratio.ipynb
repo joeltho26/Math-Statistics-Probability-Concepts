{
 "cells": [
  {
   "cell_type": "markdown",
   "metadata": {},
   "source": [
    "1. [Concordance Ratio/Rate](#concordance-ratiorate)\n",
    "1. [Discordance Ratio/Rate](#discordance-ratiorate)"
   ]
  },
  {
   "cell_type": "markdown",
   "metadata": {},
   "source": [
    "#### Concordance Ratio/Rate:\n",
    "- it is the proportion of pairs for which the predictions are similar to actual outcomes or are eventually consistent"
   ]
  },
  {
   "cell_type": "markdown",
   "metadata": {},
   "source": [
    "#### Discordance Ratio/Rate:\n",
    "- it is the proportion of pairs for which the predictions are dissimilar to actual outcomes or are not eventually consistent"
   ]
  }
 ],
 "metadata": {
  "language_info": {
   "name": "python"
  }
 },
 "nbformat": 4,
 "nbformat_minor": 2
}
