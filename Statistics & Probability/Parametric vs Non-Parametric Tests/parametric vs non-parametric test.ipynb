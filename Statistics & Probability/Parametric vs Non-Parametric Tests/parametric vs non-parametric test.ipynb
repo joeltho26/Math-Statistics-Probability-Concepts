{
 "cells": [
  {
   "cell_type": "markdown",
   "metadata": {},
   "source": [
    "1. [Parametric Test](#parametric-test)\n",
    "2. [Non-Parametric Test](#non-parametric-test)"
   ]
  },
  {
   "cell_type": "markdown",
   "metadata": {},
   "source": [
    "#### Parametric Test:\n",
    "- test which are applied data that follow a specific distribution such as normal, uniform, etc"
   ]
  },
  {
   "cell_type": "markdown",
   "metadata": {},
   "source": [
    "#### Non-Parametric Test:\n",
    "- test which are applied data that do not follow a specific distribution"
   ]
  }
 ],
 "metadata": {
  "language_info": {
   "name": "python"
  }
 },
 "nbformat": 4,
 "nbformat_minor": 2
}
