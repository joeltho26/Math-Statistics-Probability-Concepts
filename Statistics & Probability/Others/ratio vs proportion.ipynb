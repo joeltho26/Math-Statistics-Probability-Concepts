{
 "cells": [
  {
   "cell_type": "markdown",
   "metadata": {},
   "source": [
    "1. [Ratio](#ratio)\n",
    "2. [Proportion](#proportion)"
   ]
  },
  {
   "cell_type": "markdown",
   "metadata": {},
   "source": [
    "#### Ratio:\n",
    "- is the comparion to 2 numbers or quantities in relevance to the overall quantity\n",
    "- applicable to 2 or more quantities\n",
    "- eg: Cook rice with 2:1 of rice and water\n",
    "    - overall quantity: 3"
   ]
  },
  {
   "cell_type": "markdown",
   "metadata": {},
   "source": [
    "#### Proportion:\n",
    "- is the ratio of quantities and ensuring the same ratio is maintained throughout\n",
    "- eg: cook rice with 2:1 or 4:2 ratio of rice and water based on the number of people"
   ]
  }
 ],
 "metadata": {
  "language_info": {
   "name": "python"
  }
 },
 "nbformat": 4,
 "nbformat_minor": 2
}
