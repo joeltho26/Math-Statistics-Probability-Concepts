{
 "cells": [
  {
   "cell_type": "markdown",
   "metadata": {},
   "source": [
    "1. [ExtraTrees - Ensemble](#extratrees---ensemble)"
   ]
  },
  {
   "cell_type": "markdown",
   "metadata": {},
   "source": [
    "#### ExtraTrees - Ensemble:\n",
    "- Its very closely related to Random forest except the split and bootstrap\n",
    "- split is completely random, whereas Random Forest is based on best split\n",
    "- Bootstrap here it either uses the whole dataset for bootstrap dataset or the bootstrap dataset with sampling without replacement option (pasting)\n",
    "- For regression:\n",
    "    - take the average of values as the output\n",
    "- For classification:\n",
    "    - take the majority of votes as the output"
   ]
  },
  {
   "cell_type": "markdown",
   "metadata": {},
   "source": [
    "Classifier:"
   ]
  },
  {
   "cell_type": "code",
   "execution_count": null,
   "metadata": {},
   "outputs": [],
   "source": [
    "class sklearn.ensemble.RandomForestClassifier(n_estimators=100, \n",
    "                                              *, \n",
    "                                              criterion='gini', \n",
    "                                              max_depth=None, \n",
    "                                              min_samples_split=2,\n",
    "                                              min_samples_leaf=1, \n",
    "                                              min_weight_fraction_leaf=0.0, \n",
    "                                              max_features='sqrt', \n",
    "                                              max_leaf_nodes=None, \n",
    "                                              min_impurity_decrease=0.0, \n",
    "                                              bootstrap=True, \n",
    "                                              oob_score=False, \n",
    "                                              n_jobs=None, \n",
    "                                              random_state=None, \n",
    "                                              verbose=0, \n",
    "                                              warm_start=False, \n",
    "                                              class_weight=None, \n",
    "                                              ccp_alpha=0.0, \n",
    "                                              max_samples=None, \n",
    "                                              monotonic_cst=None)"
   ]
  },
  {
   "cell_type": "markdown",
   "metadata": {},
   "source": [
    "Regressor:"
   ]
  },
  {
   "cell_type": "code",
   "execution_count": null,
   "metadata": {},
   "outputs": [],
   "source": [
    "class sklearn.ensemble.RandomForestClassifier(n_estimators=100, \n",
    "                                              *, \n",
    "                                              criterion='squared_error', \n",
    "                                              max_depth=None, \n",
    "                                              min_samples_split=2,\n",
    "                                              min_samples_leaf=1, \n",
    "                                              min_weight_fraction_leaf=0.0, \n",
    "                                              max_features='sqrt', \n",
    "                                              max_leaf_nodes=None, \n",
    "                                              min_impurity_decrease=0.0, \n",
    "                                              bootstrap=True, \n",
    "                                              oob_score=False, \n",
    "                                              n_jobs=None, \n",
    "                                              random_state=None, \n",
    "                                              verbose=0, \n",
    "                                              warm_start=False, \n",
    "                                              class_weight=None, \n",
    "                                              ccp_alpha=0.0, \n",
    "                                              max_samples=None, \n",
    "                                              monotonic_cst=None)"
   ]
  }
 ],
 "metadata": {
  "kernelspec": {
   "display_name": "Python 3",
   "language": "python",
   "name": "python3"
  },
  "language_info": {
   "name": "python",
   "version": "3.9.6"
  }
 },
 "nbformat": 4,
 "nbformat_minor": 2
}
