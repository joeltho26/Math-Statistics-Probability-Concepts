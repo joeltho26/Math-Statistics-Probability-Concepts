{
 "cells": [
  {
   "cell_type": "markdown",
   "metadata": {},
   "source": [
    "1. [Random Forest - Regression](#random-forest---regression)"
   ]
  },
  {
   "cell_type": "markdown",
   "metadata": {},
   "source": [
    "#### Random Forest - Regression:\n",
    "- its a technique in ensemble\n",
    "- it is homogenous i.e. supports only one type of models at a time\n",
    "- estimator used here is Decision Trees\n",
    "- it build a forest of decision trees in parallel\n",
    "- it provides option to bootstrap\n",
    "    - row sampling with replacement \n",
    "        - the samples of the dataset is used for model training and the associated samples from the dataset is not removed. So the samples chosen and used for other models can have overlaps but not completely the same\n",
    "        - sample 'm' i.e. 'm1' for Model 1,'m2' for Model 2,'m3' for Model 3,...until 'mK' for ModelK      \n",
    "        - dataset 'n'\n",
    "        - m < n\n",
    "        - m could have overlaps of datapoints\n",
    "    - feature sampling with replacement\n",
    "- uses voting classifier to perform aggregation based on the output from the models in parallel\n",
    "    - w.r.t classification problem => it takes the majority of the votes and assigns the output class\n",
    "- oob_score: \n",
    "    - about 1/3 of data does not end up in the bootstrap dataset\n",
    "    - During bootstrapping, we generate N samples for N Models. \n",
    "    - Each time, there are a number of datapoints left out from the original dataset.\n",
    "    - Those left out datapoints can be used for prediction \n",
    "        - regression: average the values\n",
    "    - compares the actual result with the predicted result\n",
    "- collection of decision trees will convert the high variance and low bias to low variance and low bias"
   ]
  },
  {
   "cell_type": "code",
   "execution_count": null,
   "metadata": {},
   "outputs": [],
   "source": [
    "class sklearn.ensemble.RandomForestClassifier(n_estimators=100, \n",
    "                                              *, \n",
    "                                              criterion='squared_error', \n",
    "                                              max_depth=None, \n",
    "                                              min_samples_split=2,\n",
    "                                              min_samples_leaf=1, \n",
    "                                              min_weight_fraction_leaf=0.0, \n",
    "                                              max_features='sqrt', \n",
    "                                              max_leaf_nodes=None, \n",
    "                                              min_impurity_decrease=0.0, \n",
    "                                              bootstrap=True, \n",
    "                                              oob_score=False, \n",
    "                                              n_jobs=None, \n",
    "                                              random_state=None, \n",
    "                                              verbose=0, \n",
    "                                              warm_start=False, \n",
    "                                              class_weight=None, \n",
    "                                              ccp_alpha=0.0, \n",
    "                                              max_samples=None, \n",
    "                                              monotonic_cst=None)"
   ]
  }
 ],
 "metadata": {
  "kernelspec": {
   "display_name": "Python 3",
   "language": "python",
   "name": "python3"
  },
  "language_info": {
   "codemirror_mode": {
    "name": "ipython",
    "version": 3
   },
   "file_extension": ".py",
   "mimetype": "text/x-python",
   "name": "python",
   "nbconvert_exporter": "python",
   "pygments_lexer": "ipython3",
   "version": "3.9.6"
  }
 },
 "nbformat": 4,
 "nbformat_minor": 2
}
