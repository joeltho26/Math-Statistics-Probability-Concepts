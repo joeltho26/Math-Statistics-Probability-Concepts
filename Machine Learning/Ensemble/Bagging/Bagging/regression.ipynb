{
 "cells": [
  {
   "cell_type": "markdown",
   "metadata": {},
   "source": [
    "1. [Bagging - Regression](#bagging-regression)"
   ]
  },
  {
   "cell_type": "markdown",
   "metadata": {},
   "source": [
    "#### Bagging - Regression:\n",
    "- its a technique in ensemble\n",
    "- it is homogenous i.e. supports only one type of models at a time\n",
    "- we can use any estimator (Machine Learning Algorithm)\n",
    "- it build models in parallel\n",
    "- perform bootstrap aggregation \n",
    "    - Bootstrap:\n",
    "        - row sampling with replacement\n",
    "        - includes all features\n",
    "            - we can also perform feature sampling without replacement\n",
    "    - Aggregation:\n",
    "        - takes the average of the model output values connected in parallel as the predicted value\n",
    "- oob_score: \n",
    "    - about 1/3 of data does not end up in the bootstrap dataset\n",
    "    - During bootstrapping, we generate N samples for N Models. \n",
    "    - Each time, there are a number of datapoints left out from the original dataset.\n",
    "    - Those left out datapoints can be used for prediction \n",
    "        - regression: average the values\n",
    "    - compares the actual result with the predicted result"
   ]
  },
  {
   "cell_type": "code",
   "execution_count": null,
   "metadata": {},
   "outputs": [],
   "source": [
    "class sklearn.ensemble.BaggingClassifier(estimator=None, \n",
    "                                         n_estimators=10, \n",
    "                                         *, \n",
    "                                         max_samples=1.0, \n",
    "                                         max_features=1.0, \n",
    "                                         bootstrap=True, \n",
    "                                         bootstrap_features=False, \n",
    "                                         oob_score=False, \n",
    "                                         warm_start=False, \n",
    "                                         n_jobs=None, \n",
    "                                         random_state=None, \n",
    "                                         verbose=0)"
   ]
  }
 ],
 "metadata": {
  "kernelspec": {
   "display_name": "Python 3",
   "language": "python",
   "name": "python3"
  },
  "language_info": {
   "name": "python",
   "version": "3.9.6"
  }
 },
 "nbformat": 4,
 "nbformat_minor": 2
}
