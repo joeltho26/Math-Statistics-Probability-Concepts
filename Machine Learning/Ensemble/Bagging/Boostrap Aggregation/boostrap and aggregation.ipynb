{
 "cells": [
  {
   "cell_type": "markdown",
   "id": "b2fa4837",
   "metadata": {},
   "source": [
    "1. [Bootstrap Aggregation](#bootstrap-aggregation)"
   ]
  },
  {
   "cell_type": "markdown",
   "id": "630c1981",
   "metadata": {},
   "source": [
    "#### Bootstrap Aggregation:\n",
    "- Bootstrap:\n",
    "    - row sampling with replacement \n",
    "        - the samples of the dataset is used for model training and the associated samples from the dataset is not removed. So the samples chosen and used for other models can have overlaps but not completely the same\n",
    "        - sample 'm' i.e. 'm1' for Model 1,'m2' for Model 2,'m3' for Model 3,...until 'mK' for ModelK      \n",
    "        - dataset 'n'\n",
    "        - m < n\n",
    "        - m could have overlaps of datapoints\n",
    "    - row sampling without replacement \n",
    "        - the samples of the dataset is used for model training and the associated samples from the dataset is removed. So the samples chosen and used for other models are completely different\n",
    "            - might experience BIAS\n",
    "        - sample 'm' i.e. 'm1' for Model 1,'m2' for Model 2,'m3' for Model 3,...until 'mK' for ModelK      \n",
    "        - dataset 'n'\n",
    "        - m < n\n",
    "        - m have no overlaps and consist of completely different datapoints\n",
    "    - feature sampling with replacement (True) or feature sampling without replacement(False), default=False"
   ]
  },
  {
   "cell_type": "markdown",
   "id": "414b3e4b",
   "metadata": {},
   "source": [
    "- Aggregation:\n",
    "    - uses hard or soft voting classifier to perform aggregation based on the output from the models in parallel\n",
    "    - w.r.t classification problem:\n",
    "        - hard voting: it takes the majority of the votes and assigns the output class\n",
    "        - soft voting: it takes the probability of the votes on each class and takes the average find the class label with the highest probability average and assigns the output class\n",
    "    - w.r.t regression problem:\n",
    "        - takes the average of the values from the models in parallel and finally assigns the output value of the model"
   ]
  }
 ],
 "metadata": {
  "language_info": {
   "name": "python"
  }
 },
 "nbformat": 4,
 "nbformat_minor": 5
}
