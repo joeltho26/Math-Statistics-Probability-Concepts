{
 "cells": [
  {
   "cell_type": "markdown",
   "metadata": {},
   "source": [
    "1. [Soft Voting Classifier](#soft-voting-classifier)"
   ]
  },
  {
   "cell_type": "markdown",
   "metadata": {},
   "source": [
    "#### Soft Voting Classifier:\n",
    "- it used to perform aggregation in the bagging approach\n",
    "- it discard the use of counting just the majority of votes to predict the output class but instead it uses probabilities of the labels and averaging them based on the number of models to predict the final output class"
   ]
  }
 ],
 "metadata": {
  "language_info": {
   "name": "python"
  }
 },
 "nbformat": 4,
 "nbformat_minor": 2
}
