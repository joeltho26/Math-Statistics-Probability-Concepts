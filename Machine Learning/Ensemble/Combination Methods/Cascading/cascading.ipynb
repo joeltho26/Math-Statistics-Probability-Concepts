{
 "cells": [
  {
   "cell_type": "markdown",
   "id": "b1b85c3e",
   "metadata": {},
   "source": [
    "1. [Cascading](#cascading)"
   ]
  },
  {
   "cell_type": "markdown",
   "metadata": {},
   "source": [
    "#### Cascading:\n",
    "- Base learners are trained sequentially, and each learner only focuses on the instances that the previous learners misclassified"
   ]
  }
 ],
 "metadata": {
  "language_info": {
   "name": "python"
  }
 },
 "nbformat": 4,
 "nbformat_minor": 5
}
