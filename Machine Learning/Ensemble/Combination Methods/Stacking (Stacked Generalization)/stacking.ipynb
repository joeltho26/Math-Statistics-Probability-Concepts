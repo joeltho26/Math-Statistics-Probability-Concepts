{
 "cells": [
  {
   "cell_type": "markdown",
   "metadata": {},
   "source": [
    "1. [Stacking](#stacking)"
   ]
  },
  {
   "cell_type": "markdown",
   "metadata": {},
   "source": [
    "#### Stacking:\n",
    "- It is different from bagging and blending\n",
    "- it is heterogenous i.e. supports different types of models (eg: 3 models: Logistic Regression, Neural Networks, SVM)\n",
    "- It separates the original dataset into train (75 records) and test set (25 records)\n",
    "    - consider the dataset has 3 features and 1 target variable (binary)\n",
    "- Then, we split the train data into again 80% train (65 records) and 20% validation or holdout set (15 records)\n",
    "- We perform K fold cross validation of the 75 records\n",
    "    - therefore having different samples in training and holdout or validation set\n",
    "- Then, we apply the below steps to each cross validation set at a time\n",
    "- At first the train set (65 records) is used train the base models one at a time\n",
    "- Then, we use the holdout set to perform predictions on the trained base model\n",
    "    - we will have predictions for 15 records \n",
    "- The output from the 3 models Logistic Regression, Neural Networks, SVM along with the target variable is considered as the input features for the meta model\n",
    "    - training set for meta model (for 15 records) eg: 1 record shown below\n",
    "        -   LR  |   NN  |   SVM |   Target   \n",
    "        1.   1   |   0   |   1   |   0 \n",
    "        2.   1   |   0   |   1   |   0\n",
    "        -  .... (upto 15)     \n",
    "- meta model is the next model which are used continuing the stacking approach (only one model is recommended)\n",
    "- the predictions from the meta model are the final model outputs and the model performance is evaluated"
   ]
  }
 ],
 "metadata": {
  "language_info": {
   "name": "python"
  }
 },
 "nbformat": 4,
 "nbformat_minor": 2
}
