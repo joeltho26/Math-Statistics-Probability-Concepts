{
 "cells": [
  {
   "cell_type": "markdown",
   "metadata": {},
   "source": [
    "1. [Bayesian Model Averaging](#bayesian-model-averaging)"
   ]
  },
  {
   "cell_type": "markdown",
   "metadata": {},
   "source": [
    "#### Bayesian Model Averaging:\n",
    "Link: https://www.kaggle.com/code/billbasener/bayesian-model-averaging-regression-tutorial\n",
    "\n",
    "- it is different from stacking, blending, bagging, boosting, etc\n",
    "\n",
    "Process of Bayesian Model Averaging:\n",
    "- Assume prior probabilities for the models\n",
    "- Calculate the marginal likelihoods for the models for the observed target values\n",
    "    - Likelihood(y|Model 1) = 0.6\n",
    "    - Likelihood(y|Model 2) = 0.8\n",
    "- Using bayes theorem to calculate the posterior probability of each model\n",
    "    - Normalizing Constant = (Likelihood(y|Model 1) * P(Model 1)) + (Likelihood(y|Model 2) * P(Model 2)) = (0.6*0.5) + (0.8*0.5) = 0.3+0.4 = 0.7\n",
    "    - P(Model 1|y) = (Likelihood(y|Model 1) * P(Model 1)) / Normalizing Constant = (0.6*0.5)/0.7 = 0.3/0.7 = 0.4286\n",
    "    - P(Model 2|y) = (Likelihood(y|Model 2) * P(Model 2)) / Normalizing Constant = (0.8*0.5)/0.7 = 0.4/0.7 = 0.5714\n",
    "- Prediction of each model\n",
    "    - Model 1 prediction: T1 = 30\n",
    "    - Model 2 prediction: T2 = 33\n",
    "- Final weighted average of predictions from each model\n",
    "    - Final prediction = (P(Model 1|y) * T1) + (P(Model 2|y) * T2) = (0.4286 * 30) + (0.5714 * 33) = 12.858 + 18.856 = 31.714"
   ]
  }
 ],
 "metadata": {
  "kernelspec": {
   "display_name": "Python 3",
   "language": "python",
   "name": "python3"
  },
  "language_info": {
   "codemirror_mode": {
    "name": "ipython",
    "version": 3
   },
   "file_extension": ".py",
   "mimetype": "text/x-python",
   "name": "python",
   "nbconvert_exporter": "python",
   "pygments_lexer": "ipython3",
   "version": "3.9.6"
  }
 },
 "nbformat": 4,
 "nbformat_minor": 2
}
