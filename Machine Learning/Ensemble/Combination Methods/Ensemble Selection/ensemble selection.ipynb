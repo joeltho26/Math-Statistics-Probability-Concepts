{
 "cells": [
  {
   "cell_type": "markdown",
   "metadata": {},
   "source": [
    "1. [Ensemble Selection](#ensemble-selection)"
   ]
  },
  {
   "cell_type": "markdown",
   "metadata": {},
   "source": [
    "#### Ensemble Selection:\n",
    "Greedy Forward Selection:\n",
    "- At first, we consider list of Machine Learning models\n",
    "- We split the dataset into train and vqalidation set\n",
    "- We train the list of models with the train set\n",
    "    - classifier A (Logistic Regression)\n",
    "    - classifier B (Decision Tree)\n",
    "    - classifier C (Support Vector Machine)\n",
    "    - classifier D (K-Nearest Neighbours)\n",
    "    - classifier E (Naive Bayes)\n",
    "- now we evaluate the performance of the models via validation set (aacuracy)\n",
    "    - A: 80%\n",
    "    - B: 70%\n",
    "    - C: 90%\n",
    "    - D: 80%\n",
    "    - E: 70%\n",
    "- comparing all the models, we choose the model which has the highest accuracy\n",
    "    - model C with 90%\n",
    "- now we combine the model C with other remaining models (A,B,D,E)\n",
    "    - we found C+D yielded the highest accuracy score with 95%\n",
    "- now we combine the model C+A with other remaining models (A,B,E)\n",
    "    - we did not find any combination of model with higher accruacy than C+D\n",
    "- Thus the final model is C+D in ensemble selection"
   ]
  }
 ],
 "metadata": {
  "language_info": {
   "name": "python"
  }
 },
 "nbformat": 4,
 "nbformat_minor": 2
}
