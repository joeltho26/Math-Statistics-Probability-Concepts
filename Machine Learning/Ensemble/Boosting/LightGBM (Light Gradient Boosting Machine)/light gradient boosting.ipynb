{
 "cells": [
  {
   "cell_type": "markdown",
   "id": "0aa2a788",
   "metadata": {},
   "source": [
    "1. [Light Gradient Boosting](#light-gradient-boosting)"
   ]
  },
  {
   "cell_type": "markdown",
   "id": "45e34ed8",
   "metadata": {},
   "source": [
    "#### Light Gradient Boosting:\n",
    "- faster, efficient, handle complex dataset\n",
    "- uses histogram binning for splitting the node:\n",
    "    - instead of finding the best split for numerical feature by calculating the average of adjacent records and calculating the gini index or RSS or entropy\n",
    "- uses exclusive feature bunding:\n",
    "    - it combines two features into one thereby reducing the number of feature and eliminating the curse of dimensionality\n",
    "    - eg: Male & Female features with separate columnn is combined into 1 feature with column name as gender\n",
    "- uses Gradient one side sampling:\n",
    "    - chooses data points with larger gradient (20% of data points from the whole dataset) and also randomly selects a fewer sample data points with lower gradients too (from the remaining 80% of data points we choose 10% of data points randomly)\n",
    "- leaf-wise tree growth:\n",
    "    - use the leaf which has largest loss reduction to split further\n",
    "    - the growth can be controlled via num_of_leaves and max_depth parameters\n",
    "- performs parallel and GPU learning"
   ]
  }
 ],
 "metadata": {
  "language_info": {
   "name": "python"
  }
 },
 "nbformat": 4,
 "nbformat_minor": 5
}
