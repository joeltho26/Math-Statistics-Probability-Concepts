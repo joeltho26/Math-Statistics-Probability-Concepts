{
 "cells": [
  {
   "cell_type": "markdown",
   "metadata": {},
   "source": [
    "1. [Pasting](#pasting)"
   ]
  },
  {
   "cell_type": "markdown",
   "metadata": {},
   "source": [
    "#### Pasting:\n",
    "- It does sampling without replacement\n",
    "    - the samples are different from each other and the samples used in Bootstrap dataset are removed from the original dataset. Therefore the next bootstrap dataset cannot have the samples which were used previously\n",
    "- It only works with row sampling and not feature sampling"
   ]
  }
 ],
 "metadata": {
  "language_info": {
   "name": "python"
  }
 },
 "nbformat": 4,
 "nbformat_minor": 2
}
