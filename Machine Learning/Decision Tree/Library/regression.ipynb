{
 "cells": [
  {
   "cell_type": "markdown",
   "metadata": {},
   "source": [
    "1. [Options of Decision Tree - Regression](#options-of-decision-tree---regression)"
   ]
  },
  {
   "cell_type": "markdown",
   "metadata": {},
   "source": [
    "#### Options of Decision Tree - Regression:"
   ]
  },
  {
   "cell_type": "code",
   "execution_count": null,
   "metadata": {},
   "outputs": [],
   "source": [
    "class sklearn.tree.DecisionTreeClassifier(*, \n",
    "criterion='squared_error', \n",
    "splitter='best', \n",
    "max_depth=None, \n",
    "min_samples_split=2, \n",
    "min_samples_leaf=1, \n",
    "min_weight_fraction_leaf=0.0, \n",
    "max_features=None, \n",
    "random_state=None, '\n",
    "max_leaf_nodes=None, \n",
    "min_impurity_decrease=0.0, \n",
    "class_weight=None, \n",
    "ccp_alpha=0.0, '\n",
    "monotonic_cst=None)"
   ]
  },
  {
   "cell_type": "markdown",
   "metadata": {},
   "source": [
    "Criterion: (to choose the splitting algorithms)\n",
    "- squared_error, friedman_mse, absolute_error, poisson\n",
    "- default = 'squared_error'\n",
    "\n",
    "splitter: \n",
    "- best (uses squared_error, friedman_mse, absolute_error, poisson), random\n",
    "- default = 'best'\n",
    "\n",
    "min_samples_split: (min number of samples to perform splitting of node)\n",
    "- 2 or any numerical values (int or float)\n",
    "- default = 2\n",
    "- if float, then we take the ceil(float value)\n",
    "\n",
    "max_depth: (depth of the decision tree)\n",
    "- None or any numerical values (int)\n",
    "- default = None\n",
    "\n",
    "min_samples_leaf: (min samples in the leaf node)\n",
    "- 1 or any numerical values (int or float)\n",
    "- default = 1\n",
    "\n",
    "min_weight_fraction_leaf: (min weight fraction required in the leaf node or else do not split the node)\n",
    "- 0.0 or any numerical values (float)\n",
    "- default = 0.0\n",
    "\n",
    "max_features: (number of features used for decision tree)\n",
    "- int, float, sqrt, log2\n",
    "- default = None\n",
    "    - uses all the features in the dataset\n",
    "\n",
    "min_impurity_decrease: (the splitting of node is not performed if there is an impurity less than the threshold value)\n",
    "- threshold value\n",
    "- float\n",
    "- default = 0.0\n",
    "\n",
    "max_leaf_nodes: (max number of leaf nodes permitted in decision tree)\n",
    "- int \n",
    "- default=None\n",
    "\n",
    "class_weight:\n",
    "- dict, list of dict or balanced \n",
    "- default=None\n",
    "- balanced => n_samples/ (n_classes * np.bincount(y))\n",
    "    - example below\n",
    "        - In this example, the output [1 3 1 2] indicates:\n",
    "            - 0 appears 1 time.\n",
    "            - 1 appears 3 times.\n",
    "            - 2 appears 1 time.\n",
    "            - 3 appears 2 times.\n",
    "            \n",
    "ccp_alpha: (cost complexity pruning)\n",
    "- used for pruning \n",
    "- α value (non-neagtive float)\n",
    "- default = 0.0\n",
    "\n",
    "monotonic_cst:\n",
    "- used when there are known monotonic relationships. i.e., higher credit scores should generally lead to lower loan risk\n",
    "- 1: monotonic increase\n",
    "- 0: no constraint\n",
    "- -1: monotonic decrease"
   ]
  },
  {
   "cell_type": "markdown",
   "metadata": {},
   "source": []
  }
 ],
 "metadata": {
  "kernelspec": {
   "display_name": "Python 3",
   "language": "python",
   "name": "python3"
  },
  "language_info": {
   "name": "python",
   "version": "3.9.6"
  }
 },
 "nbformat": 4,
 "nbformat_minor": 2
}
