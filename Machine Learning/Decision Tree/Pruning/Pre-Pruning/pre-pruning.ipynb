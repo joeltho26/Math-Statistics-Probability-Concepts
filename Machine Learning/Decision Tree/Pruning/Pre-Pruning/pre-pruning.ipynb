{
 "cells": [
  {
   "cell_type": "markdown",
   "metadata": {},
   "source": [
    "1. [Pre-prunning methods](#pre-prunning-methods)"
   ]
  },
  {
   "cell_type": "markdown",
   "metadata": {},
   "source": [
    "#### Pre-prunning methods:\n",
    "1. Set the number of samples for split\n",
    "2. Set the Information Gain threshold value\n",
    "3. Set the tree depth value to a threshold limit \n",
    "\n",
    "Note:\n",
    "- To choose the right number of samples for split, information gain threshold, tree depth via cross validation & hyper parameter tuning"
   ]
  }
 ],
 "metadata": {
  "language_info": {
   "name": "python"
  }
 },
 "nbformat": 4,
 "nbformat_minor": 2
}
