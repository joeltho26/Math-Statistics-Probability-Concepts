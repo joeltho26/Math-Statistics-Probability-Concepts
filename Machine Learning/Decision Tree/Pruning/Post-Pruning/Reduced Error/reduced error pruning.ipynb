{
 "cells": [
  {
   "cell_type": "markdown",
   "metadata": {},
   "source": [
    "1. [Reduced Error Pruning](#Reduced-error-pruning)"
   ]
  },
  {
   "cell_type": "markdown",
   "metadata": {},
   "source": [
    "#### Reduced Error Pruning:\n",
    "- At first, we build the full sized tree\n",
    "- After bulding the full sized tree, we calculate the accuracy or gini index or misclassification rate\n",
    "- Then, we start pruning the tree from bottom to top and while pruning, we check for improvement in performance of the tree\n",
    "- If there is an improvement noticed then the pruning of node is performed \n",
    "- If there is no improvement noticed then the pruning of node is not performed"
   ]
  }
 ],
 "metadata": {
  "language_info": {
   "name": "python"
  }
 },
 "nbformat": 4,
 "nbformat_minor": 2
}
