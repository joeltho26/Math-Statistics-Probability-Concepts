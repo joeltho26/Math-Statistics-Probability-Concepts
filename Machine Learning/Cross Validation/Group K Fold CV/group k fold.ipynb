{
 "cells": [
  {
   "cell_type": "markdown",
   "id": "b2b99149",
   "metadata": {},
   "source": [
    "1. [Group K Fold CV](#group-k-fold-cv)"
   ]
  },
  {
   "cell_type": "markdown",
   "id": "16fbbf05",
   "metadata": {},
   "source": [
    "#### Group K Fold CV:\n",
    "- it is a variant of K-fold CV\n",
    "- here it will perform K-fold cross validation based on a group i.e. based on the n_split "
   ]
  },
  {
   "cell_type": "code",
   "execution_count": 4,
   "id": "eda97781",
   "metadata": {},
   "outputs": [
    {
     "name": "stdout",
     "output_type": "stream",
     "text": [
      "GroupKFold(n_splits=3, random_state=None, shuffle=False)\n",
      "Fold 0:\n",
      "  Train: index=[0 1 2 3], group=[0 0 2 2]\n",
      "  Test:  index=[4 5], group=[3 3]\n",
      "Fold 1:\n",
      "  Train: index=[0 1 4 5], group=[0 0 3 3]\n",
      "  Test:  index=[2 3], group=[2 2]\n",
      "Fold 2:\n",
      "  Train: index=[2 3 4 5], group=[2 2 3 3]\n",
      "  Test:  index=[0 1], group=[0 0]\n"
     ]
    }
   ],
   "source": [
    "import numpy as np\n",
    "from sklearn.model_selection import GroupKFold\n",
    "X = np.array([[1, 2], [3, 4], [5, 6], [7, 8], [9, 10], [11, 12]])\n",
    "y = np.array([1, 2, 3, 4, 5, 6])\n",
    "groups = np.array([0, 0, 2, 2, 3, 3])\n",
    "group_kfold = GroupKFold(n_splits=3)\n",
    "group_kfold.get_n_splits(X, y, groups)\n",
    "print(group_kfold)\n",
    "for i, (train_index, test_index) in enumerate(group_kfold.split(X, y, groups)):\n",
    "    print(f\"Fold {i}:\")\n",
    "    print(f\"  Train: index={train_index}, group={groups[train_index]}\")\n",
    "    print(f\"  Test:  index={test_index}, group={groups[test_index]}\")"
   ]
  },
  {
   "cell_type": "code",
   "execution_count": null,
   "id": "088a8ab5",
   "metadata": {},
   "outputs": [],
   "source": []
  }
 ],
 "metadata": {
  "kernelspec": {
   "display_name": "Python 3",
   "language": "python",
   "name": "python3"
  },
  "language_info": {
   "codemirror_mode": {
    "name": "ipython",
    "version": 3
   },
   "file_extension": ".py",
   "mimetype": "text/x-python",
   "name": "python",
   "nbconvert_exporter": "python",
   "pygments_lexer": "ipython3",
   "version": "3.9.6"
  }
 },
 "nbformat": 4,
 "nbformat_minor": 5
}
