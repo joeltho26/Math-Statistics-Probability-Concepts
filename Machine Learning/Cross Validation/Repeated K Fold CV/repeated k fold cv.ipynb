{
 "cells": [
  {
   "cell_type": "markdown",
   "id": "06a00e25",
   "metadata": {},
   "source": [
    "1. [Repeated K Fold CV](#repeated-k-fold-cv)"
   ]
  },
  {
   "cell_type": "markdown",
   "id": "79e66ca1",
   "metadata": {},
   "source": [
    "#### Repeated K Fold CV:\n",
    "- here, we fold the dataset into K fold and where the K-1 folds will belong to the training set and the remaining 1 fold will belong as the validation set\n",
    "- if the K=5, there will 5 iteration and 5 folds\n",
    "    - each iteration will have 5 folds\n",
    "    - Eg: 1st iteration will consist of the 1 fold being the validation set and remaining fold being training set\n",
    "- we repeat K-Fold CV for a certain number of times"
   ]
  },
  {
   "cell_type": "markdown",
   "id": "da561e2a",
   "metadata": {},
   "source": []
  }
 ],
 "metadata": {
  "language_info": {
   "name": "python"
  }
 },
 "nbformat": 4,
 "nbformat_minor": 5
}
