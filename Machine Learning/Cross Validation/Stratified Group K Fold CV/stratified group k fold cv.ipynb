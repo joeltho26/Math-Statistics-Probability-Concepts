{
 "cells": [
  {
   "cell_type": "markdown",
   "id": "cbed94a9",
   "metadata": {},
   "source": [
    "1. [Stratified Group K  Fold CV](#stratified-group-k-fold-cv)"
   ]
  },
  {
   "cell_type": "markdown",
   "id": "1d86b2fb",
   "metadata": {},
   "source": [
    "#### Stratified Group K Fold CV:\n",
    "- here, we fold the dataset into K fold and where the K-1 splits will belong to the training set and the remaining 1 split will belong as the validation set\n",
    "- while performing train and validation sets splits, it considers the group based split\n",
    "- if the K=5, there will 5 splits and 5 folds\n",
    "    - each fold will have 5 splits\n",
    "    - Eg: 1st fold will consist of the 1 split being the validation set and remaining splits being training set\n",
    "- we ensure while splitting of the data into train and validation sets, the data class are balanced"
   ]
  },
  {
   "cell_type": "code",
   "execution_count": 1,
   "id": "60d811f7",
   "metadata": {},
   "outputs": [
    {
     "name": "stdout",
     "output_type": "stream",
     "text": [
      "StratifiedGroupKFold(n_splits=3, random_state=None, shuffle=False)\n",
      "Fold 0:\n",
      "  Train: index=[ 0  1  2  3  7  8  9 10 11 15 16]\n",
      "         group=[1 1 2 2 4 5 5 5 5 8 8]\n",
      "  Test:  index=[ 4  5  6 12 13 14]\n",
      "         group=[3 3 3 6 6 7]\n",
      "Fold 1:\n",
      "  Train: index=[ 4  5  6  7  8  9 10 11 12 13 14]\n",
      "         group=[3 3 3 4 5 5 5 5 6 6 7]\n",
      "  Test:  index=[ 0  1  2  3 15 16]\n",
      "         group=[1 1 2 2 8 8]\n",
      "Fold 2:\n",
      "  Train: index=[ 0  1  2  3  4  5  6 12 13 14 15 16]\n",
      "         group=[1 1 2 2 3 3 3 6 6 7 8 8]\n",
      "  Test:  index=[ 7  8  9 10 11]\n",
      "         group=[4 5 5 5 5]\n"
     ]
    }
   ],
   "source": [
    "import numpy as np\n",
    "from sklearn.model_selection import StratifiedGroupKFold\n",
    "X = np.ones((17, 2))\n",
    "y = np.array([0, 0, 1, 1, 1, 1, 1, 1, 0, 0, 0, 0, 0, 0, 0, 0, 0])\n",
    "groups = np.array([1, 1, 2, 2, 3, 3, 3, 4, 5, 5, 5, 5, 6, 6, 7, 8, 8])\n",
    "sgkf = StratifiedGroupKFold(n_splits=3)\n",
    "sgkf.get_n_splits(X, y)\n",
    "print(sgkf)\n",
    "for i, (train_index, test_index) in enumerate(sgkf.split(X, y, groups)):\n",
    "    print(f\"Fold {i}:\")\n",
    "    print(f\"  Train: index={train_index}\")\n",
    "    print(f\"         group={groups[train_index]}\")\n",
    "    print(f\"  Test:  index={test_index}\")\n",
    "    print(f\"         group={groups[test_index]}\")"
   ]
  }
 ],
 "metadata": {
  "kernelspec": {
   "display_name": "Python 3",
   "language": "python",
   "name": "python3"
  },
  "language_info": {
   "codemirror_mode": {
    "name": "ipython",
    "version": 3
   },
   "file_extension": ".py",
   "mimetype": "text/x-python",
   "name": "python",
   "nbconvert_exporter": "python",
   "pygments_lexer": "ipython3",
   "version": "3.9.6"
  }
 },
 "nbformat": 4,
 "nbformat_minor": 5
}
