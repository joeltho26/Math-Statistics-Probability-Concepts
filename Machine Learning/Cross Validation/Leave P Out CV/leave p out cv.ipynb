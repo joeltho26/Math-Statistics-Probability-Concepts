{
 "cells": [
  {
   "cell_type": "markdown",
   "id": "1333aef3",
   "metadata": {},
   "source": [
    "1. [Leave P Out CV](#leave-p-out-cv)"
   ]
  },
  {
   "cell_type": "markdown",
   "id": "f6b58648",
   "metadata": {},
   "source": [
    "#### Leave P Out CV:\n",
    "- here, we will consider P number of records/rows in the dataset as validation set and the remaining records will be used as training set\n",
    "- this is repeated iteratively by leaving out P records as the validation set at each k iteration"
   ]
  },
  {
   "cell_type": "code",
   "execution_count": 5,
   "id": "b1cce2bd",
   "metadata": {},
   "outputs": [
    {
     "name": "stdout",
     "output_type": "stream",
     "text": [
      "LeavePOut(p=2)\n",
      "Fold 0:\n",
      "  Train: index=[2 3], group [[5 6]\n",
      " [7 8]]\n",
      "  Test:  index=[0 1], group [[1 2]\n",
      " [3 4]]\n",
      "Fold 1:\n",
      "  Train: index=[1 3], group [[3 4]\n",
      " [7 8]]\n",
      "  Test:  index=[0 2], group [[1 2]\n",
      " [5 6]]\n",
      "Fold 2:\n",
      "  Train: index=[1 2], group [[3 4]\n",
      " [5 6]]\n",
      "  Test:  index=[0 3], group [[1 2]\n",
      " [7 8]]\n",
      "Fold 3:\n",
      "  Train: index=[0 3], group [[1 2]\n",
      " [7 8]]\n",
      "  Test:  index=[1 2], group [[3 4]\n",
      " [5 6]]\n",
      "Fold 4:\n",
      "  Train: index=[0 2], group [[1 2]\n",
      " [5 6]]\n",
      "  Test:  index=[1 3], group [[3 4]\n",
      " [7 8]]\n",
      "Fold 5:\n",
      "  Train: index=[0 1], group [[1 2]\n",
      " [3 4]]\n",
      "  Test:  index=[2 3], group [[5 6]\n",
      " [7 8]]\n"
     ]
    }
   ],
   "source": [
    "import numpy as np\n",
    "from sklearn.model_selection import LeavePOut\n",
    "X = np.array([[1, 2], [3, 4], [5, 6], [7, 8]])\n",
    "y = np.array([1, 2, 3, 4])\n",
    "lpo = LeavePOut(2)\n",
    "print(lpo)\n",
    "for i, (train_index, test_index) in enumerate(lpo.split(X)):\n",
    "    print(f\"Fold {i}:\")\n",
    "    print(f\"  Train: index={train_index}, group {X[train_index]}\")\n",
    "    print(f\"  Test:  index={test_index}, group {X[test_index]}\")"
   ]
  },
  {
   "cell_type": "code",
   "execution_count": null,
   "id": "b2e29711",
   "metadata": {},
   "outputs": [],
   "source": []
  }
 ],
 "metadata": {
  "kernelspec": {
   "display_name": "Python 3",
   "language": "python",
   "name": "python3"
  },
  "language_info": {
   "codemirror_mode": {
    "name": "ipython",
    "version": 3
   },
   "file_extension": ".py",
   "mimetype": "text/x-python",
   "name": "python",
   "nbconvert_exporter": "python",
   "pygments_lexer": "ipython3",
   "version": "3.9.6"
  }
 },
 "nbformat": 4,
 "nbformat_minor": 5
}
