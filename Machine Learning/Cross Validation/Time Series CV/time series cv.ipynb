{
 "cells": [
  {
   "cell_type": "markdown",
   "id": "bf717215",
   "metadata": {},
   "source": [
    "1. [Time Series Split](#time-series-split)"
   ]
  },
  {
   "cell_type": "markdown",
   "id": "37d5bfd7",
   "metadata": {},
   "source": [
    "#### Time Series Split:\n",
    "- it is used to split train and test for time series data\n",
    "- it also provides gap split in time series data"
   ]
  },
  {
   "cell_type": "code",
   "execution_count": 1,
   "id": "17715677",
   "metadata": {},
   "outputs": [
    {
     "name": "stdout",
     "output_type": "stream",
     "text": [
      "TimeSeriesSplit(gap=0, max_train_size=None, n_splits=5, test_size=None)\n",
      "Fold 0:\n",
      "  Train: index=[0]\n",
      "  Test:  index=[1]\n",
      "Fold 1:\n",
      "  Train: index=[0 1]\n",
      "  Test:  index=[2]\n",
      "Fold 2:\n",
      "  Train: index=[0 1 2]\n",
      "  Test:  index=[3]\n",
      "Fold 3:\n",
      "  Train: index=[0 1 2 3]\n",
      "  Test:  index=[4]\n",
      "Fold 4:\n",
      "  Train: index=[0 1 2 3 4]\n",
      "  Test:  index=[5]\n"
     ]
    }
   ],
   "source": [
    "import numpy as np\n",
    "from sklearn.model_selection import TimeSeriesSplit\n",
    "X = np.array([[1, 2], [3, 4], [1, 2], [3, 4], [1, 2], [3, 4]])\n",
    "y = np.array([1, 2, 3, 4, 5, 6])\n",
    "tscv = TimeSeriesSplit()\n",
    "print(tscv)\n",
    "for i, (train_index, test_index) in enumerate(tscv.split(X)):\n",
    "    print(f\"Fold {i}:\")\n",
    "    print(f\"  Train: index={train_index}\")\n",
    "    print(f\"  Test:  index={test_index}\")"
   ]
  },
  {
   "cell_type": "code",
   "execution_count": 3,
   "id": "e0c1593f",
   "metadata": {},
   "outputs": [
    {
     "name": "stdout",
     "output_type": "stream",
     "text": [
      "Fold 0:\n",
      "  Train: index=[0 1 2 3 4 5]\n",
      "  Test:  index=[6 7]\n",
      "Fold 1:\n",
      "  Train: index=[0 1 2 3 4 5 6 7]\n",
      "  Test:  index=[8 9]\n",
      "Fold 2:\n",
      "  Train: index=[0 1 2 3 4 5 6 7 8 9]\n",
      "  Test:  index=[10 11]\n"
     ]
    }
   ],
   "source": [
    "X = np.random.randn(12, 2)\n",
    "y = np.random.randint(0, 2, 12)\n",
    "tscv = TimeSeriesSplit(n_splits=3, test_size=2)\n",
    "for i, (train_index, test_index) in enumerate(tscv.split(X)):\n",
    "    print(f\"Fold {i}:\")\n",
    "    print(f\"  Train: index={train_index}\")\n",
    "    print(f\"  Test:  index={test_index}\")"
   ]
  },
  {
   "cell_type": "code",
   "execution_count": 4,
   "id": "392043af",
   "metadata": {},
   "outputs": [
    {
     "name": "stdout",
     "output_type": "stream",
     "text": [
      "Fold 0:\n",
      "  Train: index=[0 1 2 3]\n",
      "  Test:  index=[6 7]\n",
      "Fold 1:\n",
      "  Train: index=[0 1 2 3 4 5]\n",
      "  Test:  index=[8 9]\n",
      "Fold 2:\n",
      "  Train: index=[0 1 2 3 4 5 6 7]\n",
      "  Test:  index=[10 11]\n"
     ]
    }
   ],
   "source": [
    "tscv = TimeSeriesSplit(n_splits=3, test_size=2, gap=2)\n",
    "for i, (train_index, test_index) in enumerate(tscv.split(X)):\n",
    "    print(f\"Fold {i}:\")\n",
    "    print(f\"  Train: index={train_index}\")\n",
    "    print(f\"  Test:  index={test_index}\")"
   ]
  },
  {
   "cell_type": "code",
   "execution_count": null,
   "id": "8f12b887",
   "metadata": {},
   "outputs": [],
   "source": []
  }
 ],
 "metadata": {
  "kernelspec": {
   "display_name": "Python 3",
   "language": "python",
   "name": "python3"
  },
  "language_info": {
   "codemirror_mode": {
    "name": "ipython",
    "version": 3
   },
   "file_extension": ".py",
   "mimetype": "text/x-python",
   "name": "python",
   "nbconvert_exporter": "python",
   "pygments_lexer": "ipython3",
   "version": "3.9.6"
  }
 },
 "nbformat": 4,
 "nbformat_minor": 5
}
