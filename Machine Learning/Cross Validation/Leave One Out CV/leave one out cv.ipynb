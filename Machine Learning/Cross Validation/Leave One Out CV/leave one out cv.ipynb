{
 "cells": [
  {
   "cell_type": "markdown",
   "id": "384bbce7",
   "metadata": {},
   "source": [
    "1. [Leave One Out CV](#leave-one-out-cv)"
   ]
  },
  {
   "cell_type": "markdown",
   "id": "0cb2c654",
   "metadata": {},
   "source": [
    "#### Leave One Out CV:\n",
    "- here, we will consider k-1 records/rows in the dataset as training set and the remaining 1 record will be used as validation set\n",
    "- this is repeated iteratively by leaving out one record as the validation set at each k iteration"
   ]
  },
  {
   "cell_type": "code",
   "execution_count": 1,
   "id": "f565c0e4",
   "metadata": {},
   "outputs": [
    {
     "name": "stdout",
     "output_type": "stream",
     "text": [
      "LeaveOneOut()\n",
      "Fold 0:\n",
      "  Train: index=[1]\n",
      "  Test:  index=[0]\n",
      "Fold 1:\n",
      "  Train: index=[0]\n",
      "  Test:  index=[1]\n"
     ]
    }
   ],
   "source": [
    "import numpy as np\n",
    "from sklearn.model_selection import LeaveOneOut\n",
    "X = np.array([[1, 2], [3, 4]])\n",
    "y = np.array([1, 2])\n",
    "loo = LeaveOneOut()\n",
    "loo.get_n_splits(X)\n",
    "print(loo)\n",
    "for i, (train_index, test_index) in enumerate(loo.split(X)):\n",
    "    print(f\"Fold {i}:\")\n",
    "    print(f\"  Train: index={train_index}\")\n",
    "    print(f\"  Test:  index={test_index}\")"
   ]
  }
 ],
 "metadata": {
  "kernelspec": {
   "display_name": "Python 3",
   "language": "python",
   "name": "python3"
  },
  "language_info": {
   "codemirror_mode": {
    "name": "ipython",
    "version": 3
   },
   "file_extension": ".py",
   "mimetype": "text/x-python",
   "name": "python",
   "nbconvert_exporter": "python",
   "pygments_lexer": "ipython3",
   "version": "3.9.6"
  }
 },
 "nbformat": 4,
 "nbformat_minor": 5
}
