{
 "cells": [
  {
   "cell_type": "markdown",
   "id": "b3e30128",
   "metadata": {},
   "source": [
    "1. [K Fold CV](#k-fold-cv)"
   ]
  },
  {
   "cell_type": "markdown",
   "id": "fb40c2bb",
   "metadata": {},
   "source": [
    "#### K Fold CV:\n",
    "- here, we fold the dataset into K fold and where at each there is K-1 split will belong to the training set and the remaining 1 split will belong as the validation set\n",
    "- if the K=5, there will 5 split and 5 folds\n",
    "    - each split will have 5 folds\n",
    "    - Eg: 1st split will consist of the 1 fold being the validation set and remaining split being training set"
   ]
  },
  {
   "cell_type": "code",
   "execution_count": 1,
   "id": "13c35d2e",
   "metadata": {},
   "outputs": [
    {
     "data": {
      "image/png": "[encoded data removed]",
      "text/plain": [
       "<PIL.Image.Image image mode=P size=400x200>"
      ]
     },
     "metadata": {},
     "output_type": "display_data"
    }
   ],
   "source": [
    "from PIL import Image \n",
    "from IPython.display import display\n",
    "\n",
    "img = Image.open('images/kfold.png')\n",
    "new_image = img.resize((400, 200))\n",
    "display(new_image)"
   ]
  },
  {
   "cell_type": "code",
   "execution_count": 3,
   "id": "08db88eb",
   "metadata": {},
   "outputs": [
    {
     "name": "stdout",
     "output_type": "stream",
     "text": [
      "KFold(n_splits=2, random_state=None, shuffle=False)\n",
      "Fold 0:\n",
      "  Train: index=[2 3], group [[1 2]\n",
      " [3 4]]\n",
      "  Test:  index=[0 1], group [[1 2]\n",
      " [3 4]]\n",
      "Fold 1:\n",
      "  Train: index=[0 1], group [[1 2]\n",
      " [3 4]]\n",
      "  Test:  index=[2 3], group [[1 2]\n",
      " [3 4]]\n"
     ]
    }
   ],
   "source": [
    "import numpy as np\n",
    "from sklearn.model_selection import KFold\n",
    "X = np.array([[1, 2], [3, 4], [1, 2], [3, 4]])\n",
    "y = np.array([1, 2, 3, 4])\n",
    "kf = KFold(n_splits=2)\n",
    "kf.get_n_splits(X)\n",
    "print(kf)\n",
    "for i, (train_index, test_index) in enumerate(kf.split(X)):\n",
    "    print(f\"Fold {i}:\")\n",
    "    print(f\"  Train: index={train_index}, group {X[train_index]}\")\n",
    "    print(f\"  Test:  index={test_index}, group {X[test_index]}\")"
   ]
  },
  {
   "cell_type": "code",
   "execution_count": null,
   "id": "0bcc0667",
   "metadata": {},
   "outputs": [],
   "source": []
  }
 ],
 "metadata": {
  "kernelspec": {
   "display_name": "Python 3",
   "language": "python",
   "name": "python3"
  },
  "language_info": {
   "codemirror_mode": {
    "name": "ipython",
    "version": 3
   },
   "file_extension": ".py",
   "mimetype": "text/x-python",
   "name": "python",
   "nbconvert_exporter": "python",
   "pygments_lexer": "ipython3",
   "version": "3.9.6"
  }
 },
 "nbformat": 4,
 "nbformat_minor": 5
}
