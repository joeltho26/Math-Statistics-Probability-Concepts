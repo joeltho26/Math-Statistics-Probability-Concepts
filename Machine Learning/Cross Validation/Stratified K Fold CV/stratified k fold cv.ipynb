{
 "cells": [
  {
   "cell_type": "markdown",
   "id": "02d3ffc3",
   "metadata": {},
   "source": [
    "1. [Stratified K Fold CV](#stratified-k-fold-cv)"
   ]
  },
  {
   "cell_type": "markdown",
   "id": "c2037662",
   "metadata": {},
   "source": [
    "#### Stratified K Fold CV:\n",
    "- here, we fold the dataset into K fold and where the K-1 splits will belong to the training set and the remaining 1 split will belong as the validation set\n",
    "- if the K=5, there will 5 splits and 5 folds\n",
    "    - each fold will have 5 splits\n",
    "    - Eg: 1st fold will consist of the 1 split being the validation set and remaining splits being training set\n",
    "- we ensure while splitting of the data into train and validation sets, the data class are balanced"
   ]
  },
  {
   "cell_type": "code",
   "execution_count": 2,
   "id": "d163621f",
   "metadata": {},
   "outputs": [
    {
     "name": "stdout",
     "output_type": "stream",
     "text": [
      "StratifiedKFold(n_splits=2, random_state=None, shuffle=False)\n",
      "Fold 0:\n",
      "  Train: index=[1 3], group=[[3 4]\n",
      " [3 4]]\n",
      "  Test:  index=[0 2], group=[[1 2]\n",
      " [1 2]]\n",
      "Fold 1:\n",
      "  Train: index=[0 2], group=[[1 2]\n",
      " [1 2]]\n",
      "  Test:  index=[1 3], group=[[3 4]\n",
      " [3 4]]\n"
     ]
    }
   ],
   "source": [
    "import numpy as np\n",
    "from sklearn.model_selection import StratifiedKFold\n",
    "X = np.array([[1, 2], [3, 4], [1, 2], [3, 4]])\n",
    "y = np.array([0, 0, 1, 1])\n",
    "skf = StratifiedKFold(n_splits=2)\n",
    "skf.get_n_splits(X, y)\n",
    "print(skf)\n",
    "for i, (train_index, test_index) in enumerate(skf.split(X, y)):\n",
    "    print(f\"Fold {i}:\")\n",
    "    print(f\"  Train: index={train_index}, group={X[train_index]}\")\n",
    "    print(f\"  Test:  index={test_index}, group={X[test_index]}\")"
   ]
  },
  {
   "cell_type": "code",
   "execution_count": null,
   "id": "e5b88a0f",
   "metadata": {},
   "outputs": [],
   "source": []
  }
 ],
 "metadata": {
  "kernelspec": {
   "display_name": "Python 3",
   "language": "python",
   "name": "python3"
  },
  "language_info": {
   "codemirror_mode": {
    "name": "ipython",
    "version": 3
   },
   "file_extension": ".py",
   "mimetype": "text/x-python",
   "name": "python",
   "nbconvert_exporter": "python",
   "pygments_lexer": "ipython3",
   "version": "3.9.6"
  }
 },
 "nbformat": 4,
 "nbformat_minor": 5
}
