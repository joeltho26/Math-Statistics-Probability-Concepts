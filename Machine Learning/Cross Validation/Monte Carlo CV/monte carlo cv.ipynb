{
 "cells": [
  {
   "cell_type": "markdown",
   "id": "1dc6fbbd",
   "metadata": {},
   "source": [
    "1. [Monte Carlo CV](#monte-carlo-cv)"
   ]
  },
  {
   "cell_type": "markdown",
   "id": "31257b98",
   "metadata": {},
   "source": [
    "#### Monte Carlo CV:\n",
    "- here, we perform random splitting based on the ratio such as 70-30 training & validation sets and we perform this splitting for certain number of iterations"
   ]
  },
  {
   "cell_type": "code",
   "execution_count": 8,
   "id": "92812477",
   "metadata": {},
   "outputs": [
    {
     "name": "stdout",
     "output_type": "stream",
     "text": [
      "Iteration: 0\n",
      " X_train [[7 8]\n",
      " [3 4]\n",
      " [1 2]], \n",
      " Y_train: [4 2 1]\n",
      " x_test: [[5 6]], \n",
      " y_test [3]\n",
      "Iteration: 1\n",
      " X_train [[7 8]\n",
      " [3 4]\n",
      " [1 2]], \n",
      " Y_train: [4 2 1]\n",
      " x_test: [[5 6]], \n",
      " y_test [3]\n",
      "Iteration: 2\n",
      " X_train [[3 4]\n",
      " [5 6]\n",
      " [1 2]], \n",
      " Y_train: [2 3 1]\n",
      " x_test: [[7 8]], \n",
      " y_test [4]\n",
      "Iteration: 3\n",
      " X_train [[5 6]\n",
      " [1 2]\n",
      " [7 8]], \n",
      " Y_train: [3 1 4]\n",
      " x_test: [[3 4]], \n",
      " y_test [2]\n",
      "Iteration: 4\n",
      " X_train [[3 4]\n",
      " [7 8]\n",
      " [1 2]], \n",
      " Y_train: [2 4 1]\n",
      " x_test: [[5 6]], \n",
      " y_test [3]\n"
     ]
    }
   ],
   "source": [
    "from sklearn.model_selection import train_test_split\n",
    "import numpy as np\n",
    "num = 5\n",
    "X = np.array([[1, 2], [3, 4], [5, 6], [7, 8]])\n",
    "y = np.array([1, 2, 3, 4])\n",
    "for i in range(5):\n",
    "    X_train, x_test, Y_train, y_test = train_test_split(X,y,test_size=1)\n",
    "    print(f\"Iteration: {i}\")\n",
    "    print(f\" X_train {X_train}, \\n Y_train: {Y_train}\")\n",
    "    print(f\" x_test: {x_test}, \\n y_test {y_test}\")"
   ]
  },
  {
   "cell_type": "code",
   "execution_count": null,
   "id": "36b03b40",
   "metadata": {},
   "outputs": [],
   "source": []
  }
 ],
 "metadata": {
  "kernelspec": {
   "display_name": "Python 3",
   "language": "python",
   "name": "python3"
  },
  "language_info": {
   "codemirror_mode": {
    "name": "ipython",
    "version": 3
   },
   "file_extension": ".py",
   "mimetype": "text/x-python",
   "name": "python",
   "nbconvert_exporter": "python",
   "pygments_lexer": "ipython3",
   "version": "3.9.6"
  }
 },
 "nbformat": 4,
 "nbformat_minor": 5
}
