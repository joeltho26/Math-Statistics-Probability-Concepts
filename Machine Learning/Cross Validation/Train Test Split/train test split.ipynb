{
 "cells": [
  {
   "cell_type": "markdown",
   "id": "1501928c",
   "metadata": {},
   "source": [
    "1. [Train Test Split](#train-test-split)"
   ]
  },
  {
   "cell_type": "markdown",
   "id": "d7642109",
   "metadata": {},
   "source": [
    "#### Train Test Split:\n",
    "- we split the data into a certain ratio such as 70-30 i.e. 70% training and 30% testing set\n",
    "- the 70% records from the dataset is choosen sequentially by default as training set and followed by the test set which are the remaining 30% of the records in the dataset.\n",
    "- the records can be shuffled using the shuffle parameter"
   ]
  },
  {
   "cell_type": "markdown",
   "id": "454a44e6",
   "metadata": {},
   "source": []
  }
 ],
 "metadata": {
  "language_info": {
   "name": "python"
  }
 },
 "nbformat": 4,
 "nbformat_minor": 5
}
