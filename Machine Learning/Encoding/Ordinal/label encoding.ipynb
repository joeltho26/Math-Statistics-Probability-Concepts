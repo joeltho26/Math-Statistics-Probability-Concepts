{
 "cells": [
  {
   "cell_type": "markdown",
   "id": "ff745511",
   "metadata": {},
   "source": [
    "1. [Label Encoding](#label-encoding)"
   ]
  },
  {
   "cell_type": "markdown",
   "id": "ad36646c",
   "metadata": {},
   "source": [
    "#### Label Encoding:\n",
    "- used to convert categorical features into numerical values\n",
    "- usually assigns an order to the numerical value, however since the categorical feature is nominal in nature and there is inherent order eg: Education\n",
    "    - High School, Associate's Degree, Bachelor's Degree, Master's Degree, PhD "
   ]
  },
  {
   "cell_type": "markdown",
   "id": "fb5ddd4a",
   "metadata": {},
   "source": [
    "Before Encoding:\n",
    "\n",
    "| Education (Original) |\n",
    "| :------------------------ |\n",
    "| High School               |\n",
    "| Associate's Degree        |\n",
    "| Bachelor's Degree         |\n",
    "| High School               |\n",
    "| Master's Degree           |\n",
    "| PhD                       |\n",
    "| Bachelor's Degree         |\n",
    "\n",
    "\n",
    "Encoded Data:\n",
    "| Education (Original) | Education (Encoded) |\n",
    "| :------------------------ | :------------------------ |\n",
    "| High School               | 0.0 |\n",
    "| Associate's Degree        | 1.0 |\n",
    "| Bachelor's Degree         | 2.0 |\n",
    "| High School               | 0.0 |\n",
    "| Master's Degree           | 3.0 |\n",
    "| PhD                       | 4.0 |\n",
    "| Bachelor's Degree         | 2.0 "
   ]
  }
 ],
 "metadata": {
  "language_info": {
   "name": "python"
  }
 },
 "nbformat": 4,
 "nbformat_minor": 5
}
