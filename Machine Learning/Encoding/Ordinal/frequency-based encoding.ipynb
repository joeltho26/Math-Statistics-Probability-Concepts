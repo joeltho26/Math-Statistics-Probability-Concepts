{
 "cells": [
  {
   "cell_type": "markdown",
   "id": "31eba9e0",
   "metadata": {},
   "source": [
    "1. [Frequency Encoding](#frequency-encoding)"
   ]
  },
  {
   "cell_type": "markdown",
   "id": "a7411877",
   "metadata": {},
   "source": [
    "#### Frequency Encoding:\n",
    "- we transform the categorical feature into numerical values i.e. probabilities"
   ]
  },
  {
   "cell_type": "markdown",
   "id": "8b6f2419",
   "metadata": {},
   "source": []
  },
  {
   "cell_type": "markdown",
   "id": "9e448769",
   "metadata": {},
   "source": []
  }
 ],
 "metadata": {
  "language_info": {
   "name": "python"
  }
 },
 "nbformat": 4,
 "nbformat_minor": 5
}
