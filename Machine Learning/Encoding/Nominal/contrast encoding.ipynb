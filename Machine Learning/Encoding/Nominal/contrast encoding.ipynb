{
 "cells": [
  {
   "cell_type": "markdown",
   "id": "985567e2",
   "metadata": {},
   "source": []
  },
  {
   "cell_type": "markdown",
   "id": "3583a314",
   "metadata": {},
   "source": []
  }
 ],
 "metadata": {
  "language_info": {
   "name": "python"
  }
 },
 "nbformat": 4,
 "nbformat_minor": 5
}
