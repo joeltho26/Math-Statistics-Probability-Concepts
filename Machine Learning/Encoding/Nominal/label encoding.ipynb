{
 "cells": [
  {
   "cell_type": "markdown",
   "id": "ff745511",
   "metadata": {},
   "source": [
    "1. [Label Encoding](#label-encoding)"
   ]
  },
  {
   "cell_type": "markdown",
   "id": "ad36646c",
   "metadata": {},
   "source": [
    "#### Label Encoding:\n",
    "- used to convert categorical features into numerical values\n",
    "- usually assigns an order to the numerical value, however since the categorical feature is nominal in nature and there is no inherent order eg: sentiment analysis\n",
    "    - Negative, Neutral, Positive"
   ]
  },
  {
   "cell_type": "markdown",
   "id": "8dc75897",
   "metadata": {},
   "source": [
    "Before Encoding:\n",
    "\n",
    "| Sentiment (Original) |\n",
    "| :-------------- |\n",
    "| Netural         |\n",
    "| Negative        |\n",
    "| Positive        |\n",
    "| Netural         |\n",
    "| Positive        |\n",
    "| Negative        |\n",
    "| Positive        |\n",
    "\n",
    "\n",
    "Encoded Data:\n",
    "| Sentiment (Original) | Sentiment (Encoded) |\n",
    "| :-------------- | :-------------- | \n",
    "| Netural         | 0 |\n",
    "| Negative        | 1 |\n",
    "| Positive        | 2 |\n",
    "| Netural         | 0 |\n",
    "| Positive        | 2 |\n",
    "| Negative        | 1 |\n",
    "| Positive        | 2 |"
   ]
  }
 ],
 "metadata": {
  "language_info": {
   "name": "python"
  }
 },
 "nbformat": 4,
 "nbformat_minor": 5
}
