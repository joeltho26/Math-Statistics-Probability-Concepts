{
 "cells": [
  {
   "cell_type": "markdown",
   "id": "07327113",
   "metadata": {},
   "source": [
    "1. [Top N Features Encoding](#top-n-features-encoding)"
   ]
  },
  {
   "cell_type": "markdown",
   "id": "857a2d6f",
   "metadata": {},
   "source": [
    "#### Top N Features Encoding:\n",
    "- we transform the categorical feature into numerical values i.e. taking the top 20 features with the highest frequency of categories or count or target mea, etc\n",
    "- used when we have many categories in a categorical feature\n"
   ]
  }
 ],
 "metadata": {
  "language_info": {
   "name": "python"
  }
 },
 "nbformat": 4,
 "nbformat_minor": 5
}
