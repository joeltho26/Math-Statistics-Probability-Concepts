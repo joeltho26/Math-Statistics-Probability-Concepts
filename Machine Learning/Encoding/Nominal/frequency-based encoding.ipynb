{
 "cells": [
  {
   "cell_type": "markdown",
   "id": "31eba9e0",
   "metadata": {},
   "source": [
    "1. [Frequency Encoding](#frequency-encoding)"
   ]
  },
  {
   "cell_type": "markdown",
   "id": "a7411877",
   "metadata": {},
   "source": [
    "#### Frequency Encoding:\n",
    "- we transform the categorical feature into numerical values i.e. proportions\n",
    "- used when we have many categories in a categorical feature\n",
    "\n",
    "\n",
    "Before Encoding:\n",
    "\n",
    "| Transportation (Original) | Transportation (Frequency Encoded) |\n",
    "| :------------------------ | :--------------------------------- |\n",
    "| Car                       | 4                                  |\n",
    "| Bicycle                   | 2                                  |\n",
    "| Bus                       | 3                                  |\n",
    "| Car                       | 4                                  |\n",
    "| Car                       | 4                                  |\n",
    "| Bicycle                   | 2                                  |\n",
    "| Walk                      | 1                                  |\n",
    "| Bus                       | 3                                  |\n",
    "| Car                       | 4                                  |\n",
    "| Bus                       | 3                                  |"
   ]
  },
  {
   "cell_type": "markdown",
   "id": "87c92fbb",
   "metadata": {},
   "source": [
    "- we calculate the proportions\n",
    "    - Car: 4 10 = 0.4\n",
    "    - Bicycle: 2/10 = 0.2\n",
    "    - Bus: 3/10 = 0.3\n",
    "    - Walk: 1/10 = 0.1"
   ]
  },
  {
   "cell_type": "markdown",
   "id": "8b6f2419",
   "metadata": {},
   "source": [
    "After Encoding:\n",
    "\n",
    "| Transportation (Original) | Transportation (Proportion Encoded) |\n",
    "| :------------------------ | :------------------------------------ |\n",
    "| Car                       | 0.4                                 |\n",
    "| Bicycle                   | 0.2                                 |\n",
    "| Bus                       | 0.3                                 |\n",
    "| Car                       | 0.4                                 |\n",
    "| Car                       | 0.4                                 |\n",
    "| Bicycle                   | 0.2                                 |\n",
    "| Walk                      | 0.1                                 |\n",
    "| Bus                       | 0.3                                 |\n",
    "| Car                       | 0.4                                 |\n",
    "| Bus                       | 0.3                                 |"
   ]
  }
 ],
 "metadata": {
  "language_info": {
   "name": "python"
  }
 },
 "nbformat": 4,
 "nbformat_minor": 5
}
