{
 "cells": [
  {
   "cell_type": "markdown",
   "id": "e1343c93",
   "metadata": {},
   "source": [
    "1. [Count Encoding](#count-encoding)"
   ]
  },
  {
   "cell_type": "markdown",
   "id": "b665c2d8",
   "metadata": {},
   "source": [
    "#### Count Encoding:\n",
    "- we transform the categorical feature into numerical values i.e. count\n",
    "- used when we have many categories in a categorical feature\n",
    "\n",
    "\n",
    "Before Encoding:\n",
    "\n",
    "| Transportation (Original) |\n",
    "| :------------------------ |\n",
    "| Car                       |\n",
    "| Bicycle                   |\n",
    "| Bus                       |\n",
    "| Car                       |\n",
    "| Car                       |\n",
    "| Bicycle                   |\n",
    "| Walk                      |\n",
    "| Bus                       |\n",
    "| Car                       | \n",
    "| Bus                       |"
   ]
  },
  {
   "cell_type": "markdown",
   "metadata": {},
   "source": [
    "After Encoding:\n",
    "\n",
    "| Transportation (Original) | Transportation (Count Encoded) |\n",
    "| :------------------------ | :--------------------------------- |\n",
    "| Car                       | 4                                  |\n",
    "| Bicycle                   | 2                                  |\n",
    "| Bus                       | 3                                  |\n",
    "| Car                       | 4                                  |\n",
    "| Car                       | 4                                  |\n",
    "| Bicycle                   | 2                                  |\n",
    "| Walk                      | 1                                  |\n",
    "| Bus                       | 3                                  |\n",
    "| Car                       | 4                                  |\n",
    "| Bus                       | 3                                  |"
   ]
  }
 ],
 "metadata": {
  "language_info": {
   "name": "python"
  }
 },
 "nbformat": 4,
 "nbformat_minor": 5
}
