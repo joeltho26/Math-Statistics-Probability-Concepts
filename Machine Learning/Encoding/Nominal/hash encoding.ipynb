{
 "cells": [
  {
   "cell_type": "markdown",
   "id": "b6ca8a16",
   "metadata": {},
   "source": [
    "1. [Hash Encoding](#hash-encoding)"
   ]
  },
  {
   "cell_type": "markdown",
   "id": "59d90951",
   "metadata": {},
   "source": [
    "#### Hash Encoding:\n",
    "- we transform the categorical feature into numerical values i.e. hashing the category\n",
    "- used when we have many categories in a categorical feature\n",
    "    - using hash encoding can reduce the dimension of categories in the feature\n",
    "    - however, there will be collision since different categories can have same hash value\n",
    "    - since same hash value, we will use lose information"
   ]
  }
 ],
 "metadata": {
  "language_info": {
   "name": "python"
  }
 },
 "nbformat": 4,
 "nbformat_minor": 5
}
