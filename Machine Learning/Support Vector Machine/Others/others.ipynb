{
 "cells": [
  {
   "cell_type": "markdown",
   "id": "eccebd97",
   "metadata": {},
   "source": [
    "#### When and why does SVM work poorly?\n",
    "- higher dimensions of data\n",
    "- imbalanced\n",
    "- incorrect kernel chosen\n",
    "- large dataset\n",
    "- large amount of outliers\n",
    "- lack of probability estimates"
   ]
  },
  {
   "cell_type": "markdown",
   "id": "66d835d2",
   "metadata": {},
   "source": [
    "#### How to select the kernels?\n",
    "- we try using kernels one after the other and evaluate the performance\n",
    "- RBF will overfit if the γ value is large\n",
    "- RBF and polynomial kernels are computationally intensive"
   ]
  },
  {
   "cell_type": "markdown",
   "id": "e6fb7de3",
   "metadata": {},
   "source": [
    "#### SVM predictions performed:\n",
    "- Binary classification\n",
    "- Multiclass classification\n",
    "- Regression"
   ]
  },
  {
   "cell_type": "markdown",
   "id": "bc88060a",
   "metadata": {},
   "source": [
    "#### Structured SVM:\n",
    "- structured prediction problems deal with outputs that have an inherent internal structure, where the prediction of one part of the output is dependent on other parts\n",
    "- eg: machine translation i.e. translation from 1 language to the other, POS tagging, etc"
   ]
  },
  {
   "cell_type": "markdown",
   "id": "b12dfdb8",
   "metadata": {},
   "source": [
    "#### Slack Variables:\n",
    "- they are data points outside the ε tube for regression or the misclassified records in classification i.e. data point belonging to a class placed in the wrong side of the classification boundary \n",
    "- they are used in soft margin classifier approach to penalize the data points and reduce the hinge loss score"
   ]
  },
  {
   "cell_type": "markdown",
   "id": "b12e7190",
   "metadata": {
    "vscode": {
     "languageId": "plaintext"
    }
   },
   "source": [
    "#### What are Primal & Dual Formulations?\n",
    "Primals:\n",
    "- the regular SVM functions, the goal is to maximize the marginal distance and minimize misclassifications\n",
    "\n",
    "Dual Formulations:\n",
    "- it focuses on relationship between datapoints.\n",
    "- it uses Lagrange multipliers for mathematical convenience by allowing kernels in prediction of outpus labels/values"
   ]
  }
 ],
 "metadata": {
  "language_info": {
   "name": "python"
  }
 },
 "nbformat": 4,
 "nbformat_minor": 5
}
