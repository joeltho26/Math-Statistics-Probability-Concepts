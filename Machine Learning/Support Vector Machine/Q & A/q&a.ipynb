{
 "cells": [
  {
   "cell_type": "markdown",
   "id": "59ee6fa5",
   "metadata": {},
   "source": [
    "### Important Questions of SVM:"
   ]
  },
  {
   "cell_type": "markdown",
   "id": "eccebd97",
   "metadata": {},
   "source": [
    "When and why does SVM work poorly?\n",
    "- Higher dimensions of data\n",
    "- Imbalanced dataset\n",
    "- Choosing incorrect kernels\n",
    "- Large dataset\n",
    "- Large amount of outliers\n",
    "- Lack of probability estimates"
   ]
  },
  {
   "cell_type": "markdown",
   "id": "66d835d2",
   "metadata": {},
   "source": [
    "How to select the kernels?\n",
    "- Try simple kernels first and proceed with complex ones like RBF\n",
    "- Radial Basis Function (RBF):\n",
    "    - ```↑ γ``` value, overfit\n",
    "- RBF and Polynomial kernels are computationally intensive"
   ]
  },
  {
   "cell_type": "markdown",
   "id": "e6fb7de3",
   "metadata": {},
   "source": [
    "What all types of predictions can SVM perform?\n",
    "- Binary classification\n",
    "- Multiclass classification\n",
    "- Regression"
   ]
  },
  {
   "cell_type": "markdown",
   "id": "bc88060a",
   "metadata": {},
   "source": [
    "What is Structured SVM?\n",
    "- Prediction of one part of the output is dependent on other parts\n",
    "- Eg: machine translation i.e. translation from 1 language to the other, POS tagging, etc\n",
    "- It uses Joint Feature Map\n",
    "    - features depend on both input 'x' & output 'y'"
   ]
  },
  {
   "cell_type": "markdown",
   "id": "b12dfdb8",
   "metadata": {},
   "source": [
    "What are Slack Variables?\n",
    "- Data points outside the ε tube for regression or the misclassified records w.r.t margin drawn in classification\n",
    "- In soft margin, slack variables/errors are penalizd to minimize the hinge loss"
   ]
  },
  {
   "cell_type": "markdown",
   "id": "b12e7190",
   "metadata": {
    "vscode": {
     "languageId": "plaintext"
    }
   },
   "source": [
    "What are Primal & Dual Formulations?\n",
    "\n",
    "- ```Primal Formulations```:\n",
    "    - uses regular SVM approach, optimization factor for drawing the optimal marginal hyperplane by penalizing the slack variable and minimizing the hinge loss value\n",
    "    \n",
    "\n",
    "- ```Dual Formulations```:\n",
    "    - uses Lagrange multipliers to maximizing the quadratic functions for optimization\n",
    "    - it is preferred when there is higher dimensional data"
   ]
  },
  {
   "cell_type": "code",
   "execution_count": null,
   "id": "d3eedd3a",
   "metadata": {},
   "outputs": [],
   "source": []
  }
 ],
 "metadata": {
  "language_info": {
   "name": "python"
  }
 },
 "nbformat": 4,
 "nbformat_minor": 5
}
