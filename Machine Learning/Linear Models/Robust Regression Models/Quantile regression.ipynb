{
 "cells": [
  {
   "cell_type": "markdown",
   "id": "d1995fa9",
   "metadata": {},
   "source": [
    "1. [Quantile Regression](#quantile-regression)"
   ]
  },
  {
   "cell_type": "markdown",
   "id": "a6ec42e7",
   "metadata": {},
   "source": [
    "#### Quantile Regression:\n",
    "- it is used when we need a model which is robust to outlier\n",
    "- here we try to estimate conditional quantile of response variable'\n",
    "- we have τ as a quantile parameter\n",
    "    - τ ranges between 0 - 1\n",
    "        - τ=0.5, median regression\n",
    "        - τ=0.05, lower quantile\n",
    "        - τ=0.95, upper quantile "
   ]
  }
 ],
 "metadata": {
  "language_info": {
   "name": "python"
  }
 },
 "nbformat": 4,
 "nbformat_minor": 5
}
