{
 "cells": [
  {
   "cell_type": "markdown",
   "id": "ae0f6b5e",
   "metadata": {},
   "source": [
    "1. [Tweedie Regression](#tweedie-regression)"
   ]
  },
  {
   "cell_type": "markdown",
   "id": "c8d03209",
   "metadata": {},
   "source": [
    "#### Tweedie Regression:\n",
    "- it is used when we have tweedie distribution of data\n",
    "- it is part of the generalized linear regression\n",
    "- it uses a link function to connect the linear predictors and the response variable (y) and minimize the residuals\n",
    "    - link function:\n",
    "        - log link (commonly used)\n",
    "- it uses similar approach as linear regression with coefficients i.e. slope and intercept which needs to be updated to find the best fit line\n",
    "- the loss function used here is the tweedie loss function\n",
    "- instead of OLS, it uses the MLE (Maximum Likelihood Estimation) which has a likelihood function\n",
    "    - the optimal value of coefficients are found when the likelihood function gives out the maximum value\n",
    "    - the value of likelihood function is made maximum via Iteratively Reweighted Least Squares\n",
    "    - it specifically uses the negative log likelihood of gamma distribution"
   ]
  },
  {
   "cell_type": "markdown",
   "id": "81d26440",
   "metadata": {},
   "source": [
    "Tweedie Distribution:\n",
    "- it contains values that are 0, +ve and right skewed\n",
    "- it is a family of probability distribution\n",
    "    - Gamma\n",
    "    - Inverse Gaussian\n",
    "    - Normal continuous\n",
    "- the tweedie distribution has 3 params \n",
    "    - p = power parameter\n",
    "    - μ = mean parameter\n",
    "    - φ = scale/dispersion parameter\n",
    "        - high value, make distribution wider\n",
    "        - low value, make distribution narrow\n",
    "- the various values for power parameter p results in different distribution\n",
    "    - p = 0, normal distribution\n",
    "    - p = 1, poisson distribution\n",
    "    - 1 < p < 2, compound poisson-gamma distribution \n",
    "    - p = 2, gamma distribution\n",
    "    - p = 3, inverse gaussian distribution\n",
    "- the variance of tweedie distribution\n",
    "    - variance = φ(μ)^p\n",
    "    - mean = μ"
   ]
  },
  {
   "cell_type": "markdown",
   "id": "c1f26553",
   "metadata": {},
   "source": []
  }
 ],
 "metadata": {
  "language_info": {
   "name": "python"
  }
 },
 "nbformat": 4,
 "nbformat_minor": 5
}
