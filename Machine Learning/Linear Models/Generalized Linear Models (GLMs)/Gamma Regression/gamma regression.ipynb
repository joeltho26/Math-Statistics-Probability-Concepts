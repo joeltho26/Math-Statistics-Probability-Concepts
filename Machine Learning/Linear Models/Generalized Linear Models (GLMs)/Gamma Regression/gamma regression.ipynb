{
 "cells": [
  {
   "cell_type": "markdown",
   "id": "9dcb9f6d",
   "metadata": {},
   "source": [
    "1. [Gamma Regression](#gamma-regression)"
   ]
  },
  {
   "cell_type": "markdown",
   "metadata": {},
   "source": [
    "#### Gamma Regression:\n",
    "- used when there is gamma distribution at hand\n",
    "- it is generalized linear model\n",
    "- the gamma regression also has coefficient similar to linear regression.\n",
    "- a link function is used to connect the linear predictors and the mean of response variable\n",
    "    - link functions:\n",
    "        - log link (standard choice)\n",
    "        - inverse link\n",
    "        - identity link\n",
    "- like OLS for linear regression, the coefficients of gamma regression is estimated by Maximum Likelihood Estimation (MLE)\n",
    "    - Maximum Likelihood Estimation (MLE),\n",
    "        - we use a likelihood function, by varying the values for the coefficients of gamma regression, we will find the maximum value for the likelihood function\n",
    "        - we identify the best coefficient values for gamma regression to find the maximum of the likelihood function\n",
    "        - the value of likelihood function is made maximum via Iteratively Reweighted Least Squares (IRLS)\n",
    "        - it specifically uses the negative log likelihood of gamma distribution"
   ]
  },
  {
   "cell_type": "markdown",
   "metadata": {},
   "source": [
    "Gamma Distribution:\n",
    "- it is a continuous probability distribution\n",
    "- it is +ve and right skewed and continuous\n",
    "- it is called as wait-time distribution\n",
    "- it tells us about the probability of wait time for independent events β to happen α times with a period of time.\n",
    "- the mean and variance of gamma distribution is either determined by rate (β) and shape (α) or shape (α) and scale (θ).\n",
    "    - θ/λ = scale parameter\n",
    "        - how spread out the distribution is horizontally\n",
    "        - small values, narrow and taller peak\n",
    "        - large values, wider and lower peak\n",
    "    - β = rate parameter\n",
    "        - inverse of θ\n",
    "        - large values, means frequently happen and results in narrow distribution\n",
    "    - α/k =  shape parameter\n",
    "        - forms the distribution curve\n",
    "        - small values i.e. <= 1, heavily skewed to right\n",
    "        - large values, symmetric\n",
    "    - Shape (α/k) and Rate (β):\n",
    "        - mean = α/β\n",
    "        - variance = α/(β)^2\n",
    "    - Shape (α/k) and Scale (θ/λ):\n",
    "        - mean = αβ\n",
    "        - variance = α(β)^2\n",
    "- eg: number of calls received by the call center in a day\n",
    "- special type of gamma distributions are erlang distribution, chi-squared distribution, exponential distribution"
   ]
  },
  {
   "cell_type": "markdown",
   "id": "54d8b05c",
   "metadata": {},
   "source": []
  }
 ],
 "metadata": {
  "language_info": {
   "name": "python"
  }
 },
 "nbformat": 4,
 "nbformat_minor": 5
}
