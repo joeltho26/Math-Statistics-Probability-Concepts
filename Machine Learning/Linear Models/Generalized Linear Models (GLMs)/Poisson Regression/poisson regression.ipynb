{
 "cells": [
  {
   "cell_type": "markdown",
   "id": "28d01495",
   "metadata": {},
   "source": [
    "1. [Poisson Regression](#poisson-regression)"
   ]
  },
  {
   "cell_type": "markdown",
   "id": "b33e53fd",
   "metadata": {},
   "source": [
    "#### Poisson Regression:\n",
    "- used when we have poisson distribution of data\n",
    "- it is a generalized linear model\n",
    "- its working is very similar to gamma regression\n",
    "- the gamma regression also has coefficient similar to linear regression.\n",
    "- a link function is used to connect the linear predictors and the mean of response variable\n",
    "    - link functions:\n",
    "        - log link (standard choice)\n",
    "- like OLS for linear regression, the coefficients of gamma regression is estimated by Maximum Likelihood Estimation (MLE)\n",
    "    - Maximum Likelihood Estimation (MLE),\n",
    "        - we use a likelihood function, by varying the values for the coefficients of gamma regression, we will find the maximum value for the likelihood function\n",
    "        - we identify the best coefficient values for gamma regression to find the maximum of the likelihood function\n",
    "        - the value of likelihood function is made maximum via Iteratively Reweighted Least Squares (IRLS)\n",
    "        - it specifically uses the negative log likelihood of poisson distribution"
   ]
  },
  {
   "cell_type": "markdown",
   "id": "19a97aea",
   "metadata": {},
   "source": [
    "Poisson Distribution:\n",
    "- it is a discrete probability function \n",
    "- it explains about the probability of K independent events happening within a period of time.\n",
    "- it contains values that are 0, +ve and right skewed\n",
    "- the mean and variance of poisson distribution is determined by rate (λ).\n",
    "    - λ = rate parameter\n",
    "        - tells about the rate of events \n",
    "    - mean = λ\n",
    "    - variance = λ"
   ]
  },
  {
   "cell_type": "markdown",
   "id": "de190b76",
   "metadata": {},
   "source": []
  }
 ],
 "metadata": {
  "language_info": {
   "name": "python"
  }
 },
 "nbformat": 4,
 "nbformat_minor": 5
}
