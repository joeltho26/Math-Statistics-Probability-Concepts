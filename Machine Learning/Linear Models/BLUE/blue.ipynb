{
 "cells": [
  {
   "cell_type": "markdown",
   "id": "d15a79cd",
   "metadata": {},
   "source": [
    "1. [BLUE](#blue---best-linear-unbaised-estimator)"
   ]
  },
  {
   "cell_type": "markdown",
   "id": "5a99b245",
   "metadata": {},
   "source": [
    "#### BLUE - Best Linear Unbaised Estimator\n",
    "- its formalized by the Gauss-Markov Theorem\n",
    "- blue score is used to identify the best estimators for linear regression i.e. it has the smallest variance and also unbiased"
   ]
  },
  {
   "cell_type": "markdown",
   "id": "282de433",
   "metadata": {},
   "source": []
  }
 ],
 "metadata": {
  "language_info": {
   "name": "python"
  }
 },
 "nbformat": 4,
 "nbformat_minor": 5
}
