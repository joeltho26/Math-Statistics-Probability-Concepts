{
 "cells": [
  {
   "cell_type": "markdown",
   "id": "861adb66",
   "metadata": {},
   "source": [
    "1. [Elastic Net Regression](#elastic-net-regression)"
   ]
  },
  {
   "cell_type": "markdown",
   "metadata": {},
   "source": [
    "#### Elastic Net Regression:\n",
    "- used part of the regularization technique to reduce over fitting\n",
    "- it is a combination of Lasso and Ridge regression\n",
    "    - α => mixing parameter between lasso and ridge\n",
    "        - alpha = 1 => lasso\n",
    "        - alpha = 0 => ridge\n",
    "    - λ => regularization parameter\n",
    "- used when there are more parameters and there are correlation between them\n",
    "- the formula for elastic net regression = RSS + λ1 * slope^2 + λ2 * slope\n",
    "- to find the best values for λ1 & λ2 we use cross validation"
   ]
  },
  {
   "cell_type": "markdown",
   "id": "b79a8100",
   "metadata": {},
   "source": []
  }
 ],
 "metadata": {
  "language_info": {
   "name": "python"
  }
 },
 "nbformat": 4,
 "nbformat_minor": 5
}
