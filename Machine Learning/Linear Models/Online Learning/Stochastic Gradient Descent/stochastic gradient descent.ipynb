{
 "cells": [
  {
   "cell_type": "markdown",
   "id": "3e04203f",
   "metadata": {},
   "source": [
    "1. [Stochastic Gradient Descent](#stochastic-gradient-descent)"
   ]
  },
  {
   "cell_type": "markdown",
   "id": "15892138",
   "metadata": {},
   "source": [
    "#### Stochastic Gradient Descent:\n",
    "- it is also a type of online learning algorithm\n",
    "- here the coefficients are adjusted or updated based on each single record at a time.\n",
    "- high training time and slower\n",
    "- it uses a learning rate parameter to optimally adjust the coefficients to attain minimal residuals\n",
    "- SGD has a convex function to find the global minima "
   ]
  },
  {
   "cell_type": "markdown",
   "id": "1117a604",
   "metadata": {},
   "source": []
  }
 ],
 "metadata": {
  "language_info": {
   "name": "python"
  }
 },
 "nbformat": 4,
 "nbformat_minor": 5
}
