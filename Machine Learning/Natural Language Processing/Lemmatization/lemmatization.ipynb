{
 "cells": [
  {
   "cell_type": "markdown",
   "id": "12d62311",
   "metadata": {},
   "source": [
    "#### Lemmatization:"
   ]
  },
  {
   "cell_type": "code",
   "execution_count": null,
   "id": "572f6ac8",
   "metadata": {},
   "outputs": [],
   "source": []
  },
  {
   "cell_type": "code",
   "execution_count": null,
   "id": "2f16debe",
   "metadata": {},
   "outputs": [],
   "source": []
  }
 ],
 "metadata": {
  "language_info": {
   "name": "python"
  }
 },
 "nbformat": 4,
 "nbformat_minor": 5
}
