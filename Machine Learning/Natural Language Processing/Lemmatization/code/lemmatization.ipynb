{
 "cells": [
  {
   "cell_type": "markdown",
   "id": "472d42f7",
   "metadata": {},
   "source": [
    "#### Lemmatization:"
   ]
  },
  {
   "cell_type": "code",
   "execution_count": 31,
   "id": "a2ac7c2f",
   "metadata": {},
   "outputs": [
    {
     "name": "stderr",
     "output_type": "stream",
     "text": [
      "[nltk_data] Downloading package punkt_tab to\n",
      "[nltk_data]     C:\\Users\\joelj\\AppData\\Roaming\\nltk_data...\n",
      "[nltk_data]   Package punkt_tab is already up-to-date!\n",
      "[nltk_data] Downloading package stopwords to\n",
      "[nltk_data]     C:\\Users\\joelj\\AppData\\Roaming\\nltk_data...\n",
      "[nltk_data]   Package stopwords is already up-to-date!\n",
      "[nltk_data] Downloading package wordnet to\n",
      "[nltk_data]     C:\\Users\\joelj\\AppData\\Roaming\\nltk_data...\n"
     ]
    },
    {
     "data": {
      "text/plain": [
       "True"
      ]
     },
     "execution_count": 31,
     "metadata": {},
     "output_type": "execute_result"
    }
   ],
   "source": [
    "from nltk.stem import WordNetLemmatizer\n",
    "import nltk\n",
    "from tqdm import tqdm\n",
    "from nltk.corpus import stopwords\n",
    "import re\n",
    "from nltk.tokenize import word_tokenize\n",
    "import pandas as pd \n",
    "nltk.download(\"punkt_tab\")\n",
    "nltk.download('stopwords')\n",
    "import numpy as np\n",
    "nltk.download('wordnet')"
   ]
  },
  {
   "cell_type": "code",
   "execution_count": 32,
   "id": "f075a747",
   "metadata": {},
   "outputs": [
    {
     "data": {
      "text/html": [
       "<div>\n",
       "<style scoped>\n",
       "    .dataframe tbody tr th:only-of-type {\n",
       "        vertical-align: middle;\n",
       "    }\n",
       "\n",
       "    .dataframe tbody tr th {\n",
       "        vertical-align: top;\n",
       "    }\n",
       "\n",
       "    .dataframe thead th {\n",
       "        text-align: right;\n",
       "    }\n",
       "</style>\n",
       "<table border=\"1\" class=\"dataframe\">\n",
       "  <thead>\n",
       "    <tr style=\"text-align: right;\">\n",
       "      <th></th>\n",
       "      <th>text</th>\n",
       "      <th>sentiment</th>\n",
       "    </tr>\n",
       "  </thead>\n",
       "  <tbody>\n",
       "    <tr>\n",
       "      <th>0</th>\n",
       "      <td>I`d have responded, if I were going</td>\n",
       "      <td>neutral</td>\n",
       "    </tr>\n",
       "    <tr>\n",
       "      <th>1</th>\n",
       "      <td>Sooo SAD I will miss you here in San Diego!!!</td>\n",
       "      <td>negative</td>\n",
       "    </tr>\n",
       "    <tr>\n",
       "      <th>2</th>\n",
       "      <td>my boss is bullying me...</td>\n",
       "      <td>negative</td>\n",
       "    </tr>\n",
       "    <tr>\n",
       "      <th>3</th>\n",
       "      <td>what interview! leave me alone</td>\n",
       "      <td>negative</td>\n",
       "    </tr>\n",
       "    <tr>\n",
       "      <th>4</th>\n",
       "      <td>Sons of ****, why couldn`t they put them on t...</td>\n",
       "      <td>negative</td>\n",
       "    </tr>\n",
       "  </tbody>\n",
       "</table>\n",
       "</div>"
      ],
      "text/plain": [
       "                                                text sentiment\n",
       "0                I`d have responded, if I were going   neutral\n",
       "1      Sooo SAD I will miss you here in San Diego!!!  negative\n",
       "2                          my boss is bullying me...  negative\n",
       "3                     what interview! leave me alone  negative\n",
       "4   Sons of ****, why couldn`t they put them on t...  negative"
      ]
     },
     "execution_count": 32,
     "metadata": {},
     "output_type": "execute_result"
    }
   ],
   "source": [
    "data = pd.read_csv(\"../data/train.csv\", delimiter=\",\", usecols=[\"text\",\"sentiment\"])\n",
    "data.head(5)"
   ]
  },
  {
   "cell_type": "code",
   "execution_count": 33,
   "id": "e5a2a1a5",
   "metadata": {},
   "outputs": [
    {
     "data": {
      "text/plain": [
       "text         1\n",
       "sentiment    0\n",
       "dtype: int64"
      ]
     },
     "execution_count": 33,
     "metadata": {},
     "output_type": "execute_result"
    }
   ],
   "source": [
    "data.isnull().sum()"
   ]
  },
  {
   "cell_type": "code",
   "execution_count": 34,
   "id": "c54c46a9",
   "metadata": {},
   "outputs": [
    {
     "name": "stderr",
     "output_type": "stream",
     "text": [
      "100%|██████████| 27481/27481 [00:00<00:00, 199565.89it/s]"
     ]
    },
    {
     "name": "stdout",
     "output_type": "stream",
     "text": [
      "[314]\n"
     ]
    },
    {
     "name": "stderr",
     "output_type": "stream",
     "text": [
      "\n"
     ]
    }
   ],
   "source": [
    "indexes = []\n",
    "indexes = [index for index in tqdm(range(len(data[\"text\"]))) if data[\"text\"][index] is np.nan]\n",
    "print(indexes)"
   ]
  },
  {
   "cell_type": "code",
   "execution_count": 35,
   "id": "9f9e5b6a",
   "metadata": {},
   "outputs": [
    {
     "name": "stdout",
     "output_type": "stream",
     "text": [
      "310    Just opened a facebook account, I`m a little c...\n",
      "311                                     Ship. I`m stuck.\n",
      "312              DUSTBIN BABY ON AT 11.30 Cannot wait  x\n",
      "313     Not going to dwell on it. It happened, it`s p...\n",
      "314    It looks like the office TV DOES get MLB Netwo...\n",
      "315    Home empty handed.  No comics found today.  I ...\n",
      "316    Laying in bed til workkk... Oh the life. Defin...\n",
      "Name: text, dtype: object\n"
     ]
    }
   ],
   "source": [
    "data.drop(axis=0,index=indexes,inplace=True)\n",
    "data.reset_index(drop=True,inplace=True)\n",
    "print(data.loc[310:316,'text'])"
   ]
  },
  {
   "cell_type": "code",
   "execution_count": 36,
   "id": "acb4ce24",
   "metadata": {},
   "outputs": [
    {
     "name": "stderr",
     "output_type": "stream",
     "text": [
      "100%|██████████| 27480/27480 [02:20<00:00, 195.55it/s]"
     ]
    },
    {
     "name": "stdout",
     "output_type": "stream",
     "text": [
      "                             text sentiment\n",
      "0                 responded going   neutral\n",
      "1          sooo sad mi san diego   negative\n",
      "2                   bos bullying   negative\n",
      "3           interview leave alone  negative\n",
      "4  son put release already bought  negative\n"
     ]
    },
    {
     "name": "stderr",
     "output_type": "stream",
     "text": [
      "\n"
     ]
    }
   ],
   "source": [
    "stemming = WordNetLemmatizer()\n",
    "for index in tqdm(range(len(data[\"text\"]))):\n",
    "    words = word_tokenize(data[\"text\"][index])\n",
    "    words = [word.lower() for word in words]\n",
    "    words = \" \".join(stemming.lemmatize(str(word)) for word in words if word not in stopwords.words('english'))\n",
    "    words = re.sub(\"[^a-zA-Z0-9]+\",\" \", words)\n",
    "    data.loc[index,\"text\"] = re.sub(\"([/s]+){2,}\",\"\",words)\n",
    "print(data.head(5))"
   ]
  },
  {
   "cell_type": "code",
   "execution_count": null,
   "id": "51caa5eb",
   "metadata": {},
   "outputs": [],
   "source": []
  }
 ],
 "metadata": {
  "kernelspec": {
   "display_name": "Python 3",
   "language": "python",
   "name": "python3"
  },
  "language_info": {
   "codemirror_mode": {
    "name": "ipython",
    "version": 3
   },
   "file_extension": ".py",
   "mimetype": "text/x-python",
   "name": "python",
   "nbconvert_exporter": "python",
   "pygments_lexer": "ipython3",
   "version": "3.9.6"
  }
 },
 "nbformat": 4,
 "nbformat_minor": 5
}
