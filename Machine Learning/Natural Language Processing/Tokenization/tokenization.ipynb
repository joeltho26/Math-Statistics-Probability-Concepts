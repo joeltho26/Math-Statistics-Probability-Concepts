{
 "cells": [
  {
   "cell_type": "markdown",
   "id": "ae208bab",
   "metadata": {},
   "source": [
    "1. [Tokenization](#tokenization)"
   ]
  },
  {
   "cell_type": "markdown",
   "id": "a2862452",
   "metadata": {},
   "source": [
    "#### Tokenization:\n",
    "- it is a process of breaking down a paragraph/sentence into several sentences/words\n",
    "- Important terminologies:\n",
    "    - corpus => collection of documents\n",
    "    - document => collection of paragraphs with sentences and words within it\n",
    "    - vocabulary => unique words in the document/corpus\n",
    "    - words\n"
   ]
  },
  {
   "cell_type": "markdown",
   "id": "e2e0d22a",
   "metadata": {},
   "source": []
  }
 ],
 "metadata": {
  "language_info": {
   "name": "python"
  }
 },
 "nbformat": 4,
 "nbformat_minor": 5
}
