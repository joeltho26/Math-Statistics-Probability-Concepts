{
 "cells": [
  {
   "cell_type": "markdown",
   "id": "a0df6d4e",
   "metadata": {},
   "source": [
    "#### Tokenization:"
   ]
  },
  {
   "cell_type": "code",
   "execution_count": 36,
   "id": "d901a0d1",
   "metadata": {},
   "outputs": [
    {
     "name": "stderr",
     "output_type": "stream",
     "text": [
      "[nltk_data] Downloading package punkt_tab to\n",
      "[nltk_data]     C:\\Users\\joelj\\AppData\\Roaming\\nltk_data...\n",
      "[nltk_data]   Package punkt_tab is already up-to-date!\n",
      "[nltk_data] Downloading package stopwords to\n",
      "[nltk_data]     C:\\Users\\joelj\\AppData\\Roaming\\nltk_data...\n",
      "[nltk_data]   Package stopwords is already up-to-date!\n"
     ]
    },
    {
     "data": {
      "text/plain": [
       "True"
      ]
     },
     "execution_count": 36,
     "metadata": {},
     "output_type": "execute_result"
    }
   ],
   "source": [
    "import nltk\n",
    "from tqdm import tqdm\n",
    "from nltk.corpus import stopwords\n",
    "from nltk.tokenize import sent_tokenize, word_tokenize, TweetTokenizer, TreebankWordTokenizer, wordpunct_tokenize\n",
    "import pandas as pd\n",
    "nltk.download('punkt_tab')\n",
    "nltk.download('stopwords')"
   ]
  },
  {
   "cell_type": "markdown",
   "id": "7e5671fe",
   "metadata": {},
   "source": [
    "#### sent_tokenize & word_tokenize:"
   ]
  },
  {
   "cell_type": "code",
   "execution_count": 37,
   "id": "92af6740",
   "metadata": {},
   "outputs": [
    {
     "name": "stdout",
     "output_type": "stream",
     "text": [
      "Shape: (27481, 2)\n",
      "                                                text sentiment\n",
      "0                I`d have responded. if I were going   neutral\n",
      "1      Sooo SAD I will miss you here in San Diego!!!  negative\n",
      "2                          my boss is bullying me...  negative\n",
      "3                     what interview! leave me alone  negative\n",
      "4   Sons of ****, why couldn`t they put them on t...  negative\n",
      "text         object\n",
      "sentiment    object\n",
      "dtype: object\n"
     ]
    }
   ],
   "source": [
    "data = pd.read_csv(filepath_or_buffer=\"../data/train.csv\",delimiter=\",\", usecols=['text','sentiment'])\n",
    "print(\"Shape:\",data.shape)\n",
    "print(data.head())\n",
    "print(data.dtypes)"
   ]
  },
  {
   "cell_type": "code",
   "execution_count": 38,
   "id": "fd8fe62e",
   "metadata": {},
   "outputs": [
    {
     "name": "stdout",
     "output_type": "stream",
     "text": [
      "text         1\n",
      "sentiment    0\n",
      "dtype: int64\n"
     ]
    },
    {
     "data": {
      "text/html": [
       "<div>\n",
       "<style scoped>\n",
       "    .dataframe tbody tr th:only-of-type {\n",
       "        vertical-align: middle;\n",
       "    }\n",
       "\n",
       "    .dataframe tbody tr th {\n",
       "        vertical-align: top;\n",
       "    }\n",
       "\n",
       "    .dataframe thead th {\n",
       "        text-align: right;\n",
       "    }\n",
       "</style>\n",
       "<table border=\"1\" class=\"dataframe\">\n",
       "  <thead>\n",
       "    <tr style=\"text-align: right;\">\n",
       "      <th></th>\n",
       "      <th>text</th>\n",
       "      <th>sentiment</th>\n",
       "    </tr>\n",
       "  </thead>\n",
       "  <tbody>\n",
       "    <tr>\n",
       "      <th>0</th>\n",
       "      <td>False</td>\n",
       "      <td>False</td>\n",
       "    </tr>\n",
       "    <tr>\n",
       "      <th>1</th>\n",
       "      <td>False</td>\n",
       "      <td>False</td>\n",
       "    </tr>\n",
       "    <tr>\n",
       "      <th>2</th>\n",
       "      <td>False</td>\n",
       "      <td>False</td>\n",
       "    </tr>\n",
       "    <tr>\n",
       "      <th>3</th>\n",
       "      <td>False</td>\n",
       "      <td>False</td>\n",
       "    </tr>\n",
       "    <tr>\n",
       "      <th>4</th>\n",
       "      <td>False</td>\n",
       "      <td>False</td>\n",
       "    </tr>\n",
       "    <tr>\n",
       "      <th>...</th>\n",
       "      <td>...</td>\n",
       "      <td>...</td>\n",
       "    </tr>\n",
       "    <tr>\n",
       "      <th>27476</th>\n",
       "      <td>False</td>\n",
       "      <td>False</td>\n",
       "    </tr>\n",
       "    <tr>\n",
       "      <th>27477</th>\n",
       "      <td>False</td>\n",
       "      <td>False</td>\n",
       "    </tr>\n",
       "    <tr>\n",
       "      <th>27478</th>\n",
       "      <td>False</td>\n",
       "      <td>False</td>\n",
       "    </tr>\n",
       "    <tr>\n",
       "      <th>27479</th>\n",
       "      <td>False</td>\n",
       "      <td>False</td>\n",
       "    </tr>\n",
       "    <tr>\n",
       "      <th>27480</th>\n",
       "      <td>False</td>\n",
       "      <td>False</td>\n",
       "    </tr>\n",
       "  </tbody>\n",
       "</table>\n",
       "<p>27481 rows × 2 columns</p>\n",
       "</div>"
      ],
      "text/plain": [
       "        text  sentiment\n",
       "0      False      False\n",
       "1      False      False\n",
       "2      False      False\n",
       "3      False      False\n",
       "4      False      False\n",
       "...      ...        ...\n",
       "27476  False      False\n",
       "27477  False      False\n",
       "27478  False      False\n",
       "27479  False      False\n",
       "27480  False      False\n",
       "\n",
       "[27481 rows x 2 columns]"
      ]
     },
     "execution_count": 38,
     "metadata": {},
     "output_type": "execute_result"
    }
   ],
   "source": [
    "print(data.isnull().sum())\n",
    "data.isnull()"
   ]
  },
  {
   "cell_type": "code",
   "execution_count": 39,
   "id": "2122c780",
   "metadata": {},
   "outputs": [
    {
     "name": "stdout",
     "output_type": "stream",
     "text": [
      "[314]\n"
     ]
    }
   ],
   "source": [
    "val = data.isnull()\n",
    "index = [i for i in range(len(val)) if val['text'][i] == True]\n",
    "print(index)"
   ]
  },
  {
   "cell_type": "code",
   "execution_count": 40,
   "id": "ecfbfdb1",
   "metadata": {},
   "outputs": [
    {
     "name": "stdout",
     "output_type": "stream",
     "text": [
      "    text sentiment\n",
      "314  NaN   neutral\n"
     ]
    }
   ],
   "source": [
    "print(data.iloc[index,:])"
   ]
  },
  {
   "cell_type": "code",
   "execution_count": 41,
   "id": "96fcb1f9",
   "metadata": {},
   "outputs": [
    {
     "name": "stdout",
     "output_type": "stream",
     "text": [
      "text         0\n",
      "sentiment    0\n",
      "dtype: int64\n"
     ]
    },
    {
     "data": {
      "text/plain": [
       "(27480, 2)"
      ]
     },
     "execution_count": 41,
     "metadata": {},
     "output_type": "execute_result"
    }
   ],
   "source": [
    "data.drop(axis=0,index=index,inplace=True)\n",
    "print(data.isnull().sum())\n",
    "data.reset_index(drop=True, inplace=True)\n",
    "data.shape"
   ]
  },
  {
   "cell_type": "code",
   "execution_count": 43,
   "id": "ff36e63e",
   "metadata": {},
   "outputs": [
    {
     "name": "stderr",
     "output_type": "stream",
     "text": [
      "100%|██████████| 27480/27480 [02:28<00:00, 184.76it/s]"
     ]
    },
    {
     "name": "stdout",
     "output_type": "stream",
     "text": [
      "                                                    text sentiment\n",
      "0                                 I ` responded .I going   neutral\n",
      "1                         Sooo SAD I miss San Diego ! !!  negative\n",
      "2                                      boss bullying ...  negative\n",
      "3                                 interview !leave alone  negative\n",
      "4           Sons * * * * , ` put releases already bought  negative\n",
      "...                                                  ...       ...\n",
      "27475  wish could come see u Denver husband lost job ...  negative\n",
      "27476  I ` wondered rake .The client made clear .NET ...  negative\n",
      "27477  Yay good .Enjoy break - probably need hectic w...  positive\n",
      "27478                                But worth * * * * .  positive\n",
      "27479  All flirting going - The ATG smiles .Yay .( ( ...   neutral\n",
      "\n",
      "[27480 rows x 2 columns]\n"
     ]
    },
    {
     "name": "stderr",
     "output_type": "stream",
     "text": [
      "\n"
     ]
    }
   ],
   "source": [
    "for index in tqdm(range(len(data['text']))): \n",
    "    token_sentences = sent_tokenize(data['text'][index], language='english')\n",
    "    text_data = \"\"\n",
    "    for sentence in token_sentences:\n",
    "        words = word_tokenize(sentence)\n",
    "        text_data += \" \".join(word for word in words if word not in stopwords.words('english'))\n",
    "    data.loc[index,'text'] = text_data \n",
    "print(data)"
   ]
  },
  {
   "cell_type": "markdown",
   "id": "3efdb784",
   "metadata": {},
   "source": [
    "#### Tweet Tokenizer:"
   ]
  },
  {
   "cell_type": "code",
   "execution_count": 44,
   "id": "365aa1c8",
   "metadata": {},
   "outputs": [],
   "source": [
    "data2 = pd.read_csv(filepath_or_buffer=\"../data/train.csv\",delimiter=\",\", usecols=['text','sentiment'])"
   ]
  },
  {
   "cell_type": "code",
   "execution_count": 45,
   "id": "1f17bee6",
   "metadata": {},
   "outputs": [],
   "source": [
    "index = [i for i in range(len(val)) if val['text'][i] == True]\n",
    "data2.drop(axis=0,index=index,inplace=True)\n",
    "data2.reset_index(drop=True, inplace=True)"
   ]
  },
  {
   "cell_type": "code",
   "execution_count": 46,
   "id": "02f69d72",
   "metadata": {},
   "outputs": [
    {
     "name": "stdout",
     "output_type": "stream",
     "text": [
      "(27480, 2)\n",
      "                                                    text sentiment\n",
      "27475   wish we could come see u on Denver  husband l...  negative\n",
      "27476   I`ve wondered about rake to.  The client has ...  negative\n",
      "27477   Yay good for both of you. Enjoy the break - y...  positive\n",
      "27478                         But it was worth it  ****.  positive\n",
      "27479     All this flirting going on - The ATG smiles...   neutral\n"
     ]
    }
   ],
   "source": [
    "print(data2.shape)\n",
    "print(data2.tail())"
   ]
  },
  {
   "cell_type": "code",
   "execution_count": null,
   "id": "fc9492ed",
   "metadata": {},
   "outputs": [
    {
     "name": "stdout",
     "output_type": "stream",
     "text": [
      "['I', '`', 'd', 'have', 'responded', '.', 'if', 'I', 'were', 'going']\n"
     ]
    }
   ],
   "source": [
    "tweet_tokenizer = TweetTokenizer()\n",
    "tweet_token = \"\"\n",
    "for index in tqdm(range(len(data2['text']))):\n",
    "    tokenized = tweet_tokenizer.tokenize(data2['text'][index])\n",
    "    tweet_token += \" \".join(token for token in tokenized if token not in stopwords.words('english'))\n",
    "    data2.loc[index,'text'] = tweet_token\n",
    "print(data2)"
   ]
  },
  {
   "cell_type": "code",
   "execution_count": null,
   "id": "c5faee69",
   "metadata": {},
   "outputs": [],
   "source": []
  }
 ],
 "metadata": {
  "kernelspec": {
   "display_name": "Python 3",
   "language": "python",
   "name": "python3"
  },
  "language_info": {
   "codemirror_mode": {
    "name": "ipython",
    "version": 3
   },
   "file_extension": ".py",
   "mimetype": "text/x-python",
   "name": "python",
   "nbconvert_exporter": "python",
   "pygments_lexer": "ipython3",
   "version": "3.9.6"
  }
 },
 "nbformat": 4,
 "nbformat_minor": 5
}
