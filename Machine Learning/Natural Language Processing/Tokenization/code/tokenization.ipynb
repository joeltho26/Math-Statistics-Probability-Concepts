{
 "cells": [
  {
   "cell_type": "markdown",
   "id": "a0df6d4e",
   "metadata": {},
   "source": [
    "#### Tokenization:"
   ]
  },
  {
   "cell_type": "code",
   "execution_count": 4,
   "id": "d901a0d1",
   "metadata": {},
   "outputs": [
    {
     "name": "stderr",
     "output_type": "stream",
     "text": [
      "[nltk_data] Downloading package punkt_tab to\n",
      "[nltk_data]     C:\\Users\\joelj\\AppData\\Roaming\\nltk_data...\n",
      "[nltk_data]   Package punkt_tab is already up-to-date!\n",
      "[nltk_data] Downloading package stopwords to\n",
      "[nltk_data]     C:\\Users\\joelj\\AppData\\Roaming\\nltk_data...\n",
      "[nltk_data]   Package stopwords is already up-to-date!\n"
     ]
    },
    {
     "data": {
      "text/plain": [
       "True"
      ]
     },
     "execution_count": 4,
     "metadata": {},
     "output_type": "execute_result"
    }
   ],
   "source": [
    "import nltk\n",
    "import re\n",
    "from tqdm import tqdm\n",
    "from nltk.corpus import stopwords\n",
    "from nltk.tokenize import sent_tokenize, word_tokenize, TweetTokenizer, TreebankWordTokenizer, wordpunct_tokenize\n",
    "import pandas as pd\n",
    "nltk.download('punkt_tab')\n",
    "nltk.download('stopwords')"
   ]
  },
  {
   "cell_type": "markdown",
   "id": "7e5671fe",
   "metadata": {},
   "source": [
    "#### sent_tokenize & word_tokenize:"
   ]
  },
  {
   "cell_type": "code",
   "execution_count": 5,
   "id": "92af6740",
   "metadata": {},
   "outputs": [
    {
     "name": "stdout",
     "output_type": "stream",
     "text": [
      "Shape: (27481, 2)\n",
      "                                                text sentiment\n",
      "0                I`d have responded. if I were going   neutral\n",
      "1      Sooo SAD I will miss you here in San Diego!!!  negative\n",
      "2                          my boss is bullying me...  negative\n",
      "3                     what interview! leave me alone  negative\n",
      "4   Sons of ****, why couldn`t they put them on t...  negative\n",
      "text         object\n",
      "sentiment    object\n",
      "dtype: object\n"
     ]
    }
   ],
   "source": [
    "data = pd.read_csv(filepath_or_buffer=\"../data/train.csv\",delimiter=\",\", usecols=['text','sentiment'])\n",
    "print(\"Shape:\",data.shape)\n",
    "print(data.head())\n",
    "print(data.dtypes)"
   ]
  },
  {
   "cell_type": "code",
   "execution_count": 6,
   "id": "fd8fe62e",
   "metadata": {},
   "outputs": [
    {
     "name": "stdout",
     "output_type": "stream",
     "text": [
      "text         1\n",
      "sentiment    0\n",
      "dtype: int64\n"
     ]
    },
    {
     "data": {
      "text/html": [
       "<div>\n",
       "<style scoped>\n",
       "    .dataframe tbody tr th:only-of-type {\n",
       "        vertical-align: middle;\n",
       "    }\n",
       "\n",
       "    .dataframe tbody tr th {\n",
       "        vertical-align: top;\n",
       "    }\n",
       "\n",
       "    .dataframe thead th {\n",
       "        text-align: right;\n",
       "    }\n",
       "</style>\n",
       "<table border=\"1\" class=\"dataframe\">\n",
       "  <thead>\n",
       "    <tr style=\"text-align: right;\">\n",
       "      <th></th>\n",
       "      <th>text</th>\n",
       "      <th>sentiment</th>\n",
       "    </tr>\n",
       "  </thead>\n",
       "  <tbody>\n",
       "    <tr>\n",
       "      <th>0</th>\n",
       "      <td>False</td>\n",
       "      <td>False</td>\n",
       "    </tr>\n",
       "    <tr>\n",
       "      <th>1</th>\n",
       "      <td>False</td>\n",
       "      <td>False</td>\n",
       "    </tr>\n",
       "    <tr>\n",
       "      <th>2</th>\n",
       "      <td>False</td>\n",
       "      <td>False</td>\n",
       "    </tr>\n",
       "    <tr>\n",
       "      <th>3</th>\n",
       "      <td>False</td>\n",
       "      <td>False</td>\n",
       "    </tr>\n",
       "    <tr>\n",
       "      <th>4</th>\n",
       "      <td>False</td>\n",
       "      <td>False</td>\n",
       "    </tr>\n",
       "    <tr>\n",
       "      <th>...</th>\n",
       "      <td>...</td>\n",
       "      <td>...</td>\n",
       "    </tr>\n",
       "    <tr>\n",
       "      <th>27476</th>\n",
       "      <td>False</td>\n",
       "      <td>False</td>\n",
       "    </tr>\n",
       "    <tr>\n",
       "      <th>27477</th>\n",
       "      <td>False</td>\n",
       "      <td>False</td>\n",
       "    </tr>\n",
       "    <tr>\n",
       "      <th>27478</th>\n",
       "      <td>False</td>\n",
       "      <td>False</td>\n",
       "    </tr>\n",
       "    <tr>\n",
       "      <th>27479</th>\n",
       "      <td>False</td>\n",
       "      <td>False</td>\n",
       "    </tr>\n",
       "    <tr>\n",
       "      <th>27480</th>\n",
       "      <td>False</td>\n",
       "      <td>False</td>\n",
       "    </tr>\n",
       "  </tbody>\n",
       "</table>\n",
       "<p>27481 rows × 2 columns</p>\n",
       "</div>"
      ],
      "text/plain": [
       "        text  sentiment\n",
       "0      False      False\n",
       "1      False      False\n",
       "2      False      False\n",
       "3      False      False\n",
       "4      False      False\n",
       "...      ...        ...\n",
       "27476  False      False\n",
       "27477  False      False\n",
       "27478  False      False\n",
       "27479  False      False\n",
       "27480  False      False\n",
       "\n",
       "[27481 rows x 2 columns]"
      ]
     },
     "execution_count": 6,
     "metadata": {},
     "output_type": "execute_result"
    }
   ],
   "source": [
    "print(data.isnull().sum())\n",
    "data.isnull()"
   ]
  },
  {
   "cell_type": "code",
   "execution_count": 7,
   "id": "2122c780",
   "metadata": {},
   "outputs": [
    {
     "name": "stdout",
     "output_type": "stream",
     "text": [
      "[314]\n"
     ]
    }
   ],
   "source": [
    "val = data.isnull()\n",
    "index = [i for i in range(len(val)) if val['text'][i] == True]\n",
    "print(index)"
   ]
  },
  {
   "cell_type": "code",
   "execution_count": 8,
   "id": "ecfbfdb1",
   "metadata": {},
   "outputs": [
    {
     "name": "stdout",
     "output_type": "stream",
     "text": [
      "    text sentiment\n",
      "314  NaN   neutral\n"
     ]
    }
   ],
   "source": [
    "print(data.iloc[index,:])"
   ]
  },
  {
   "cell_type": "code",
   "execution_count": 9,
   "id": "96fcb1f9",
   "metadata": {},
   "outputs": [
    {
     "name": "stdout",
     "output_type": "stream",
     "text": [
      "text         0\n",
      "sentiment    0\n",
      "dtype: int64\n"
     ]
    },
    {
     "data": {
      "text/plain": [
       "(27480, 2)"
      ]
     },
     "execution_count": 9,
     "metadata": {},
     "output_type": "execute_result"
    }
   ],
   "source": [
    "data.drop(axis=0,index=index,inplace=True)\n",
    "print(data.isnull().sum())\n",
    "data.reset_index(drop=True, inplace=True)\n",
    "data.shape"
   ]
  },
  {
   "cell_type": "code",
   "execution_count": 10,
   "id": "ff36e63e",
   "metadata": {},
   "outputs": [
    {
     "name": "stderr",
     "output_type": "stream",
     "text": [
      "100%|██████████| 27480/27480 [02:34<00:00, 177.73it/s]"
     ]
    },
    {
     "name": "stdout",
     "output_type": "stream",
     "text": [
      "                               text sentiment\n",
      "0                   responded going   neutral\n",
      "1          sooo sad miss san diego   negative\n",
      "2                    boss bullying   negative\n",
      "3             interview leave alone  negative\n",
      "4  sons put releases already bought  negative\n"
     ]
    },
    {
     "name": "stderr",
     "output_type": "stream",
     "text": [
      "\n"
     ]
    }
   ],
   "source": [
    "for index in tqdm(range(len(data['text']))): \n",
    "    token_sentences = sent_tokenize(data['text'][index], language='english')\n",
    "    text_data = \"\"\n",
    "    for sentence in token_sentences:\n",
    "        words = word_tokenize(sentence)\n",
    "        words = [word.lower() for word in words]\n",
    "        text_data += \" \".join(word for word in words if word not in stopwords.words('english'))\n",
    "    text_data = re.sub('[^a-zA-Z0-9]+',\" \",text_data) \n",
    "    text_data = re.sub('([\\s]+){2,}', \"\", text_data)\n",
    "    data.loc[index,'text'] = text_data\n",
    "print(data.head())"
   ]
  },
  {
   "cell_type": "markdown",
   "id": "3efdb784",
   "metadata": {},
   "source": [
    "#### Tweet Tokenizer:"
   ]
  },
  {
   "cell_type": "code",
   "execution_count": 17,
   "id": "365aa1c8",
   "metadata": {},
   "outputs": [],
   "source": [
    "data2 = pd.read_csv(filepath_or_buffer=\"../data/train.csv\",delimiter=\",\", usecols=['text','sentiment'])"
   ]
  },
  {
   "cell_type": "code",
   "execution_count": 18,
   "id": "4c9059f6",
   "metadata": {},
   "outputs": [
    {
     "data": {
      "text/plain": [
       "text         1\n",
       "sentiment    0\n",
       "dtype: int64"
      ]
     },
     "execution_count": 18,
     "metadata": {},
     "output_type": "execute_result"
    }
   ],
   "source": [
    "data2.isnull().sum()"
   ]
  },
  {
   "cell_type": "code",
   "execution_count": 19,
   "id": "1f17bee6",
   "metadata": {},
   "outputs": [],
   "source": [
    "data2.dropna(axis=0, inplace=True)"
   ]
  },
  {
   "cell_type": "code",
   "execution_count": 20,
   "id": "b01fe91a",
   "metadata": {},
   "outputs": [
    {
     "data": {
      "text/plain": [
       "(27480, 2)"
      ]
     },
     "execution_count": 20,
     "metadata": {},
     "output_type": "execute_result"
    }
   ],
   "source": [
    "data2.isnull().sum()\n",
    "data2.shape"
   ]
  },
  {
   "cell_type": "code",
   "execution_count": 21,
   "id": "17d3321a",
   "metadata": {},
   "outputs": [],
   "source": [
    "data2.reset_index(drop=True, inplace=True)"
   ]
  },
  {
   "cell_type": "code",
   "execution_count": 22,
   "id": "fc9492ed",
   "metadata": {},
   "outputs": [
    {
     "name": "stderr",
     "output_type": "stream",
     "text": [
      "  0%|          | 0/27480 [00:00<?, ?it/s]"
     ]
    },
    {
     "name": "stderr",
     "output_type": "stream",
     "text": [
      "100%|██████████| 27480/27480 [28:24<00:00, 16.12it/s]\n"
     ]
    },
    {
     "name": "stdout",
     "output_type": "stream",
     "text": [
      "                                                text sentiment\n",
      "0                                    responded going   neutral\n",
      "1            responded goingsooo sad miss san diego   negative\n",
      "2   responded goingsooo sad miss san diego boss b...  negative\n",
      "3   responded goingsooo sad miss san diego boss b...  negative\n",
      "4   responded goingsooo sad miss san diego boss b...  negative\n"
     ]
    }
   ],
   "source": [
    "tweet_tokenizer = TweetTokenizer()\n",
    "tweet_token = \"\"\n",
    "for index in tqdm(range(len(data2['text']))):\n",
    "    tokenized = tweet_tokenizer.tokenize(data2['text'][index])\n",
    "    tokenized = [token.lower() for token in tokenized]\n",
    "    tweet_token += \" \".join(token for token in tokenized if token not in stopwords.words('english'))\n",
    "    tweet_token = re.sub(\"[^a-zA-Z0-9]+\", \" \", tweet_token)\n",
    "    tweet_token = re.sub(\"([\\s]+){2,}\",\"\",tweet_token)\n",
    "    data2.loc[index,'text'] = tweet_token\n",
    "print(data2.head())"
   ]
  },
  {
   "cell_type": "markdown",
   "id": "a85c40fa",
   "metadata": {},
   "source": [
    "#### TreebankWordTokenizer:"
   ]
  },
  {
   "cell_type": "code",
   "execution_count": 33,
   "id": "2507891e",
   "metadata": {},
   "outputs": [
    {
     "data": {
      "text/html": [
       "<div>\n",
       "<style scoped>\n",
       "    .dataframe tbody tr th:only-of-type {\n",
       "        vertical-align: middle;\n",
       "    }\n",
       "\n",
       "    .dataframe tbody tr th {\n",
       "        vertical-align: top;\n",
       "    }\n",
       "\n",
       "    .dataframe thead th {\n",
       "        text-align: right;\n",
       "    }\n",
       "</style>\n",
       "<table border=\"1\" class=\"dataframe\">\n",
       "  <thead>\n",
       "    <tr style=\"text-align: right;\">\n",
       "      <th></th>\n",
       "      <th>text</th>\n",
       "      <th>sentiment</th>\n",
       "    </tr>\n",
       "  </thead>\n",
       "  <tbody>\n",
       "    <tr>\n",
       "      <th>0</th>\n",
       "      <td>I`d have responded. if I were going</td>\n",
       "      <td>neutral</td>\n",
       "    </tr>\n",
       "    <tr>\n",
       "      <th>1</th>\n",
       "      <td>Sooo SAD I will miss you here in San Diego!!!</td>\n",
       "      <td>negative</td>\n",
       "    </tr>\n",
       "    <tr>\n",
       "      <th>2</th>\n",
       "      <td>my boss is bullying me...</td>\n",
       "      <td>negative</td>\n",
       "    </tr>\n",
       "    <tr>\n",
       "      <th>3</th>\n",
       "      <td>what interview! leave me alone</td>\n",
       "      <td>negative</td>\n",
       "    </tr>\n",
       "    <tr>\n",
       "      <th>4</th>\n",
       "      <td>Sons of ****, why couldn`t they put them on t...</td>\n",
       "      <td>negative</td>\n",
       "    </tr>\n",
       "  </tbody>\n",
       "</table>\n",
       "</div>"
      ],
      "text/plain": [
       "                                                text sentiment\n",
       "0                I`d have responded. if I were going   neutral\n",
       "1      Sooo SAD I will miss you here in San Diego!!!  negative\n",
       "2                          my boss is bullying me...  negative\n",
       "3                     what interview! leave me alone  negative\n",
       "4   Sons of ****, why couldn`t they put them on t...  negative"
      ]
     },
     "execution_count": 33,
     "metadata": {},
     "output_type": "execute_result"
    }
   ],
   "source": [
    "data3 = pd.read_csv(\"../data/train.csv\", delimiter=\",\", usecols=['text','sentiment'])\n",
    "data3.head(5)"
   ]
  },
  {
   "cell_type": "code",
   "execution_count": 34,
   "id": "d74dd2a5",
   "metadata": {},
   "outputs": [
    {
     "data": {
      "text/html": [
       "<div>\n",
       "<style scoped>\n",
       "    .dataframe tbody tr th:only-of-type {\n",
       "        vertical-align: middle;\n",
       "    }\n",
       "\n",
       "    .dataframe tbody tr th {\n",
       "        vertical-align: top;\n",
       "    }\n",
       "\n",
       "    .dataframe thead th {\n",
       "        text-align: right;\n",
       "    }\n",
       "</style>\n",
       "<table border=\"1\" class=\"dataframe\">\n",
       "  <thead>\n",
       "    <tr style=\"text-align: right;\">\n",
       "      <th></th>\n",
       "      <th>text</th>\n",
       "      <th>sentiment</th>\n",
       "    </tr>\n",
       "  </thead>\n",
       "  <tbody>\n",
       "    <tr>\n",
       "      <th>312</th>\n",
       "      <td>DUSTBIN BABY ON AT 11.30 Cannot wait  x</td>\n",
       "      <td>positive</td>\n",
       "    </tr>\n",
       "    <tr>\n",
       "      <th>313</th>\n",
       "      <td>Not going to dwell on it. It happened, it`s p...</td>\n",
       "      <td>negative</td>\n",
       "    </tr>\n",
       "    <tr>\n",
       "      <th>315</th>\n",
       "      <td>It looks like the office TV DOES get MLB Netwo...</td>\n",
       "      <td>neutral</td>\n",
       "    </tr>\n",
       "    <tr>\n",
       "      <th>316</th>\n",
       "      <td>Home empty handed.  No comics found today.  I ...</td>\n",
       "      <td>neutral</td>\n",
       "    </tr>\n",
       "  </tbody>\n",
       "</table>\n",
       "</div>"
      ],
      "text/plain": [
       "                                                  text sentiment\n",
       "312            DUSTBIN BABY ON AT 11.30 Cannot wait  x  positive\n",
       "313   Not going to dwell on it. It happened, it`s p...  negative\n",
       "315  It looks like the office TV DOES get MLB Netwo...   neutral\n",
       "316  Home empty handed.  No comics found today.  I ...   neutral"
      ]
     },
     "execution_count": 34,
     "metadata": {},
     "output_type": "execute_result"
    }
   ],
   "source": [
    "data3.dropna(axis=0,inplace=True)\n",
    "data3.iloc[312:316]"
   ]
  },
  {
   "cell_type": "code",
   "execution_count": 35,
   "id": "c5faee69",
   "metadata": {},
   "outputs": [
    {
     "data": {
      "text/html": [
       "<div>\n",
       "<style scoped>\n",
       "    .dataframe tbody tr th:only-of-type {\n",
       "        vertical-align: middle;\n",
       "    }\n",
       "\n",
       "    .dataframe tbody tr th {\n",
       "        vertical-align: top;\n",
       "    }\n",
       "\n",
       "    .dataframe thead th {\n",
       "        text-align: right;\n",
       "    }\n",
       "</style>\n",
       "<table border=\"1\" class=\"dataframe\">\n",
       "  <thead>\n",
       "    <tr style=\"text-align: right;\">\n",
       "      <th></th>\n",
       "      <th>text</th>\n",
       "      <th>sentiment</th>\n",
       "    </tr>\n",
       "  </thead>\n",
       "  <tbody>\n",
       "    <tr>\n",
       "      <th>312</th>\n",
       "      <td>DUSTBIN BABY ON AT 11.30 Cannot wait  x</td>\n",
       "      <td>positive</td>\n",
       "    </tr>\n",
       "    <tr>\n",
       "      <th>313</th>\n",
       "      <td>Not going to dwell on it. It happened, it`s p...</td>\n",
       "      <td>negative</td>\n",
       "    </tr>\n",
       "    <tr>\n",
       "      <th>314</th>\n",
       "      <td>It looks like the office TV DOES get MLB Netwo...</td>\n",
       "      <td>neutral</td>\n",
       "    </tr>\n",
       "    <tr>\n",
       "      <th>315</th>\n",
       "      <td>Home empty handed.  No comics found today.  I ...</td>\n",
       "      <td>neutral</td>\n",
       "    </tr>\n",
       "  </tbody>\n",
       "</table>\n",
       "</div>"
      ],
      "text/plain": [
       "                                                  text sentiment\n",
       "312            DUSTBIN BABY ON AT 11.30 Cannot wait  x  positive\n",
       "313   Not going to dwell on it. It happened, it`s p...  negative\n",
       "314  It looks like the office TV DOES get MLB Netwo...   neutral\n",
       "315  Home empty handed.  No comics found today.  I ...   neutral"
      ]
     },
     "execution_count": 35,
     "metadata": {},
     "output_type": "execute_result"
    }
   ],
   "source": [
    "data3.reset_index(drop=True,inplace=True)\n",
    "data3.iloc[312:316]"
   ]
  },
  {
   "cell_type": "markdown",
   "id": "fec82e12",
   "metadata": {},
   "source": [
    "#### wordpunct_tokenize:"
   ]
  },
  {
   "cell_type": "code",
   "execution_count": null,
   "id": "ecab5912",
   "metadata": {},
   "outputs": [
    {
     "name": "stderr",
     "output_type": "stream",
     "text": [
      "100%|██████████| 27480/27480 [02:31<00:00, 181.50it/s]\n"
     ]
    },
    {
     "name": "stdout",
     "output_type": "stream",
     "text": [
      "                               text sentiment\n",
      "0                   responded going   neutral\n",
      "1          sooo sad miss san diego   negative\n",
      "2                    boss bullying   negative\n",
      "3             interview leave alone  negative\n",
      "4  sons put releases already bought  negative\n"
     ]
    }
   ],
   "source": [
    "for index in tqdm(range(len(data['text']))):\n",
    "    text_data = wordpunct_tokenize(data3['text'][index])\n",
    "    words = [word.lower() for word in text_data]\n",
    "    text_data = \" \".join(word for word in words if word not in stopwords.words('english'))\n",
    "    text_data = re.sub(\"([^A-Za-z0-9]+)\", \" \", text_data)\n",
    "    text_data = re.sub(\"r'[\\s]+{2,}'\",\"\", text_data)\n",
    "    data3.loc[index,'text'] = text_data\n",
    "\n",
    "print(data3.head())"
   ]
  }
 ],
 "metadata": {
  "kernelspec": {
   "display_name": "Python 3",
   "language": "python",
   "name": "python3"
  },
  "language_info": {
   "codemirror_mode": {
    "name": "ipython",
    "version": 3
   },
   "file_extension": ".py",
   "mimetype": "text/x-python",
   "name": "python",
   "nbconvert_exporter": "python",
   "pygments_lexer": "ipython3",
   "version": "3.9.6"
  }
 },
 "nbformat": 4,
 "nbformat_minor": 5
}
