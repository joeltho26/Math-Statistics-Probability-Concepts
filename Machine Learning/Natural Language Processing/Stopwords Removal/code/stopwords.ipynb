{
 "cells": [
  {
   "cell_type": "markdown",
   "id": "ef079dfe",
   "metadata": {},
   "source": [
    "#### Stopwords:"
   ]
  },
  {
   "cell_type": "code",
   "execution_count": 127,
   "id": "c0553d14",
   "metadata": {},
   "outputs": [
    {
     "name": "stderr",
     "output_type": "stream",
     "text": [
      "[nltk_data] Downloading package punkt_tab to\n",
      "[nltk_data]     C:\\Users\\joelj\\AppData\\Roaming\\nltk_data...\n",
      "[nltk_data]   Package punkt_tab is already up-to-date!\n",
      "[nltk_data] Downloading package stopwords to\n",
      "[nltk_data]     C:\\Users\\joelj\\AppData\\Roaming\\nltk_data...\n",
      "[nltk_data]   Package stopwords is already up-to-date!\n"
     ]
    }
   ],
   "source": [
    "import pandas as pd \n",
    "import re\n",
    "from tqdm import tqdm\n",
    "import nltk\n",
    "from nltk.corpus import stopwords\n",
    "nltk.download('punkt_tab')\n",
    "nltk.download('stopwords')\n",
    "import numpy as np\n",
    "from nltk.tokenize import wordpunct_tokenize"
   ]
  },
  {
   "cell_type": "code",
   "execution_count": 128,
   "id": "6b3cb947",
   "metadata": {},
   "outputs": [
    {
     "name": "stdout",
     "output_type": "stream",
     "text": [
      "                                                text sentiment\n",
      "0                I`d have responded. if I were going   neutral\n",
      "1      Sooo SAD I will miss you here in San Diego!!!  negative\n",
      "2                          my boss is bullying me...  negative\n",
      "3                     what interview! leave me alone  negative\n",
      "4   Sons of ****, why couldn`t they put them on t...  negative\n"
     ]
    }
   ],
   "source": [
    "data = pd.read_csv(\"../data/train.csv\",delimiter=\",\",usecols=['text','sentiment'])\n",
    "print(data.head())"
   ]
  },
  {
   "cell_type": "code",
   "execution_count": 129,
   "id": "15fcee77",
   "metadata": {},
   "outputs": [
    {
     "data": {
      "text/plain": [
       "(27482, 2)"
      ]
     },
     "execution_count": 129,
     "metadata": {},
     "output_type": "execute_result"
    }
   ],
   "source": [
    "data.isnull().sum()\n",
    "data.shape"
   ]
  },
  {
   "cell_type": "code",
   "execution_count": 130,
   "id": "ed497c5b",
   "metadata": {},
   "outputs": [
    {
     "name": "stdout",
     "output_type": "stream",
     "text": [
      "[314, 27470]\n"
     ]
    }
   ],
   "source": [
    "indexes = [index for index in range(len(data['text'])) if data['text'][index] is np.nan] \n",
    "print(indexes)"
   ]
  },
  {
   "cell_type": "code",
   "execution_count": 131,
   "id": "0e305acd",
   "metadata": {},
   "outputs": [
    {
     "name": "stdout",
     "output_type": "stream",
     "text": [
      "(27480, 2)\n"
     ]
    }
   ],
   "source": [
    "data.drop(index=indexes,inplace=True)\n",
    "print(data.shape)"
   ]
  },
  {
   "cell_type": "code",
   "execution_count": 132,
   "id": "ff3dfe86",
   "metadata": {},
   "outputs": [
    {
     "name": "stdout",
     "output_type": "stream",
     "text": [
      "(27480, 2)\n"
     ]
    }
   ],
   "source": [
    "data.reset_index(drop=True,inplace=True)\n",
    "print(data.shape)"
   ]
  },
  {
   "cell_type": "code",
   "execution_count": 133,
   "id": "5fbf9c60",
   "metadata": {},
   "outputs": [
    {
     "name": "stdout",
     "output_type": "stream",
     "text": [
      "                                                    text sentiment\n",
      "27468              94 more days till BH comes back to LA   neutral\n",
      "27469   lol i know  and haha..did you fall asleep?? o...  negative\n",
      "27470  i`m defying gravity. and nobody in alll of oz,...   neutral\n",
      "27471  http://twitpic.com/663vr - Wanted to visit the...  negative\n",
      "27472   in spoke to you yesterday and u didnt respond...   neutral\n",
      "27473  So I get up early and I feel good about the da...  positive\n",
      "27474                                     enjoy ur night  positive\n",
      "27475   wish we could come see u on Denver  husband l...  negative\n",
      "27476   I`ve wondered about rake to.  The client has ...  negative\n",
      "27477   Yay good for both of you. Enjoy the break - y...  positive\n",
      "27478                         But it was worth it  ****.  positive\n",
      "27479     All this flirting going on - The ATG smiles...   neutral\n"
     ]
    }
   ],
   "source": [
    "print(data.tail(12))"
   ]
  },
  {
   "cell_type": "code",
   "execution_count": 134,
   "id": "70c84976",
   "metadata": {},
   "outputs": [
    {
     "name": "stderr",
     "output_type": "stream",
     "text": [
      "  0%|          | 13/27480 [00:00<03:39, 125.35it/s]"
     ]
    },
    {
     "name": "stderr",
     "output_type": "stream",
     "text": [
      "100%|██████████| 27480/27480 [02:16<00:00, 201.94it/s]\n"
     ]
    }
   ],
   "source": [
    "text_data = \"\"\n",
    "for index in tqdm(range(len(data['text']))):\n",
    "    data.loc[index,'text']= \" \".join(word for word in wordpunct_tokenize(data['text'][index]) if word not in stopwords.words('english'))\n",
    "    "
   ]
  },
  {
   "cell_type": "code",
   "execution_count": 135,
   "id": "5e00b13d",
   "metadata": {},
   "outputs": [
    {
     "name": "stdout",
     "output_type": "stream",
     "text": [
      "                                                    text sentiment\n",
      "0                                I ` responded . I going   neutral\n",
      "1                          Sooo SAD I miss San Diego !!!  negative\n",
      "2                                      boss bullying ...  negative\n",
      "3                                interview ! leave alone  negative\n",
      "4               Sons ****, ` put releases already bought  negative\n",
      "...                                                  ...       ...\n",
      "27475  wish could come see u Denver husband lost job ...  negative\n",
      "27476  I ` wondered rake . The client made clear . NE...  negative\n",
      "27477  Yay good . Enjoy break - probably need hectic ...  positive\n",
      "27478                                    But worth ****.  positive\n",
      "27479  All flirting going - The ATG smiles . Yay . ((...   neutral\n",
      "\n",
      "[27480 rows x 2 columns]\n"
     ]
    }
   ],
   "source": [
    "print(data)"
   ]
  },
  {
   "cell_type": "code",
   "execution_count": 136,
   "id": "f8cdd86d",
   "metadata": {},
   "outputs": [
    {
     "name": "stderr",
     "output_type": "stream",
     "text": [
      "100%|██████████| 27480/27480 [00:02<00:00, 10733.43it/s]"
     ]
    },
    {
     "name": "stdout",
     "output_type": "stream",
     "text": [
      "                                                    text sentiment\n",
      "0                                    i responded i going   neutral\n",
      "1                             sooo sad i miss san diego   negative\n",
      "2                                         boss bullying   negative\n",
      "3                                  interview leave alone  negative\n",
      "4                       sons put releases already bought  negative\n",
      "...                                                  ...       ...\n",
      "27475  wish could come see u denver husband lost job ...  negative\n",
      "27476  i wondered rake the client made clear net forc...  negative\n",
      "27477  yay good enjoy break probably need hectic week...  positive\n",
      "27478                                         but worth   positive\n",
      "27479        all flirting going the atg smiles yay hugs    neutral\n",
      "\n",
      "[27480 rows x 2 columns]\n"
     ]
    },
    {
     "name": "stderr",
     "output_type": "stream",
     "text": [
      "\n"
     ]
    }
   ],
   "source": [
    "import re\n",
    "for index in tqdm(range(len(data['text']))):\n",
    "    text_data = re.sub('[^a-zA-Z0-9]+',\" \", data['text'][index])\n",
    "    data.loc[index,'text'] = text_data.lower()\n",
    "print(data)"
   ]
  },
  {
   "cell_type": "code",
   "execution_count": null,
   "id": "5d66f43d",
   "metadata": {},
   "outputs": [],
   "source": []
  }
 ],
 "metadata": {
  "kernelspec": {
   "display_name": "Python 3",
   "language": "python",
   "name": "python3"
  },
  "language_info": {
   "codemirror_mode": {
    "name": "ipython",
    "version": 3
   },
   "file_extension": ".py",
   "mimetype": "text/x-python",
   "name": "python",
   "nbconvert_exporter": "python",
   "pygments_lexer": "ipython3",
   "version": "3.9.6"
  }
 },
 "nbformat": 4,
 "nbformat_minor": 5
}
