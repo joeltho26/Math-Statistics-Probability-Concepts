{
 "cells": [
  {
   "cell_type": "markdown",
   "id": "ef079dfe",
   "metadata": {},
   "source": [
    "#### Stopwords:"
   ]
  },
  {
   "cell_type": "code",
   "execution_count": 15,
   "id": "c0553d14",
   "metadata": {},
   "outputs": [
    {
     "name": "stderr",
     "output_type": "stream",
     "text": [
      "[nltk_data] Downloading package punkt_tab to\n",
      "[nltk_data]     C:\\Users\\joelj\\AppData\\Roaming\\nltk_data...\n",
      "[nltk_data]   Package punkt_tab is already up-to-date!\n",
      "[nltk_data] Downloading package stopwords to\n",
      "[nltk_data]     C:\\Users\\joelj\\AppData\\Roaming\\nltk_data...\n",
      "[nltk_data]   Package stopwords is already up-to-date!\n"
     ]
    },
    {
     "data": {
      "text/plain": [
       "True"
      ]
     },
     "execution_count": 15,
     "metadata": {},
     "output_type": "execute_result"
    }
   ],
   "source": [
    "import pandas as pd \n",
    "import numpy as np\n",
    "from nltk.tokenize import wordpunct_tokenize\n",
    "import re\n",
    "from tqdm import tqdm\n",
    "import nltk\n",
    "from nltk.corpus import stopwords\n",
    "nltk.download('punkt_tab')\n",
    "nltk.download('stopwords')"
   ]
  },
  {
   "cell_type": "code",
   "execution_count": 16,
   "id": "6b3cb947",
   "metadata": {},
   "outputs": [
    {
     "name": "stdout",
     "output_type": "stream",
     "text": [
      "                                                text sentiment\n",
      "0                I`d have responded. if I were going   neutral\n",
      "1      Sooo SAD I will miss you here in San Diego!!!  negative\n",
      "2                          my boss is bullying me...  negative\n",
      "3                     what interview! leave me alone  negative\n",
      "4   Sons of ****, why couldn`t they put them on t...  negative\n"
     ]
    }
   ],
   "source": [
    "data = pd.read_csv(\"../data/train.csv\",delimiter=\",\",usecols=['text','sentiment'])\n",
    "print(data.head(5))"
   ]
  },
  {
   "cell_type": "code",
   "execution_count": 17,
   "id": "15fcee77",
   "metadata": {},
   "outputs": [
    {
     "data": {
      "text/plain": [
       "(27482, 2)"
      ]
     },
     "execution_count": 17,
     "metadata": {},
     "output_type": "execute_result"
    }
   ],
   "source": [
    "data.isnull().sum()\n",
    "data.shape"
   ]
  },
  {
   "cell_type": "code",
   "execution_count": 18,
   "id": "ed497c5b",
   "metadata": {},
   "outputs": [
    {
     "name": "stdout",
     "output_type": "stream",
     "text": [
      "[314, 27470]\n"
     ]
    }
   ],
   "source": [
    "indexes = [index for index in range(len(data['text'])) if data['text'][index] is np.nan] \n",
    "print(indexes)"
   ]
  },
  {
   "cell_type": "code",
   "execution_count": 19,
   "id": "0e305acd",
   "metadata": {},
   "outputs": [
    {
     "name": "stdout",
     "output_type": "stream",
     "text": [
      "(27480, 2)\n",
      "                                                    text sentiment\n",
      "27468              94 more days till BH comes back to LA   neutral\n",
      "27469   lol i know  and haha..did you fall asleep?? o...  negative\n",
      "27470  i`m defying gravity. and nobody in alll of oz,...   neutral\n",
      "27471  http://twitpic.com/663vr - Wanted to visit the...  negative\n",
      "27472   in spoke to you yesterday and u didnt respond...   neutral\n",
      "27473  So I get up early and I feel good about the da...  positive\n",
      "27474                                     enjoy ur night  positive\n",
      "27475   wish we could come see u on Denver  husband l...  negative\n",
      "27476   I`ve wondered about rake to.  The client has ...  negative\n",
      "27477   Yay good for both of you. Enjoy the break - y...  positive\n",
      "27478                         But it was worth it  ****.  positive\n",
      "27479     All this flirting going on - The ATG smiles...   neutral\n"
     ]
    }
   ],
   "source": [
    "data.drop(index=indexes,inplace=True)\n",
    "data.reset_index(drop=True,inplace=True)\n",
    "print(data.shape)\n",
    "print(data.tail(12))"
   ]
  },
  {
   "cell_type": "code",
   "execution_count": 20,
   "id": "70c84976",
   "metadata": {},
   "outputs": [
    {
     "name": "stderr",
     "output_type": "stream",
     "text": [
      "100%|██████████| 27480/27480 [02:36<00:00, 175.15it/s]\n"
     ]
    }
   ],
   "source": [
    "text_data = \"\"\n",
    "for index in tqdm(range(len(data['text']))):\n",
    "    words = wordpunct_tokenize(data['text'][index])\n",
    "    text_data = [word.lower() for word in words]\n",
    "    text_data = \" \".join(word for word in text_data if word not in stopwords.words('english'))\n",
    "    text_data = re.sub(\"[^A-Za-z0-9]+\", \" \", text_data)\n",
    "    text_data = re.sub(\"([\\s]+){2,}\", \"\", text_data)\n",
    "    data.loc[index,'text'] = text_data"
   ]
  },
  {
   "cell_type": "code",
   "execution_count": null,
   "id": "5e00b13d",
   "metadata": {},
   "outputs": [
    {
     "name": "stdout",
     "output_type": "stream",
     "text": [
      "                                                    text sentiment\n",
      "0                                        responded going   neutral\n",
      "1                               sooo sad miss san diego   negative\n",
      "2                                         boss bullying   negative\n",
      "3                                  interview leave alone  negative\n",
      "4                       sons put releases already bought  negative\n",
      "...                                                  ...       ...\n",
      "27475  wish could come see u denver husband lost job ...  negative\n",
      "27476   wondered rake client made clear net force dev...  negative\n",
      "27477  yay good enjoy break probably need hectic week...  positive\n",
      "27478                                             worth   positive\n",
      "27479                flirting going atg smiles yay hugs    neutral\n",
      "\n",
      "[27480 rows x 2 columns]\n"
     ]
    }
   ],
   "source": [
    "print(data.head(5))"
   ]
  },
  {
   "cell_type": "code",
   "execution_count": null,
   "id": "5d66f43d",
   "metadata": {},
   "outputs": [],
   "source": []
  }
 ],
 "metadata": {
  "kernelspec": {
   "display_name": "Python 3",
   "language": "python",
   "name": "python3"
  },
  "language_info": {
   "codemirror_mode": {
    "name": "ipython",
    "version": 3
   },
   "file_extension": ".py",
   "mimetype": "text/x-python",
   "name": "python",
   "nbconvert_exporter": "python",
   "pygments_lexer": "ipython3",
   "version": "3.9.6"
  }
 },
 "nbformat": 4,
 "nbformat_minor": 5
}
