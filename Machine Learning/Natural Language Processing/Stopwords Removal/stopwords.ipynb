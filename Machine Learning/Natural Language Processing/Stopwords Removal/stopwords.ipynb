{
 "cells": [
  {
   "cell_type": "markdown",
   "id": "ebbf6255",
   "metadata": {},
   "source": [
    "1. [Stopwords Removal](#Stopwords)"
   ]
  },
  {
   "cell_type": "markdown",
   "id": "b61497c8",
   "metadata": {},
   "source": [
    "#### Stopwords Removal:\n",
    "- It is a process of removing words from the input text data which are non semantic and are not important in the field of machine learning"
   ]
  }
 ],
 "metadata": {
  "language_info": {
   "name": "python"
  }
 },
 "nbformat": 4,
 "nbformat_minor": 5
}
