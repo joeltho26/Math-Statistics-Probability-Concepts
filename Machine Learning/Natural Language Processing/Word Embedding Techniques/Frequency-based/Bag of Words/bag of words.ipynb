{
 "cells": [
  {
   "cell_type": "markdown",
   "id": "7294c27e",
   "metadata": {},
   "source": [
    "1. [Bag of Words](#bag-of-words)"
   ]
  },
  {
   "cell_type": "markdown",
   "metadata": {},
   "source": [
    "#### Bag of Words:\n",
    "- specific type of word embedding\n",
    "- while performing, ensure the preprocessing of text data is done already\n",
    "    - stopwords\n",
    "    - lemmatization/stemming\n",
    "- create a table\n",
    "    - rows => sentences\n",
    "    - columns => vocabulary of unique words\n",
    "    - based on the words present in the sentence, it is marked as 1\n",
    "\n",
    "Example: \n",
    "\n",
    "| Input data | Output Label |\n",
    "| -- | -- |\n",
    "| He is a good boy | 1 |\n",
    "| She is a good girl | 1 |\n",
    "| boy and girl are good | 1 | \n",
    "\n",
    "- Now we lowercase the words, remove the stop words and also lemmatize the words\n",
    "- we count the frequency of words and keep it in descending order\n",
    "\n",
    "| Words | Frequency |\n",
    "| -- | -- |\n",
    "| good | 3 |\n",
    "| boy | 2 |\n",
    "| girl | 2 |\n",
    "\n",
    "- we create the Bag of Words as shown below\n",
    "    - the column is ordered based on the descending order\n",
    "\n",
    "| Sentences/words | good | boy | girl |\n",
    "| -- | -- | -- | -- | \n",
    "|good boy | 1 | 1 | 0 |\n",
    "|good girl| 1 | 0 | 1 |\n",
    "|boy girl good | 1 | 1 | 1 |\n",
    "\n",
    "- the vector for the entire sentence \n",
    "    - good boy => [1,1,0]"
   ]
  },
  {
   "cell_type": "markdown",
   "id": "1eb545ff",
   "metadata": {},
   "source": [
    "- There are two types of bag of words\n",
    "    - Binary bag of words\n",
    "    - Normal bag of words    "
   ]
  },
  {
   "cell_type": "markdown",
   "id": "2c573c14",
   "metadata": {},
   "source": [
    "Binary bag of words:\n",
    "- even if the occurence of a word in a sentence is more than once, the bag of words value for the word will remain as 1\n",
    "\n",
    "| Sentences/words | good | boy | girl |\n",
    "| -- | -- | -- | -- | \n",
    "|good boy | 1 | 1 | 0 |\n",
    "|good girl| 1 | 0 | 1 |\n",
    "|good boy girl good | 1 | 1 | 1 |\n"
   ]
  },
  {
   "cell_type": "markdown",
   "id": "3df96c44",
   "metadata": {},
   "source": [
    "Normal bag of words:\n",
    "- if the occurence of a word in a sentence is more than once, the bag of words value for the word will become 2\n",
    "\n",
    "| Sentences/words | good | boy | girl |\n",
    "| -- | -- | -- | -- | \n",
    "|good boy | 1 | 1 | 0 |\n",
    "|good girl| 1 | 0 | 1 |\n",
    "|good boy girl good | 2 | 1 | 1 |"
   ]
  },
  {
   "cell_type": "markdown",
   "metadata": {},
   "source": [
    "Advantages:\n",
    "- Easy to implement\n",
    "- for varying number of words in a sentence, the output vectors is of fixed size\n",
    "\n",
    "\n",
    "Disadvantages:\n",
    "- sparse matrix which leads to overfitting\n",
    "- No sematic meaning is captured\n",
    "- ordering of the words based on frequency therefore, sentences with words in certain order is not being captured\n",
    "- out of vocabulary"
   ]
  },
  {
   "cell_type": "markdown",
   "id": "ae05bacf",
   "metadata": {},
   "source": [
    "For practical use:\n",
    "- Library: SKLearn => feature_extraction.text.CountVectorizer\n",
    "    - Important params:\n",
    "        - input\n",
    "        - lowercase\n",
    "        - binary\n",
    "        - stop_words\n",
    "        - ngram_range\n",
    "        - max_features \n",
    "        - tokenizer"
   ]
  }
 ],
 "metadata": {
  "language_info": {
   "name": "python"
  }
 },
 "nbformat": 4,
 "nbformat_minor": 5
}
