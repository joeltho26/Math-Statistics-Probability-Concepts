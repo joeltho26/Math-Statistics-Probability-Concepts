{
 "cells": [
  {
   "cell_type": "markdown",
   "id": "6c64eb0e",
   "metadata": {},
   "source": [
    "1. [ISOMAP](#isomap)"
   ]
  },
  {
   "cell_type": "markdown",
   "id": "51c92a4d",
   "metadata": {},
   "source": [
    "#### ISOMAP:\n",
    "- it is a non linear dimensionality reduction technique\n",
    "- it used when there is a manifold i.e. a lower dimensional subspace in the higher dimensional space"
   ]
  },
  {
   "cell_type": "markdown",
   "id": "adb0295d",
   "metadata": {},
   "source": [
    "Construct Neighbored Graph:\n",
    "- based on the K-value or ε-value, we constructed the KNN graph in which all the data points are connected \n",
    "- the nodes of the graph are the data points and the edge weights are similarity/distance between data points\n",
    "\n",
    "Calculate the Geodesic distance between data points:\n",
    "- geodesic distance mean calculating the shortest path distances between data points\n",
    "- to perform shortest path distance calculation, we use Djikstra's or Floyd Warshall algorithm\n",
    "- a geodesic distance is calculated by joining smaller distant between data points to find the shortest path\n",
    "\n",
    "Dimensional Reduction:\n",
    "- here we apply MDS (Multi-Dimensional Scaling) which is a dimensional reduction technique\n",
    "- MDS algorithm, \n",
    "    - calculates the distances between data points in the original dimensions (geodesic distance already calculated)\n",
    "    - now, the data points are randomly projected to a lower dimension and we have a loss function\n",
    "    - we follow the process of optimization, by re-aligning the data points and calculating the stress function and iteratively reduce the error produced by loss function\n",
    "    - eventually, we will get the same geometry of the original dimension in the lower dimensional space, when we reach convergence by the end of optimization process"
   ]
  },
  {
   "cell_type": "markdown",
   "id": "9933a2f2",
   "metadata": {},
   "source": []
  }
 ],
 "metadata": {
  "language_info": {
   "name": "python"
  }
 },
 "nbformat": 4,
 "nbformat_minor": 5
}
