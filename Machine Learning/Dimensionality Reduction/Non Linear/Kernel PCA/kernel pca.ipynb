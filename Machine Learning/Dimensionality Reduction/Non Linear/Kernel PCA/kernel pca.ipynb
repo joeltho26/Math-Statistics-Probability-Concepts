{
 "cells": [
  {
   "cell_type": "markdown",
   "id": "d8ee66f2",
   "metadata": {},
   "source": [
    "1. [Kernel PCA](#kernel-pca)"
   ]
  },
  {
   "cell_type": "markdown",
   "id": "79d6328e",
   "metadata": {},
   "source": [
    "#### Kernel PCA:\n",
    "- it is used when data points are not linear \n",
    "- it is dimensionality reduction algorithm\n",
    "- first step it uses kernels to make data which are non-linear as linear \n",
    "- now using the linear data point, we apply PCA to perform dimensionality reduction"
   ]
  },
  {
   "cell_type": "markdown",
   "id": "de88dc99",
   "metadata": {},
   "source": []
  }
 ],
 "metadata": {
  "language_info": {
   "name": "python"
  }
 },
 "nbformat": 4,
 "nbformat_minor": 5
}
