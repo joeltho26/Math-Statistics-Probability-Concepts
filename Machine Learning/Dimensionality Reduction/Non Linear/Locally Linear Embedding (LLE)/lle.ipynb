{
 "cells": [
  {
   "cell_type": "markdown",
   "id": "41913044",
   "metadata": {},
   "source": [
    "1. [Locally Linear Embedding](#locally-linear-embedding)"
   ]
  },
  {
   "cell_type": "markdown",
   "id": "e89f1d08",
   "metadata": {},
   "source": [
    "#### Locally Linear Embedding:\n",
    "- it is a non linear dimensionality reduction\n"
   ]
  },
  {
   "cell_type": "markdown",
   "id": "c08fd930",
   "metadata": {},
   "source": [
    "Calculate the Nearest Neighbor:\n",
    "- choose the optimal value for K and calculate the K nearest neighbor based on the euclidean distances\n",
    "\n",
    "Compute Reconstruction weights:\n",
    "- we use weight unit to capture the local geometry of the data point w.r.t its nearest neighbor data points\n",
    "\n",
    "Dimensional Reduction:\n",
    "- now we will use calculated reconstruction weight to construct the data points in lower dimensions\n",
    "- we perform this by an optimization process of calculation the cost function and reducing the errors"
   ]
  },
  {
   "cell_type": "markdown",
   "id": "ec7f6335",
   "metadata": {},
   "source": []
  }
 ],
 "metadata": {
  "language_info": {
   "name": "python"
  }
 },
 "nbformat": 4,
 "nbformat_minor": 5
}
