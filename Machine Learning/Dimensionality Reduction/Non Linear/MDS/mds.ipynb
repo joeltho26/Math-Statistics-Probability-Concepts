{
 "cells": [
  {
   "cell_type": "markdown",
   "id": "eee487ef",
   "metadata": {},
   "source": [
    "1. [MDS](#mds)"
   ]
  },
  {
   "cell_type": "markdown",
   "id": "eedb1a2a",
   "metadata": {},
   "source": [
    "#### MDS - Multi-Dimensional Scaling:\n",
    "- calculates the distances between data points in the original dimensions (geodesic distance already calculated)\n",
    "- now, the data points are randomly projected to a lower dimension and we have a loss function\n",
    "- we follow the process of optimization, by re-aligning the data points and calculating the stress function and iteratively reduce the error produced by loss function\n",
    "- eventually, we will get the same geometry of the original dimension in the lower dimensional space, when we reach convergence by the end of optimization process"
   ]
  },
  {
   "cell_type": "markdown",
   "id": "2c488ba6",
   "metadata": {},
   "source": []
  }
 ],
 "metadata": {
  "language_info": {
   "name": "python"
  }
 },
 "nbformat": 4,
 "nbformat_minor": 5
}
