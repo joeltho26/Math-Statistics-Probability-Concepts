{
 "cells": [
  {
   "cell_type": "markdown",
   "id": "f70c690c",
   "metadata": {},
   "source": [
    "1. [Independent Component Analysis](#independent-component-analysis)"
   ]
  },
  {
   "cell_type": "markdown",
   "id": "a383d24f",
   "metadata": {},
   "source": [
    "#### Independent Component Analysis:\n",
    "Centering and Whitening:\n",
    "- Centering: the data is zero centered by subtracting the actual value with the mean value for each data point\n",
    "- Whitening: it decorrelates the data and the variance of each component is scaled to 1. PCA is used for whitening\n",
    "\n",
    "Finding Independent Components:\n",
    "- ICA now finds for a rotation unmixing matrix that transforms whitened data into independent components that like maximizes the kurtosis (non gaussian properties) or minimizing the mutal information between components\n",
    "\n",
    "Dimensionality Reduction:\n",
    "- the number of independent components i.e. dimensions, extracted by the iterative optimization algorithm such as FastICA is often less than the original number of dimensions\n",
    "- \"n_componenets\" value can be set to reduce the dimensions in the algorithm library"
   ]
  },
  {
   "cell_type": "markdown",
   "id": "38b38791",
   "metadata": {},
   "source": [
    "Disadvantages:\n",
    "- no proper interpretability\n",
    "- sensitive to outliers\n",
    "- no order like in PCA based on variance of data regarding the Principal components\n",
    "- computationally intensive "
   ]
  },
  {
   "cell_type": "markdown",
   "id": "86fa2f70",
   "metadata": {},
   "source": []
  }
 ],
 "metadata": {
  "language_info": {
   "name": "python"
  }
 },
 "nbformat": 4,
 "nbformat_minor": 5
}
