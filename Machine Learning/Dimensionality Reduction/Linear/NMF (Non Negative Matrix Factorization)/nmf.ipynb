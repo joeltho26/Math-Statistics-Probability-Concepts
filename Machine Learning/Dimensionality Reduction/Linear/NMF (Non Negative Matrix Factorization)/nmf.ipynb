{
 "cells": [
  {
   "cell_type": "markdown",
   "id": "4ff64668",
   "metadata": {},
   "source": [
    "1. [NMF](#non-negative-matrix-factorization)"
   ]
  },
  {
   "cell_type": "markdown",
   "id": "de1c74b9",
   "metadata": {},
   "source": [
    "#### Non Negative Matrix Factorization:\n",
    "- it is a linear type of dimensionality reduction technique"
   ]
  }
 ],
 "metadata": {
  "language_info": {
   "name": "python"
  }
 },
 "nbformat": 4,
 "nbformat_minor": 5
}
