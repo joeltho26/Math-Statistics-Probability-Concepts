{
 "cells": [
  {
   "cell_type": "markdown",
   "id": "7e890309",
   "metadata": {},
   "source": [
    "1. [KNN - Anomaly Detection](#knn---anomaly-detection)"
   ]
  },
  {
   "cell_type": "markdown",
   "id": "ac8cd9ca",
   "metadata": {},
   "source": [
    "#### KNN - Anomaly Detection:\n",
    "- it is also used to detect anomaly data points\n",
    "- while calculating the nearest neighbors and if we find the the nearest neigbours having larger distance, we identify them as outliers\n",
    "- or if we find the average distance for the Kth nearest neighbors being larger then the data point is considered as outlier\n",
    "- the data point can be considered as outlier by calculating the LOF score also"
   ]
  }
 ],
 "metadata": {
  "language_info": {
   "name": "python"
  }
 },
 "nbformat": 4,
 "nbformat_minor": 5
}
