{
 "cells": [
  {
   "cell_type": "markdown",
   "id": "8a79d337",
   "metadata": {},
   "source": [
    "1. [Supervised LSTM Prediction for Anomaly](#supervised-lstm-prediction-for-anomaly)"
   ]
  },
  {
   "cell_type": "markdown",
   "id": "7f195ff6",
   "metadata": {},
   "source": [
    "#### Supervised LSTM Prediction for Anomaly:\n",
    "- Training: during training the LSTM model learn to identify the normal and anomalous data based on the output labels\n",
    "- Detection: new data is sent in for prediction and the LSTM model predicts whether a data is normal or anomalous"
   ]
  }
 ],
 "metadata": {
  "language_info": {
   "name": "python"
  }
 },
 "nbformat": 4,
 "nbformat_minor": 5
}
