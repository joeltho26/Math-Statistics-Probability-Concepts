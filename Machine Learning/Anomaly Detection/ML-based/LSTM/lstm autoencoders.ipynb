{
 "cells": [
  {
   "cell_type": "markdown",
   "id": "58c168f3",
   "metadata": {},
   "source": [
    "1. [LSTM Autoencoders](#lstm-autoencoders)"
   ]
  },
  {
   "cell_type": "markdown",
   "id": "d04e6000",
   "metadata": {},
   "source": [
    "#### LSTM Autoencoders:\n",
    "- the lstm autoencoder is used for sequential or timeseries data and they are based on RNNs architecture\n",
    "- The autoencoder will have an encoder and a decoder in its architecture\n",
    "    - Encoder: \n",
    "        - transforms the original data into lower dimension with latent space representation\n",
    "        - converts the input data into fixed size vectors by preserving and capturing the temporal features\n",
    "    - Decoder: \n",
    "        - transform the latent space represented data into the original input data\n",
    "        - takes the encoded vector and reconstructs the original input data\n",
    "- Training Phase:\n",
    "    - the autoencoder model is training on normal data and not abnormal data\n",
    "    - the goal of the model during training is to reduce the reconstruction error i.e. MSE between the reconstructed output data to the original input data\n",
    "- Detection Phase:\n",
    "    - feed new unseen data which consist of normal and abnormal data \n",
    "    - now, calculate the reconstruction error for each sequence. \n",
    "    - the reconstruction error serves as the anomaly score\n",
    "    - set a threshold for reconstruction score\n",
    "        - generally its mean + 3 std\n",
    "    - any sequence that exceeds the threshold value is flagged as anomaly"
   ]
  },
  {
   "cell_type": "markdown",
   "id": "6ad73eda",
   "metadata": {},
   "source": []
  }
 ],
 "metadata": {
  "language_info": {
   "name": "python"
  }
 },
 "nbformat": 4,
 "nbformat_minor": 5
}
