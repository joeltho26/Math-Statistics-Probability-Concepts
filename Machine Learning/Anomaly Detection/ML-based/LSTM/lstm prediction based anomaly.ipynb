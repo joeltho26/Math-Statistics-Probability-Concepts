{
 "cells": [
  {
   "cell_type": "markdown",
   "id": "c737fbbb",
   "metadata": {},
   "source": [
    "1. [LSTM Prediction based Anomaly](#lstm-prediction-based-anomaly)"
   ]
  },
  {
   "cell_type": "markdown",
   "id": "e8752aaa",
   "metadata": {},
   "source": [
    "#### LSTM Prediction based Anomaly:\n",
    "- mostly used in time series anomaly detection\n",
    "- Training:\n",
    "    - while training the model, we enable the model to predict future value or the next value based on the past or previous values and capture the temporal information of the data\n",
    "- Detection:\n",
    "    - while predicting the future data based on the past data, we evaluate the performance by the prediction error parameter.\n",
    "    - now, we choose appropriate prediction error threshold \n",
    "    - compare the original and predicted values and evaluate the prediction error and compare it with the threshold value\n",
    "    - if the predicted error value exceeds the threshold, we signal it as an outlier or anomaly\n",
    "\n"
   ]
  },
  {
   "cell_type": "markdown",
   "id": "2b5bdb7a",
   "metadata": {},
   "source": []
  }
 ],
 "metadata": {
  "language_info": {
   "name": "python"
  }
 },
 "nbformat": 4,
 "nbformat_minor": 5
}
