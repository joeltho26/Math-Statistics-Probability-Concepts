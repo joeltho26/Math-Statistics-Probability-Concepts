{
 "cells": [
  {
   "cell_type": "markdown",
   "id": "31a4f545",
   "metadata": {},
   "source": [
    "1. [One Class SVM](#one-class-svm)"
   ]
  },
  {
   "cell_type": "markdown",
   "metadata": {},
   "source": [
    "#### One Class SVM:\n",
    "- used for anomaly detection\n",
    "- it follows the same approach as the regular SVM with few differences\n",
    "- here the support vector classifier (marginal hyperplane) is drawn between the origin and the data points\n",
    "    - the data point fall on the side of the origin are considered to be outliers i.e. outside the boundary\n",
    "- the support vectors assits to draw the hyperplane \n",
    "- the hyperplane is optimized using weights and bias\n",
    "- if the data is non linearly separable then we use the Kernels (RBF)\n",
    "- now, we can tune the \"nu\" or \"v\" hyper parameter between 0-1\n",
    "    - it used to tell how much data from training is assumed to be outlier\n",
    "    - eg: v = 0.05 means we will have 5% outliers in the dataset\n",
    "- if data falls within the boundary then we say the data point to be normal (+1) and if it falls outside the boundary then the data point is considered as outlier (-1) by the decision function"
   ]
  },
  {
   "cell_type": "markdown",
   "metadata": {},
   "source": []
  }
 ],
 "metadata": {
  "language_info": {
   "name": "python"
  }
 },
 "nbformat": 4,
 "nbformat_minor": 5
}
