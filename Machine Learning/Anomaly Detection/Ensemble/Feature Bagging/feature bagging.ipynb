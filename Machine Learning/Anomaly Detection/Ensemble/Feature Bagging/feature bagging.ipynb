{
 "cells": [
  {
   "cell_type": "markdown",
   "id": "2d5f9a81",
   "metadata": {},
   "source": [
    "1. [Feature Bagging](#feature-bagging)"
   ]
  },
  {
   "cell_type": "markdown",
   "id": "0e8c84fc",
   "metadata": {},
   "source": [
    "#### Feature Bagging:\n",
    "- used to identify anomaly detection\n",
    "- here we can use LOF, Isolation Forest, KNN, Hierarichal, K-means techniques\n",
    "- just like having collection of trees in ensemble here we have collection of the above isolation techniques\n",
    "- it performs the same as bagging algorithm, perform bootstrapping and aggregation \n",
    "- small difference in bootstrapping, here along with row sampling with replacement, here we also perform feature sampling without replacement\n",
    "- now the each models will predict and anomaly score and we take the average of it\n",
    "- we set a threshold by the use of statistical methods like IQR, Percentiles, SD based\n",
    "- data point beyond the threshold score helps us to identify the outliers"
   ]
  }
 ],
 "metadata": {
  "language_info": {
   "name": "python"
  }
 },
 "nbformat": 4,
 "nbformat_minor": 5
}
