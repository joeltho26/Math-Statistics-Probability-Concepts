{
 "cells": [
  {
   "cell_type": "markdown",
   "id": "d119710d",
   "metadata": {},
   "source": [
    "1. [DBSCAN - Anomaly Detection](#dbscan---anomaly-detection)"
   ]
  },
  {
   "cell_type": "markdown",
   "id": "d2e27128",
   "metadata": {},
   "source": [
    "#### DBSCAN - Anomaly Detection:\n",
    "- works like a regular DBSCAN clustering and perform anomaly detection"
   ]
  }
 ],
 "metadata": {
  "language_info": {
   "name": "python"
  }
 },
 "nbformat": 4,
 "nbformat_minor": 5
}
