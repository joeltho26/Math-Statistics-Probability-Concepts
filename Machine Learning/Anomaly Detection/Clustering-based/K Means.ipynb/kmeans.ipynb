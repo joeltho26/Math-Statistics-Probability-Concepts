{
 "cells": [
  {
   "cell_type": "markdown",
   "id": "1a3a7cf3",
   "metadata": {},
   "source": [
    "1. [K-Means clustering](#k-means-clustering)"
   ]
  },
  {
   "cell_type": "markdown",
   "id": "3c6eb377",
   "metadata": {},
   "source": [
    "#### K-Means clustering:\n",
    "- it is also used to identify anomalies\n",
    "- similar working to the K-means clustering\n",
    "- after performing clustering of data points into certain clusters\n",
    "- now the first approach, we will calculate the distances between each point within the cluster to its centroid and notice the data points which have larger distance are mostly anomalies\n",
    "- the second approach, calculate the average distances between each point within the cluster and now we assume the data points that fall beyond the average distance are considered anomalies\n",
    "- to define the threshold value to separate anomalies, we use several statistical methods like\n",
    "    - IQR, SD rule, Percentile threshold(by setting the 5% that means we have 5 data points as anomalies in the dataset of 100 points)"
   ]
  }
 ],
 "metadata": {
  "language_info": {
   "name": "python"
  }
 },
 "nbformat": 4,
 "nbformat_minor": 5
}
