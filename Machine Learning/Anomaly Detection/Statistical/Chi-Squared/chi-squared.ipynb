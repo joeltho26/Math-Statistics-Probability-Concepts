{
 "cells": [
  {
   "cell_type": "markdown",
   "id": "4833b27d",
   "metadata": {},
   "source": [
    "1. [Chi-squared Test](#chi-squared-test)"
   ]
  },
  {
   "cell_type": "markdown",
   "id": "656f4b88",
   "metadata": {},
   "source": [
    "#### Chi-squared Test:\n",
    "- it is used to identify the anomalies in the data\n",
    "- null hypothesis => no outliers\n",
    "- alternate hypothesis => outliers present\n",
    "- first we calculate the expected values \n",
    "    - (total rows * total columns)/total observations\n",
    "- now, we calculate the chisquared value and if the value is small then it means that the data does not contain outlier else it contains outliers\n",
    "- we calculate the degree of freedom and the significance level to calculate the critical value\n",
    "- we compare the chi-squared value with critical value \n",
    "    - if chisquared value > critical value then there are outliers present"
   ]
  }
 ],
 "metadata": {
  "language_info": {
   "name": "python"
  }
 },
 "nbformat": 4,
 "nbformat_minor": 5
}
