{
 "cells": [
  {
   "cell_type": "markdown",
   "id": "6e86cc57",
   "metadata": {},
   "source": [
    "1. [Median Absolute Deviation](#median-absolute-deviation)"
   ]
  },
  {
   "cell_type": "markdown",
   "id": "0ac34c38",
   "metadata": {},
   "source": [
    "#### Median Absolute Deviation:\n",
    "- it is used to identify outliers\n",
    "- used to measure the spread of dispersion of data w.r.t standard deviation\n",
    "- at first, we sort the data and take the median value\n",
    "- now, we will take the difference for each value in the dataset with the median value\n",
    "- then, we sort the difference value and again take the median which is the MAD value for the dataset"
   ]
  }
 ],
 "metadata": {
  "language_info": {
   "name": "python"
  }
 },
 "nbformat": 4,
 "nbformat_minor": 5
}
