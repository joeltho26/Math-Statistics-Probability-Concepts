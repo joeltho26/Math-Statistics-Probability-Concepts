{
 "cells": [
  {
   "cell_type": "markdown",
   "id": "25670b63",
   "metadata": {},
   "source": [
    "Statistical:\n",
    "- Z-Score\n",
    "- IQR\n",
    "- Median Absolute Deviation\n",
    "- Grubbs test\n",
    "- Chi-squared test\n",
    "\n",
    "Distance Methods:\n",
    "- KNN\n",
    "- local outlier factor\n",
    "\n",
    "Density based:\n",
    "- DBSCAN\n",
    "- Isolation forest\n",
    "\n",
    "Clustering based:\n",
    "- k-means\n",
    "- hierarichal \n",
    "- CBLOF (cluster based local outlier factor)\n",
    "\n",
    "ML based:\n",
    "- LSTM\n",
    "- Supervised Anomaly Detection\n",
    "- Autoencoders \n",
    "- One-Class Support Vector Machine\n",
    "- semi supervised anomalt detection\n",
    "\n",
    "Ensemble based:\n",
    "- Feature bagging\n",
    "- isolation forest\n",
    "- SUOD (Scalable unsupervised outlier detection)\n"
   ]
  },
  {
   "cell_type": "markdown",
   "id": "047d8613",
   "metadata": {},
   "source": []
  }
 ],
 "metadata": {
  "language_info": {
   "name": "python"
  }
 },
 "nbformat": 4,
 "nbformat_minor": 5
}
