{
 "cells": [
  {
   "cell_type": "markdown",
   "id": "f719cc28",
   "metadata": {},
   "source": [
    "1. [SPADE algorithm](#spade-algorithm)"
   ]
  },
  {
   "cell_type": "markdown",
   "metadata": {},
   "source": [
    "#### SPADE algorithm:\n",
    "- used to find the frequently occuring subsequences from a sequence of items given a span of time period\n",
    "- Sequential Pattern with Abolsute Difference in their Event times"
   ]
  },
  {
   "cell_type": "markdown",
   "metadata": {},
   "source": [
    "| Customer | Sequences |\n",
    "|---|---|\n",
    "| Customer A: | (Item: Bread, Time: 2025-05-01), (Item: Milk, Time: 2025-05-03), (Item: Butter, Time: 2025-05-08) |\n",
    "| Customer B: | (Item: Bread, Time: 2025-05-05), (Item: Eggs, Time: 2025-05-07), (Item: Milk, Time: 2025-05-08) |\n",
    "| Customer C: | (Item: Bread, Time: 2025-05-10), (Item: Milk, Time: 2025-05-11), (Item: Cheese, Time: 2025-05-15) |\n"
   ]
  },
  {
   "cell_type": "markdown",
   "metadata": {},
   "source": [
    "- we set the min support = 2\n",
    "- at first, we will calculate the occurence of each items in the sequence\n",
    "    - Bread:\n",
    "        - support count = 3\n",
    "            - Customer A, Customer B, Customer C\n",
    "    - Milk:\n",
    "        - support count = 3\n",
    "            - Customer A, Customer B, Customer C\n",
    "    - Butter:\n",
    "        - support count = 1\n",
    "            - Customer A, Customer B, Customer C\n",
    "    - Eggs:\n",
    "        - support count = 1\n",
    "            - Customer A, Customer B, Customer C\n",
    "    - Cheese:\n",
    "        - support count = 1\n",
    "            - Customer A, Customer B, Customer C\n",
    "- Therefore only Bread & Milk is only chosen forward to build the sequence of 2"
   ]
  },
  {
   "cell_type": "markdown",
   "id": "8e49ea16",
   "metadata": {},
   "source": [
    "- now while calculating the sequence of 2, we also validate with the time of event constraint given\n",
    "    - Time of days constraint chosen is 2\n",
    "    - Bread -> Milk\n",
    "        - Customer A: \n",
    "            - 2025-05-01 to 2025-05-03 => 2 days\n",
    "        - Customer B: \n",
    "            - 2025-05-08 to 2025-05-05 => 3 days\n",
    "        - Customer C: \n",
    "            - 2025-05-11 to 2025-05-10 => 1 day\n",
    "- now, we say Bread -> Milk for Customer A & B is frequent\n"
   ]
  },
  {
   "cell_type": "markdown",
   "id": "471a070d",
   "metadata": {},
   "source": []
  }
 ],
 "metadata": {
  "language_info": {
   "name": "python"
  }
 },
 "nbformat": 4,
 "nbformat_minor": 5
}
