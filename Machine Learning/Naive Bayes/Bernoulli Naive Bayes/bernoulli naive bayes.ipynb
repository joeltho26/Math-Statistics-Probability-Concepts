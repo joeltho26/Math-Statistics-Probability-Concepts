{
 "cells": [
  {
   "cell_type": "markdown",
   "id": "69836132",
   "metadata": {},
   "source": [
    "1. [Bernoulli Naive Bayes](#bernoulli-naive-bayes)"
   ]
  },
  {
   "cell_type": "markdown",
   "id": "3e7c9fee",
   "metadata": {},
   "source": [
    "#### Bernoulli Naive Bayes:\n",
    "- the bernoulli naive bayes is the same as the multinomial naive bayes or gaussian naive bayes but it is used for binary data\n",
    "- it is also used when we have more emphasis on presence or absence of a feature than its frequency"
   ]
  }
 ],
 "metadata": {
  "language_info": {
   "name": "python"
  }
 },
 "nbformat": 4,
 "nbformat_minor": 5
}
