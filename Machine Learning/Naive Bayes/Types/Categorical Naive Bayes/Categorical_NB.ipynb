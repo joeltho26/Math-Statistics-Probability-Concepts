{
 "cells": [
  {
   "cell_type": "markdown",
   "id": "54c22c9e",
   "metadata": {},
   "source": [
    "1. [Categorical Naive Bayes](#categorical-naive-bayes)"
   ]
  },
  {
   "cell_type": "markdown",
   "id": "ed4c8676",
   "metadata": {},
   "source": [
    "#### Categorical Naive Bayes:\n",
    "- used when there are ```discrete categorical input feature/variables```\n",
    "- uses similar approach to multinomial naive bayes, calculates the ```frequency``` of feature labels w.r.t to each class labels\n",
    "- choose the final output class based on the ```highest``` posterior probability value"
   ]
  },
  {
   "cell_type": "markdown",
   "id": "6a5b775c",
   "metadata": {},
   "source": []
  }
 ],
 "metadata": {
  "language_info": {
   "name": "python"
  }
 },
 "nbformat": 4,
 "nbformat_minor": 5
}
