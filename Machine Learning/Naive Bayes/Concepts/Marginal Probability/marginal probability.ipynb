{
 "cells": [
  {
   "cell_type": "markdown",
   "id": "787007cd",
   "metadata": {},
   "source": [
    "1. [Marginal Probability](#marginal-probability)"
   ]
  },
  {
   "cell_type": "markdown",
   "id": "f8e11fff",
   "metadata": {},
   "source": [
    "#### Marginal Probability:\n",
    "- ```likelihood``` of an event occuring that is independent "
   ]
  },
  {
   "cell_type": "markdown",
   "id": "ed8cd4c2",
   "metadata": {},
   "source": []
  }
 ],
 "metadata": {
  "language_info": {
   "name": "python"
  }
 },
 "nbformat": 4,
 "nbformat_minor": 5
}
