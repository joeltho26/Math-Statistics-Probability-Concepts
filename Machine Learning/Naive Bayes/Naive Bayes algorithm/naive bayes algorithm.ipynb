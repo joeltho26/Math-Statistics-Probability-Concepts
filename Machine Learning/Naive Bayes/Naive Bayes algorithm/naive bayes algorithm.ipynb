{
 "cells": [
  {
   "cell_type": "markdown",
   "id": "987d8964",
   "metadata": {},
   "source": [
    "1. [Naive Bayes](#naive-bayes)"
   ]
  },
  {
   "cell_type": "markdown",
   "id": "d7f88e7d",
   "metadata": {},
   "source": [
    "#### Naive Bayes:\n",
    "- preferred to solve classification problems\n",
    "- works on the principle of ```Bayes theorem```\n",
    "- has high bias and low variance\n",
    "\n",
    "Working of Naive Bayes:\n",
    "- calculates the ```posterior probability```, ```likelihood```, ```prior probability``` values based on the frequency/count values\n",
    "- probability, likelihood, prior probability values computed for each class and compared\n",
    "- final output class chosen based on highest posterior probabilty value produced\n",
    "\n",
    "```Naive``` in Naive Bayes:\n",
    "- means, the ```semantic meaning``` or ```order of the words``` are not captured\n",
    "- but still the algorithm works well for classification problem statement"
   ]
  },
  {
   "cell_type": "markdown",
   "id": "f0e4e37a",
   "metadata": {},
   "source": []
  }
 ],
 "metadata": {
  "language_info": {
   "name": "python"
  }
 },
 "nbformat": 4,
 "nbformat_minor": 5
}
