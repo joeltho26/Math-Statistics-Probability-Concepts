{
 "cells": [
  {
   "cell_type": "markdown",
   "id": "05aaec71",
   "metadata": {},
   "source": [
    "1. [Bray Curtis Distance](#bray-curtis-distance)"
   ]
  },
  {
   "cell_type": "markdown",
   "id": "c6877bfd",
   "metadata": {},
   "source": [
    "#### Bray Curtis Distance:\n",
    "- used to calculate the dissimilarities between 2 sample sets in ecology and biology to quantify the difference in species composition"
   ]
  }
 ],
 "metadata": {
  "language_info": {
   "name": "python"
  }
 },
 "nbformat": 4,
 "nbformat_minor": 5
}
