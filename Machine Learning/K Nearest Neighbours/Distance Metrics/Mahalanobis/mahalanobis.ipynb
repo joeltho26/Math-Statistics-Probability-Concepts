{
 "cells": [
  {
   "cell_type": "markdown",
   "id": "e31d7ec2",
   "metadata": {},
   "source": [
    "1. [Mahalanobis Distance](#mahalanobis-distance)"
   ]
  },
  {
   "cell_type": "markdown",
   "id": "73ba8715",
   "metadata": {},
   "source": [
    "#### Mahalanobis Distance:\n",
    "- used to calculate the ```distance between a point and a probability distribution```\n",
    "- here it considers that, ```each feature dimension``` has ```different scale``` and ```correlations```\n",
    "- generally, Euclidean, Manhattan, etc consider all dimension to be ```equal```\n",
    "- ```Mahalanobis Formula```:\n",
    "    - ```(x-m)```: vector representing difference between point and distribution\n",
    "    - ```C^(-1)```: inverse of Co-variance matrix\n",
    "        - ```Co-variance```: tells only about the direction of correlation between two variables \n",
    "    - ```(x-m)T```: transpose vector representing difference between point and distribution "
   ]
  },
  {
   "cell_type": "code",
   "execution_count": 5,
   "id": "819752cf",
   "metadata": {},
   "outputs": [
    {
     "data": {
      "image/png": "[encoded data removed]",
      "text/plain": [
       "<PIL.Image.Image image mode=P size=300x70>"
      ]
     },
     "metadata": {},
     "output_type": "display_data"
    }
   ],
   "source": [
    "from PIL import Image \n",
    "from IPython.display import display\n",
    "\n",
    "img = Image.open('images/mahalanobis.png')\n",
    "new_image = img.resize((300, 70))\n",
    "display(new_image)"
   ]
  },
  {
   "cell_type": "code",
   "execution_count": null,
   "id": "fd787cef",
   "metadata": {},
   "outputs": [],
   "source": []
  }
 ],
 "metadata": {
  "kernelspec": {
   "display_name": "Python 3",
   "language": "python",
   "name": "python3"
  },
  "language_info": {
   "codemirror_mode": {
    "name": "ipython",
    "version": 3
   },
   "file_extension": ".py",
   "mimetype": "text/x-python",
   "name": "python",
   "nbconvert_exporter": "python",
   "pygments_lexer": "ipython3",
   "version": "3.13.7"
  }
 },
 "nbformat": 4,
 "nbformat_minor": 5
}
