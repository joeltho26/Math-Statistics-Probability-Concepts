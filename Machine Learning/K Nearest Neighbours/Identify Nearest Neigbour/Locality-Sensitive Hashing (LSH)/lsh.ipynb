{
 "cells": [
  {
   "cell_type": "markdown",
   "id": "fdf68bdb",
   "metadata": {},
   "source": [
    "1. [Locality Sensitive Hashing](#locality-sensitive-hashing)"
   ]
  },
  {
   "cell_type": "markdown",
   "metadata": {},
   "source": [
    "#### Locality Sensitive Hashing:\n",
    "- used to find the ```nearest neighbors```\n",
    "- used for ```high dimensional``` dataset"
   ]
  },
  {
   "cell_type": "markdown",
   "metadata": {},
   "source": [
    "##### Process of LSH:\n",
    "\n",
    "- ```multiple hash functions``` are designed to perform locality sensitive hashing\n",
    "```Hash Function```:\n",
    "- each hash function is developed to ```hash each record``` in the dataset and ensure has ```minimal collision```\n",
    "    - ```Collision```:\n",
    "        - ```two different string``` will produce ```same hash output``` value which leads to error output\n",
    "- the ```hashed value``` of each record is stored in their corresponding bucket of a ```Hash Table/Map```\n",
    "- ```Hash function criteria```:\n",
    "    - data points that have small distances are similar and data points that have large distances are dissimilar \n",
    "- implements ```amplification``` to reduce false positives and negatives\n",
    "    - concatenating multiple hash functions values into one\n",
    "    - breaking the concatenated hash function value into several bands (i.e. separate hash function values)\n",
    "- consider a pair of data points to be ```similar```, when there is atleast ```1 collision``` w.r.t individual hash function\n",
    "\n",
    "```Prediction```:\n",
    "- collision data points are considered as the ```candidates``` for nearest neighbor\n",
    "- then distance is computed between query point and each candidate nearest neighbour data point to find the actual nearest neighbour\n",
    "        - hamming distance (bit wise)\n",
    "        - cosine similarity\n",
    "        - jaccard similarity"
   ]
  },
  {
   "cell_type": "markdown",
   "id": "8cf55598",
   "metadata": {},
   "source": []
  }
 ],
 "metadata": {
  "language_info": {
   "name": "python"
  }
 },
 "nbformat": 4,
 "nbformat_minor": 5
}
