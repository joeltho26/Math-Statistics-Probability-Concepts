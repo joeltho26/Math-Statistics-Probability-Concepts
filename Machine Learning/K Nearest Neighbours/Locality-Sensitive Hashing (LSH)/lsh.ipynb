{
 "cells": [
  {
   "cell_type": "markdown",
   "id": "fdf68bdb",
   "metadata": {},
   "source": [
    "1. [Locality Sensitive Hashing](#locality-sensitive-hashing)"
   ]
  },
  {
   "cell_type": "markdown",
   "metadata": {},
   "source": [
    "#### Locality Sensitive Hashing:\n",
    "- used to find the nearest neighbors\n",
    "- used in machine learning to find the similar classes\n",
    "- used for high dimensional dataset"
   ]
  },
  {
   "cell_type": "markdown",
   "metadata": {},
   "source": [
    "##### Process of LSH:\n",
    "- lets consider, we have list of records with target variable being the output labels in binary or multi-class in nature\n",
    "- generally, when we use the hash function, we will get collision in hash table when the data is identical or sometimes when the hash function is not appropriate\n",
    "\n",
    "Locality Sensitive Hash Functions:\n",
    "- the hash functions chosen are based on the criteria where the data points closer to each other are identified as similar point and data points that are far from each other are considered as disimilar points\n",
    "\n",
    "Hash Tables & Bucketing:\n",
    "- we send each record into a list of hash functions, then the data points are stored in buckets within their respectable hash tables\n",
    "\n",
    "Prediction of query point:\n",
    "- now, we have a query point which will be sent into the same list of hash functions\n",
    "- the data points which fall into the same buckets as the query points is retrieved\n",
    "- these data points are the candidates for nearest neighbor\n",
    "- now the distance between the query point and the each data point is computed to find the actual nearest neighbour\n",
    "    - distance metric used here \n",
    "        - hamming distance (bit wise)\n",
    "        - cosine similarity\n",
    "        - jaccard similarity\n",
    "\n",
    "Amplification:\n",
    "- to improve the probability of finding the true nearest neighbor and reduce the false positive\n",
    "- 2 options:\n",
    "    - Concatenating multiple hash function\n",
    "    - Using multiple hash table"
   ]
  }
 ],
 "metadata": {
  "language_info": {
   "name": "python"
  }
 },
 "nbformat": 4,
 "nbformat_minor": 5
}
