{
 "cells": [
  {
   "cell_type": "markdown",
   "id": "4af2288a",
   "metadata": {},
   "source": [
    "1. [CLARANS](#clarans)"
   ]
  },
  {
   "cell_type": "markdown",
   "id": "6dc9160c",
   "metadata": {},
   "source": [
    "#### CLARANS:\n",
    "- it is a type of partitioning algorithms\n",
    "- its an extension of CLARA algorithms"
   ]
  },
  {
   "cell_type": "markdown",
   "id": "f4443490",
   "metadata": {},
   "source": [
    "- here there are 3 hyper parameters\n",
    "    - number of medoids \"k\"\n",
    "    - number of neighbours for local optimum\n",
    "    - number of partitions/iteration with a set of samples\n",
    "- we will first find the optimal number of cluster medoids \"k\", the max nearest neighbor count and also the number of partitions via CV and hyperparameter tuning\n",
    "- for each partition of sample, we perform the below steps\n",
    "    - now, we choose the initial k medoids which are randomly choosen \n",
    "    - then, we group the data points based on the distance to their nearest medoids and calculate the cost function\n",
    "        - cost function, calculate the sum of distances between the data point and its corresponding medoid\n",
    "    - now, we will assign nearest neighbor paramater count as 0 \n",
    "    - now we will perform local search when nearest neighbor paramater count < max nearest neighbor count\n",
    "        - local search, we will randomly choose one medoid and non medoid point and swap them and again calculate the cost function value and notice if the cost function improves by decreasing, if not we will increase the count of nearest neighbor by 1 and repeat the local search\n",
    "    - once the nearest neighbor count reaches the max threshold, we proceed to the next partition\n",
    "- once all the partitions are completed and the cost function which was the lowest for a particular K medoid structure is chosen as the final K medoid and the whole data points is then clustered based on it"
   ]
  },
  {
   "cell_type": "markdown",
   "id": "5a538b1f",
   "metadata": {},
   "source": []
  }
 ],
 "metadata": {
  "language_info": {
   "name": "python"
  }
 },
 "nbformat": 4,
 "nbformat_minor": 5
}
