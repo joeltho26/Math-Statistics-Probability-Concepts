{
 "cells": [
  {
   "cell_type": "markdown",
   "id": "18455295",
   "metadata": {},
   "source": [
    "1. [Clara](#clara)"
   ]
  },
  {
   "cell_type": "markdown",
   "id": "cc99b41e",
   "metadata": {},
   "source": [
    "#### Clara:\n",
    "- it is an unsupervised algorithm\n",
    "- used where the dataset is large\n",
    "- it is a type of partition clustering"
   ]
  },
  {
   "cell_type": "markdown",
   "metadata": {},
   "source": [
    "- here, we break the large dataset into multiple smaller chunks as samples\n",
    "- we apply PAM in each of the smaller samples\n",
    "- identify the clusters for smaller samples with their lower total cost values\n",
    "- now we use generated medoids for each sample to all the datapoints in the dataset and check for the average total cost value which is the lowest\n",
    "- we choose the medoid set which has the lowest average total cost value among all the samples as the final medoid set and they cluster the overall data points"
   ]
  }
 ],
 "metadata": {
  "language_info": {
   "name": "python"
  }
 },
 "nbformat": 4,
 "nbformat_minor": 5
}
