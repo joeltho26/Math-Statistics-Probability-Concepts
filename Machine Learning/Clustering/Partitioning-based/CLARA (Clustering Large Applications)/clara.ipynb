{
 "cells": [
  {
   "cell_type": "markdown",
   "id": "18455295",
   "metadata": {},
   "source": [
    "1. [Clara](#clara)"
   ]
  },
  {
   "cell_type": "markdown",
   "id": "cc99b41e",
   "metadata": {},
   "source": [
    "#### Clara:\n",
    "- it is an unsupervised algorithm\n",
    "- used where the dataset is large\n",
    "- it is a type of partition clustering"
   ]
  },
  {
   "cell_type": "markdown",
   "metadata": {},
   "source": [
    "- there are two hyper parameters\n",
    "    - number of medoids \"k\"\n",
    "    - number of partitions/iteration with a set of samples\n",
    "- here, we break the large dataset into multiple smaller chunks as samples\n",
    "- we apply PAM in each of the smaller samples and evaluate the cost function value\n",
    "- identify the clusters formed by PAM for a specific sample which had the lowest cost value\n",
    "- we choose the medoid set which has the lowest cost value among all the samples as the final medoid set and they cluster the overall data points"
   ]
  },
  {
   "cell_type": "markdown",
   "id": "281ff1ad",
   "metadata": {},
   "source": []
  }
 ],
 "metadata": {
  "language_info": {
   "name": "python"
  }
 },
 "nbformat": 4,
 "nbformat_minor": 5
}
