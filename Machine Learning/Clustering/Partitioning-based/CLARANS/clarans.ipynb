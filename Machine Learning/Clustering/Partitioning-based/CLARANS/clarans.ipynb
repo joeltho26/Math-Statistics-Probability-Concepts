{
 "cells": [
  {
   "cell_type": "markdown",
   "id": "4af2288a",
   "metadata": {},
   "source": [
    "1. [CLARANS](#clarans)"
   ]
  },
  {
   "cell_type": "markdown",
   "id": "6dc9160c",
   "metadata": {},
   "source": [
    "#### CLARANS:\n",
    "- it is a type of partitioning algorithms\n",
    "- its an extension of CLARA algorithms"
   ]
  },
  {
   "cell_type": "markdown",
   "id": "f4443490",
   "metadata": {},
   "source": [
    "- to find the good mediods, medoid search here we use randomized local search i.e. exploring neighbors instead of PAM of samples via total cost value"
   ]
  },
  {
   "cell_type": "markdown",
   "id": "5a538b1f",
   "metadata": {},
   "source": []
  }
 ],
 "metadata": {
  "language_info": {
   "name": "python"
  }
 },
 "nbformat": 4,
 "nbformat_minor": 5
}
