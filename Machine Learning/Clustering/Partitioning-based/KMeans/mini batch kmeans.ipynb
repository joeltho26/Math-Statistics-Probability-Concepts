{
 "cells": [
  {
   "cell_type": "markdown",
   "id": "ee252553",
   "metadata": {},
   "source": [
    "1. [Mini Batch K-Means](#mini-batch-k-means)"
   ]
  },
  {
   "cell_type": "markdown",
   "id": "c52d12cd",
   "metadata": {},
   "source": [
    "#### Mini Batch K-Means:\n",
    "- the mini batch K-means very similar to K-means\n",
    "- at first, we choose the optimal value for K and their centroids (Kmeans++)\n",
    "- while performing clustering and updating the centroids\n",
    "    - we perform it for the smaller samples/subsets of datapoints\n",
    "    - this will update the centroids incrementally with exponential weights\n",
    "- the converge is achieved when the clusters are stable"
   ]
  },
  {
   "cell_type": "markdown",
   "id": "7b6e997f",
   "metadata": {},
   "source": [
    "    "
   ]
  }
 ],
 "metadata": {
  "language_info": {
   "name": "python"
  }
 },
 "nbformat": 4,
 "nbformat_minor": 5
}
