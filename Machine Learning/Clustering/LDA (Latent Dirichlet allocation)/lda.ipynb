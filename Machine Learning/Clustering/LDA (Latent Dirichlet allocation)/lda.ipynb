{
 "cells": [
  {
   "cell_type": "markdown",
   "id": "e330b9a3",
   "metadata": {},
   "source": [
    "1. [Latent Dirichlet Association](#latent-dirichlet-association)"
   ]
  },
  {
   "cell_type": "markdown",
   "id": "e9fbfbe6",
   "metadata": {},
   "source": [
    "#### Latent Dirichlet Association:\n",
    "- "
   ]
  },
  {
   "cell_type": "markdown",
   "id": "3d2ab0bb",
   "metadata": {},
   "source": []
  },
  {
   "cell_type": "markdown",
   "id": "5eab7d15",
   "metadata": {},
   "source": [
    "from PIL import Image \n",
    "from IPython.display import display\n",
    "\n",
    "img = Image.open('images/properties.png')\n",
    "new_image = img.resize((200, 200))\n",
    "display(new_image)"
   ]
  }
 ],
 "metadata": {
  "language_info": {
   "name": "python"
  }
 },
 "nbformat": 4,
 "nbformat_minor": 5
}
