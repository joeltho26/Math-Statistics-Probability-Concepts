{
 "cells": [
  {
   "cell_type": "markdown",
   "id": "1dc845a8",
   "metadata": {},
   "source": [
    "1. [Self Organizing Maps](#self-organizing-maps)"
   ]
  },
  {
   "cell_type": "markdown",
   "id": "f1eb1bc1",
   "metadata": {},
   "source": [
    "#### Self Organizing Maps:\n"
   ]
  },
  {
   "cell_type": "markdown",
   "id": "16d4cb75",
   "metadata": {},
   "source": []
  },
  {
   "cell_type": "markdown",
   "metadata": {},
   "source": []
  },
  {
   "cell_type": "markdown",
   "metadata": {},
   "source": [
    "from PIL import Image \n",
    "from IPython.display import display\n",
    "\n",
    "img = Image.open('images/properties.png')\n",
    "new_image = img.resize((200, 200))\n",
    "display(new_image)"
   ]
  }
 ],
 "metadata": {
  "language_info": {
   "name": "python"
  }
 },
 "nbformat": 4,
 "nbformat_minor": 5
}
