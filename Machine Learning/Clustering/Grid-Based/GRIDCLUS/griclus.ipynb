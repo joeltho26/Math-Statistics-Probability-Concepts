{
 "cells": [
  {
   "cell_type": "markdown",
   "id": "f1a23707",
   "metadata": {},
   "source": [
    "1. [Griclus clustering](#griclus-clustering)"
   ]
  },
  {
   "cell_type": "markdown",
   "metadata": {},
   "source": [
    "#### Griclus clustering:\n",
    "- it is a type of grid based clustering\n",
    "- when we want to find clusters in the subspaces\n",
    "- works great for high dimensional large datasets\n",
    "- used with spatial data"
   ]
  },
  {
   "cell_type": "markdown",
   "id": "f2a0c483",
   "metadata": {},
   "source": [
    "- at first, we form the grid structure over the dimensional space where the data exists\n",
    "- the grid structure has predefined intervals which are equally sized called the cells.\n",
    "- the cells in the grid are equal in shape and size\n",
    "- now we look at the data points reside in each cell and find the cells which are denser\n",
    "- a cell is distinguished as denser if the density index of data points is greater than the threshold\n",
    "- now, we sort the cells in the descending order of the densities\n",
    "- now, the intial clusters are formed based on the density ordering\n",
    "- the neighbouring blocks are merged into the cluster using recursive neighbor search and the process is iterative until convergence"
   ]
  }
 ],
 "metadata": {
  "language_info": {
   "name": "python"
  }
 },
 "nbformat": 4,
 "nbformat_minor": 5
}
