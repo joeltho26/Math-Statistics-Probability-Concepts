{
 "cells": [
  {
   "cell_type": "markdown",
   "id": "2ffd802f",
   "metadata": {},
   "source": [
    "1. [MAFIA clustering](#mafia-merging-of-adaptive-finite-intervals)"
   ]
  },
  {
   "cell_type": "markdown",
   "metadata": {},
   "source": [
    "#### MAFIA (Merging of Adaptive Finite Intervals):\n",
    "- it is a type of grid based clustering\n",
    "- used for large datasets having higher dimensions"
   ]
  },
  {
   "cell_type": "markdown",
   "id": "2fd5712e",
   "metadata": {},
   "source": [
    "- at first, we form the grid structure but unlike the regular one, we use adaptive grid structure\n",
    "- the grid structure is different for each dimension based on the distribution\n",
    "    - for each dimension, we compute the histogram of data points\n",
    "    - we create the bins based on histogram i.e. the cells in the grid\n",
    "    - denser regions will have finer bins\n",
    "- now, we calculate the density of data in each bins and find the density of data points greater than the threshold called dense regions\n",
    "- likewise, we will create the grid structure and calculate the dense region for all the dimensions of data\n",
    "- now we combine the dimensions which are adjacent and find the overalapping dense points to form the cluster\n"
   ]
  }
 ],
 "metadata": {
  "language_info": {
   "name": "python"
  }
 },
 "nbformat": 4,
 "nbformat_minor": 5
}
