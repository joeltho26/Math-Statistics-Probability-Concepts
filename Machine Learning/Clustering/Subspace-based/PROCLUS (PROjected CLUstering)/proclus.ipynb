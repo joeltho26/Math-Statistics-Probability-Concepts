{
 "cells": [
  {
   "cell_type": "markdown",
   "id": "3e7b4395",
   "metadata": {},
   "source": [
    "1. [PROCLUs - Projected Clustering](#proclus---projected-clustering)"
   ]
  },
  {
   "cell_type": "markdown",
   "id": "a16f1ca3",
   "metadata": {},
   "source": [
    "#### PROCLUs - Projected Clustering:\n",
    "-  finding clusters in high-dimensional datasets"
   ]
  },
  {
   "cell_type": "markdown",
   "metadata": {},
   "source": [
    "There are 3 phases in PROCLUs clustering:\n",
    "- Initialization Phase:\n",
    "    - set the optimal K value and also choose the optimal centroids for it\n",
    "\n",
    "- Iterative Phase:\n",
    "    - from the initial set of medoids, we choose k medoids\n",
    "    - each medoids identifies a set of relevant dimensions based on z-score\n",
    "    - the manhattan segmental distance is calculated, the data points assigned to the closest centroids\n",
    "    - the bad medoids are constantly replaced by swapping with new non medoids as medoids and the same steps are repeated \n",
    "\n",
    "- Refinement Phase:\n",
    "    - now, the algorithm refines the clusters and the associated dimension \n",
    "    - we re-calculate the relevent dimensions to each medoid \n",
    "    - data points are reassigned to the closest medoid according to the newly determined relevant dimensions\n",
    "    - outliers are identified and removed\n",
    "    - the final clusters are also formed"
   ]
  },
  {
   "cell_type": "markdown",
   "id": "900ea0e0",
   "metadata": {},
   "source": []
  }
 ],
 "metadata": {
  "language_info": {
   "name": "python"
  }
 },
 "nbformat": 4,
 "nbformat_minor": 5
}
