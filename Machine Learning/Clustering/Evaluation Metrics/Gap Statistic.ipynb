{
 "cells": [
  {
   "cell_type": "markdown",
   "id": "ec34737c",
   "metadata": {},
   "source": [
    "1. [Gap Statistic](#gap-statistic)"
   ]
  },
  {
   "cell_type": "markdown",
   "id": "083e7ad3",
   "metadata": {},
   "source": [
    "#### Gap Statistic:\n",
    "- we cut the dendograms at different levels of cluster distance and evaluate the metrics shown above\n",
    "- we note the threshold value at which the the metrics gave us the highest/lowest value based on the metrics used\n",
    "- computationally intensive"
   ]
  }
 ],
 "metadata": {
  "language_info": {
   "name": "python"
  }
 },
 "nbformat": 4,
 "nbformat_minor": 5
}
