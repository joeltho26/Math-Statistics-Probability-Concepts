{
 "cells": [
  {
   "cell_type": "markdown",
   "id": "5df89ef9",
   "metadata": {},
   "source": [
    "1. [Random Undersampling](#random-undersampling)"
   ]
  },
  {
   "cell_type": "markdown",
   "id": "4f8f8a7b",
   "metadata": {},
   "source": [
    "#### Random Undersampling:\n",
    "- it randomly selects and filters the samples from majority classes to match the count of minority samples"
   ]
  }
 ],
 "metadata": {
  "language_info": {
   "name": "python"
  }
 },
 "nbformat": 4,
 "nbformat_minor": 5
}
