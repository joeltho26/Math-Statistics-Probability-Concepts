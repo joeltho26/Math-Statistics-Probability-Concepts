{
 "cells": [
  {
   "cell_type": "markdown",
   "id": "a14c1101",
   "metadata": {},
   "source": [
    "1. [Edited Nearest Neighbor](#edited-nearest-neighbor)"
   ]
  },
  {
   "cell_type": "markdown",
   "id": "d97aa6cf",
   "metadata": {},
   "source": [
    "#### Edited Nearest Neighbor:\n",
    "- first we choose the appropriate K value\n",
    "- we choose a random point \"p\" in the dimensional space and calculate the k nearest neighbors data points based on distance calculations\n",
    "- now we will check the \"p\" point's class and look for the majority of neighbors classes is the same. If not then the datapoint \"p\" is removed from the dataset\n",
    "- there is a possibility that even the minority samples can also be removed"
   ]
  }
 ],
 "metadata": {
  "language_info": {
   "name": "python"
  }
 },
 "nbformat": 4,
 "nbformat_minor": 5
}
