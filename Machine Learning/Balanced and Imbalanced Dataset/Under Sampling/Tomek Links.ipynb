{
 "cells": [
  {
   "cell_type": "markdown",
   "id": "f701c853",
   "metadata": {},
   "source": [
    "1. [Tomek Links](#tomek-links)"
   ]
  },
  {
   "cell_type": "markdown",
   "id": "c22abb9d",
   "metadata": {},
   "source": [
    "#### Tomek Links:\n",
    "- for each minority sample, it looks for the nearest majority sample as part of the nearest neighbor"
   ]
  }
 ],
 "metadata": {
  "language_info": {
   "name": "python"
  }
 },
 "nbformat": 4,
 "nbformat_minor": 5
}
