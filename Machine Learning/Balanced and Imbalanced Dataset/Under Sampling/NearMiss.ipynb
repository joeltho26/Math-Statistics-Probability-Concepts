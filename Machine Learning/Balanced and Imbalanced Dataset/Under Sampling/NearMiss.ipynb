{
 "cells": [
  {
   "cell_type": "markdown",
   "id": "2f5ce9ba",
   "metadata": {},
   "source": [
    "1. [NearMiss](#nearmiss)"
   ]
  },
  {
   "cell_type": "markdown",
   "metadata": {},
   "source": [
    "#### NearMiss:\n",
    "- Nearmiss has 3 types\n",
    "    - Nearmiss-1\n",
    "    - Nearmiss-2\n",
    "    - Nearmiss-3\n",
    "- Nearmiss-1:\n",
    "    - performs the same as KNN but only chooses the samples belonging to majority classes which are the closest neighbors with average distance the smallest between the K minority samples\n",
    "- Nearmiss-2:\n",
    "    - performs the same as KNN but only chooses the samples belonging to majority classes which are the furthest neighbors with average distance the smallest between the K minority samples\n",
    "- Nearmiss-3:\n",
    "    - performs the same as KNN but only chooses the samples belonging to majority classes which is the closest neighbor"
   ]
  },
  {
   "cell_type": "markdown",
   "id": "d3fae812",
   "metadata": {},
   "source": []
  }
 ],
 "metadata": {
  "kernelspec": {
   "display_name": "Python 3",
   "language": "python",
   "name": "python3"
  },
  "language_info": {
   "codemirror_mode": {
    "name": "ipython",
    "version": 3
   },
   "file_extension": ".py",
   "mimetype": "text/x-python",
   "name": "python",
   "nbconvert_exporter": "python",
   "pygments_lexer": "ipython3",
   "version": "3.9.6"
  }
 },
 "nbformat": 4,
 "nbformat_minor": 5
}
