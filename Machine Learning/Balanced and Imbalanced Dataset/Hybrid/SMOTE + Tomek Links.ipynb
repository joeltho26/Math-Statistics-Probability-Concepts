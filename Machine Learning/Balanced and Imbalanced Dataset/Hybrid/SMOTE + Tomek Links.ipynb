{
 "cells": [
  {
   "cell_type": "markdown",
   "id": "04c94346",
   "metadata": {},
   "source": [
    "1. [SMOTE + Tomek Links](#smote--tomek-links)"
   ]
  },
  {
   "cell_type": "markdown",
   "id": "67e94681",
   "metadata": {},
   "source": [
    "#### SMOTE + Tomek Links:\n",
    "- at first, it performs over sampling via SMOTE\n",
    "- SMOTE:\n",
    "    - geometrically, first choose random data point \"p\" in the dimensional space which consist of all datapoints\n",
    "    - we also should distinguish the data points and choose only minority samples\n",
    "    - now, we choose the appropriate K value and evaluate the K nearest neighbors for point \"p\"\n",
    "    - we can choose any K nearest neighbor point and the point \"p\" and we interpolate them to form synthetic minority samples\n",
    "- after performing SMOTE, now we perform Tomek Links\n",
    "- Tomek Links:\n",
    "    - we choose each data point (minority class) and only choose the one with the nearest neighbour data point closest from the majority class"
   ]
  },
  {
   "cell_type": "markdown",
   "id": "b90af87c",
   "metadata": {},
   "source": []
  }
 ],
 "metadata": {
  "language_info": {
   "name": "python"
  }
 },
 "nbformat": 4,
 "nbformat_minor": 5
}
