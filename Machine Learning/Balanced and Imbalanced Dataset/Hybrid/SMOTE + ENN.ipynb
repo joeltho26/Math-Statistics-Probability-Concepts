{
 "cells": [
  {
   "cell_type": "markdown",
   "id": "d8fc15ed",
   "metadata": {},
   "source": [
    "1. [SMOTE ENN](#smote-enn)"
   ]
  },
  {
   "cell_type": "markdown",
   "id": "d4b0ecaa",
   "metadata": {},
   "source": [
    "#### SMOTE ENN:\n",
    "- here at first, we perform SMOTE to generate synthetic minority samples and then later perform ENN i.e. Edited nearest neighbor\n",
    "- the ENN, will remove samples which are considered as outliers both in majority and minority class\n",
    "    - we choose a random point \"p\" \n",
    "    - we will choose appropriate K value mostly as K=3 and we calculate the K-nearest neighbor\n",
    "    - we see for the majority of class associated with the K nearest neighbor and check with the \"p\" points class and if its not same the majority class label then its considered as outlier"
   ]
  }
 ],
 "metadata": {
  "language_info": {
   "name": "python"
  }
 },
 "nbformat": 4,
 "nbformat_minor": 5
}
