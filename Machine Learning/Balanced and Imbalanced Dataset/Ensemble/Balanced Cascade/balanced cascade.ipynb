{
 "cells": [
  {
   "cell_type": "markdown",
   "id": "43d5fe09",
   "metadata": {},
   "source": [
    "1. [Balanced Cascade](#balanced-cascade)"
   ]
  },
  {
   "cell_type": "markdown",
   "id": "f506fccf",
   "metadata": {},
   "source": [
    "#### Balanced Cascade:\n",
    "- it handles extreme imbalanced datasets and part of unsersampling technique\n",
    "- it has several stages which are iterative\n",
    "- Stage 1:\n",
    "    - undersample the majority class samples, i.e. a random subset of majority class samples which is the equal size of the minority class samples\n",
    "    - we can use a classifier to train it based on the combined subset of majority and minority samples\n",
    "    - preform prediction on the remaining majority class samples i.e. samples from majority class which were not part of the training data used\n",
    "    - the majority samples which were predicted correctly are removed from further processing\n",
    "    - whereas majority samples which were predicted incorrectly are paased onto the next stage\n",
    "    - the next stages are the same with N iterations\n",
    "    - even after sequential filtering if we find that the there are data points in the majority class still unable to classify it as majority class then they are ambigious and difficult to learn points and they are considered as minority class data points"
   ]
  },
  {
   "cell_type": "markdown",
   "id": "fd75107a",
   "metadata": {},
   "source": []
  }
 ],
 "metadata": {
  "language_info": {
   "name": "python"
  }
 },
 "nbformat": 4,
 "nbformat_minor": 5
}
