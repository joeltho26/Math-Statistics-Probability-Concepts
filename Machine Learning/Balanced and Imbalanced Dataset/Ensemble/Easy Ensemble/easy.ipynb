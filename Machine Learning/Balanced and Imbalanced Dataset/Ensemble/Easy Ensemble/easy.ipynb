{
 "cells": [
  {
   "cell_type": "markdown",
   "id": "51c1d6b6",
   "metadata": {},
   "source": [
    "1. [Easy Ensemble](#easy-ensemble)"
   ]
  },
  {
   "cell_type": "markdown",
   "id": "9bbd209a",
   "metadata": {},
   "source": [
    "#### Easy Ensemble:\n",
    "- this is perform when we have extreme imbalanced dataset\n",
    "- at first, we iteratively randomly undersample the majority class samples\n",
    "- we choose the \"T\" hyper parameter which defines the number of iterations\n",
    "- we take a random subset of majority class and the subset contains equal number of samples as the minority class\n",
    "- now we train the classifier with the balanced data for iteration \"T=1\" \n",
    "- liekwise, we will build N classifiers for \"T=N\" iterations\n",
    "- now we can combine the predictions similar to random forest"
   ]
  },
  {
   "cell_type": "markdown",
   "id": "2884957d",
   "metadata": {},
   "source": []
  }
 ],
 "metadata": {
  "language_info": {
   "name": "python"
  }
 },
 "nbformat": 4,
 "nbformat_minor": 5
}
