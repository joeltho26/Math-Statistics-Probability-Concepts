{
 "cells": [
  {
   "cell_type": "markdown",
   "id": "6ddfb64e",
   "metadata": {},
   "source": [
    "1. [Balanced Random Forest](#balanced-random-forest)"
   ]
  },
  {
   "cell_type": "markdown",
   "id": "a4cbeb23",
   "metadata": {},
   "source": [
    "#### Balanced Random Forest\n",
    "- here there is a small change in the regular random forest algorithm.\n",
    "- during the boostrapping process, we perform row sampling with replacement \n",
    "- under row sampling with replacement, \n",
    "    - we choose the minority class samples\n",
    "    - we undersample the majority class samples"
   ]
  },
  {
   "cell_type": "markdown",
   "id": "3dfe5c36",
   "metadata": {},
   "source": []
  }
 ],
 "metadata": {
  "language_info": {
   "name": "python"
  }
 },
 "nbformat": 4,
 "nbformat_minor": 5
}
