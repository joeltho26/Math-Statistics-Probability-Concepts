{
 "cells": [
  {
   "cell_type": "markdown",
   "id": "9276a921",
   "metadata": {},
   "source": [
    "1. [Random OverSampling](#random-oversampling)"
   ]
  },
  {
   "cell_type": "markdown",
   "id": "8f061b15",
   "metadata": {},
   "source": [
    "#### Random OverSampling:\n",
    "- here we take random samples from the minority class and add it to the dataset and eventually balance the number of samples belonging to each class "
   ]
  }
 ],
 "metadata": {
  "language_info": {
   "name": "python"
  }
 },
 "nbformat": 4,
 "nbformat_minor": 5
}
