{
 "cells": [
  {
   "cell_type": "markdown",
   "id": "416b1a66",
   "metadata": {},
   "source": [
    "1. [SMOTE NC](#smote-nc)"
   ]
  },
  {
   "cell_type": "markdown",
   "id": "5c8087b4",
   "metadata": {},
   "source": [
    "#### SMOTE NC:\n",
    "- SMOTE NC, where the N & C stands for Nominal and Continuous\n",
    "- we perform the same regualr SMOTE for Continuous and Nominal data points\n",
    "- at first, we choose the appropriate K value and then evaluate the nearest neighbors on the minority samples w.r.t point \"p\"\n",
    "    - while calculating the nearest neighbor, we use euclidean distance for continuous data points\n",
    "    - whereas for nominal data points, considering if its binary category, we choose the value 0 & 1 to mark the distance between points\n",
    "        - 0 => same category\n",
    "        - 1 => different category\n",
    "    - now the distance values of nominal and continuous feature is combined together to identify the nearest neighbor\n",
    "- now, we take random nearest neighbor and point \"p\" to generate synthetic minority samples"
   ]
  }
 ],
 "metadata": {
  "language_info": {
   "name": "python"
  }
 },
 "nbformat": 4,
 "nbformat_minor": 5
}
