{
 "cells": [
  {
   "cell_type": "markdown",
   "id": "2b354328",
   "metadata": {},
   "source": [
    "1. [ADASYN](#adasyn)"
   ]
  },
  {
   "cell_type": "markdown",
   "id": "8f68e411",
   "metadata": {},
   "source": [
    "#### ADASYN:\n",
    "- it is called as adaptive synthetic sampling\n",
    "- first we calculate the ratio of imbalance between majority and minority classes\n",
    "- then evaluate the number of minority sythetic samples to be generated \"G\"\n",
    "- now, we try to generate synthetic minority classes based on the difficult regions to learn\n",
    "- to identify the difficult regions \"Xi\", \n",
    "    - we choose the K value and identify the nearest neighbors\n",
    "    - now, we check the nearest neighbor classes and if the majority class are most of the K neighbors then its a difficult region to learn and we choose the data points in this region to create sythentic minority samples\n",
    "- now calculate the difficulty ratio \"Ri\" i.e. number of majority class within the nearest neighbor to the total number of neighbors \n",
    "    - if the ratio value is high, then there is more nearest neighbour points belong to majority class and vice-versa\n",
    "- now we normalize the difficulty ratio\n",
    "- we determine the number of synthetic samples, the more synthetic samples are generated around the instances where \"Ri\" value is high\n",
    "    - Ri * G\n",
    "- the generation of synthetic minority samples are same as SMOTE"
   ]
  },
  {
   "cell_type": "markdown",
   "id": "cf116463",
   "metadata": {},
   "source": []
  }
 ],
 "metadata": {
  "language_info": {
   "name": "python"
  }
 },
 "nbformat": 4,
 "nbformat_minor": 5
}
