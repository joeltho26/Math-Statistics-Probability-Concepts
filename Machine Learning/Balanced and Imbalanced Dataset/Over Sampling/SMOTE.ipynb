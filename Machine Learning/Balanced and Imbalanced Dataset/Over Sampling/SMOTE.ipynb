{
 "cells": [
  {
   "cell_type": "markdown",
   "id": "dd340c7d",
   "metadata": {},
   "source": [
    "1. [SMOTE](#smote)"
   ]
  },
  {
   "cell_type": "markdown",
   "id": "e96c2f08",
   "metadata": {},
   "source": [
    "#### SMOTE:\n",
    "- first, we choose a random point \"p\" in the dimensional space with all the data points of the dataset \n",
    "- we choose the appropriate K value using hyper parameter tuning or prior knowledge\n",
    "- now, we distinguish the minority datapoints from the overall datapoints\n",
    "- based on the K-value we calculate the K nearest neighbor datapoints\n",
    "- we now take point \"p\" and any data point part of the K nearest neighbors and we interpolate them to generate synthetic minority samples "
   ]
  },
  {
   "cell_type": "markdown",
   "id": "aac21c36",
   "metadata": {},
   "source": []
  }
 ],
 "metadata": {
  "language_info": {
   "name": "python"
  }
 },
 "nbformat": 4,
 "nbformat_minor": 5
}
