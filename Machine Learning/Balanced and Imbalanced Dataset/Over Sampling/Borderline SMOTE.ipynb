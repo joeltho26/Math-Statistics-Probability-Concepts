{
 "cells": [
  {
   "cell_type": "markdown",
   "id": "6034f79c",
   "metadata": {},
   "source": [
    "1. [Borderline SMOTE](#borderline-smote)"
   ]
  },
  {
   "cell_type": "markdown",
   "id": "6ad7e589",
   "metadata": {},
   "source": [
    "#### Borderline SMOTE:\n",
    "- here at first, we will try to distinguish 3 different types of instances\n",
    "- choose the appropriate K value to find the K-nearest neighbors\n",
    "- here for calculating the K-nearest neighbor we choose both the minority and majority classes data points\n",
    "    - Noise Instance: if the number of k-nearest neighbors consist of only majority class data points\n",
    "    - Safe Instance: if the number of k-nearest neighbors consist of only minority class data points\n",
    "    - Danger Instance: if the number of k-nearest neighbors consist of both minority & majority class data points\n",
    "- we choose the danger instance to form an new set and then generate synthetic minority samples by applying the regular SMOTE"
   ]
  }
 ],
 "metadata": {
  "language_info": {
   "name": "python"
  }
 },
 "nbformat": 4,
 "nbformat_minor": 5
}
