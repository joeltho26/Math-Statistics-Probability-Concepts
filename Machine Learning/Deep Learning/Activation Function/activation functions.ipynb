{
 "cells": [
  {
   "cell_type": "markdown",
   "id": "f214380c",
   "metadata": {},
   "source": [
    "1. [Activation functions](#activation-functions)"
   ]
  },
  {
   "cell_type": "markdown",
   "id": "2f960cf6",
   "metadata": {},
   "source": [
    "#### Activation functions:\n",
    "- the activation functions in neural network fire the neurons when the value from the activation function is positive only"
   ]
  }
 ],
 "metadata": {
  "language_info": {
   "name": "python"
  }
 },
 "nbformat": 4,
 "nbformat_minor": 5
}
