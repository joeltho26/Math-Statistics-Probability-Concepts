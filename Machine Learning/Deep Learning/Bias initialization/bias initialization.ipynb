{
 "cells": [
  {
   "cell_type": "markdown",
   "id": "a67ba55f",
   "metadata": {},
   "source": [
    "1. [Bias Initialization](#bias-initialization)"
   ]
  },
  {
   "cell_type": "markdown",
   "id": "01611a7e",
   "metadata": {},
   "source": [
    "#### Bias Initialization:\n",
    "- it is different from weight initialization\n",
    "- there are 3 techniques related to bias initialization\n",
    "    - zero initialization\n",
    "    - constant initialization\n",
    "    - initialization based on class frequencies"
   ]
  },
  {
   "cell_type": "markdown",
   "id": "2b9b8b29",
   "metadata": {},
   "source": []
  }
 ],
 "metadata": {
  "language_info": {
   "name": "python"
  }
 },
 "nbformat": 4,
 "nbformat_minor": 5
}
