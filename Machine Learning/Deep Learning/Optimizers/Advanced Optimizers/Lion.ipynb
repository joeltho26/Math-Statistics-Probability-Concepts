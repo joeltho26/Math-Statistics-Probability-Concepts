{
 "cells": [
  {
   "cell_type": "markdown",
   "id": "b0b20ce0",
   "metadata": {},
   "source": [
    "1.[Lion](#lion-learning-with-inferred-optimal-nesterov-momentum)"
   ]
  },
  {
   "cell_type": "markdown",
   "id": "651f8806",
   "metadata": {},
   "source": [
    "#### Lion (Learning with Inferred optimal Nesterov momentum):\n",
    "- calculate the gradient\n",
    "- first moment (mean of gradients) + momentum\n",
    "    - exponentially weighted norm of past gradients  \n",
    "- parameter update   \n",
    "    - instead of dividing by the second moment for parameter update, we use sign of the momentum term and applies a decay term to the previous momentum"
   ]
  },
  {
   "cell_type": "markdown",
   "id": "a7bff867",
   "metadata": {},
   "source": []
  }
 ],
 "metadata": {
  "language_info": {
   "name": "python"
  }
 },
 "nbformat": 4,
 "nbformat_minor": 5
}
