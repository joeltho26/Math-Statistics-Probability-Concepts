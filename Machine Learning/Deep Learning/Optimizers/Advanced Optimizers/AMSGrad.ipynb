{
 "cells": [
  {
   "cell_type": "markdown",
   "id": "b5627fe3",
   "metadata": {},
   "source": [
    "1. [AMSGrad](#amsgrad)"
   ]
  },
  {
   "cell_type": "markdown",
   "id": "95c03428",
   "metadata": {},
   "source": [
    "#### AMSGrad:\n",
    "- calculate the gradients\n",
    "- first moment (mean of gradients)\n",
    "- second moment (mean of squared gradients)\n",
    "- Maximum of past squared gradients\n",
    "- bias correction\n",
    "- parameter updates"
   ]
  }
 ],
 "metadata": {
  "language_info": {
   "name": "python"
  }
 },
 "nbformat": 4,
 "nbformat_minor": 5
}
