{
 "cells": [
  {
   "cell_type": "markdown",
   "id": "1ce1fda5",
   "metadata": {},
   "source": [
    "1. [NAdam](#nadam)"
   ]
  },
  {
   "cell_type": "markdown",
   "id": "400945b7",
   "metadata": {},
   "source": [
    "#### NAdam:\n",
    "- called as Nestorov Adaptive moment estimation\n",
    "- it uses the combination of adam and nestorov momentum \n",
    "    - calculate the gradient\n",
    "    - first moment (mean of gradients)\n",
    "    - second moment (mean of squared gradients)\n",
    "    - bias correction   \n",
    "        - both moments are corrected for their initial bias towards 0\n",
    "    - apply nestorov momentum integration\n",
    "        - apply momemtum for the look ahead step    \n",
    "    - parameter update"
   ]
  },
  {
   "cell_type": "markdown",
   "id": "c3b466df",
   "metadata": {},
   "source": []
  }
 ],
 "metadata": {
  "language_info": {
   "name": "python"
  }
 },
 "nbformat": 4,
 "nbformat_minor": 5
}
