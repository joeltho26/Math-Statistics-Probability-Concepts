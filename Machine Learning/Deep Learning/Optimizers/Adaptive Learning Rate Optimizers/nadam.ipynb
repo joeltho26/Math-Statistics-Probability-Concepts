{
 "cells": [
  {
   "cell_type": "markdown",
   "id": "1ce1fda5",
   "metadata": {},
   "source": []
  },
  {
   "cell_type": "markdown",
   "id": "4e0b1dc7",
   "metadata": {},
   "source": []
  },
  {
   "cell_type": "code",
   "execution_count": null,
   "id": "50aa5243",
   "metadata": {
    "vscode": {
     "languageId": "plaintext"
    }
   },
   "outputs": [],
   "source": []
  },
  {
   "cell_type": "code",
   "execution_count": null,
   "id": "6971986a",
   "metadata": {
    "vscode": {
     "languageId": "plaintext"
    }
   },
   "outputs": [],
   "source": []
  },
  {
   "cell_type": "code",
   "execution_count": null,
   "id": "20392f82",
   "metadata": {
    "vscode": {
     "languageId": "plaintext"
    }
   },
   "outputs": [],
   "source": [
    "create procedure find_values(params)\n",
    "BEGIN\n",
    "    WHILE () DO\n",
    "END\n",
    "    "
   ]
  },
  {
   "cell_type": "code",
   "execution_count": null,
   "id": "bf22f769",
   "metadata": {
    "vscode": {
     "languageId": "plaintext"
    }
   },
   "outputs": [],
   "source": [
    "create procedure procedure_name @variable nvarchar(255)\n",
    "as \n",
    "select * from station where city = @city\n",
    "go;\n",
    "\n",
    "\n",
    "\n",
    "EXEC procedure_name @city='London'"
   ]
  }
 ],
 "metadata": {
  "language_info": {
   "name": "python"
  }
 },
 "nbformat": 4,
 "nbformat_minor": 5
}
