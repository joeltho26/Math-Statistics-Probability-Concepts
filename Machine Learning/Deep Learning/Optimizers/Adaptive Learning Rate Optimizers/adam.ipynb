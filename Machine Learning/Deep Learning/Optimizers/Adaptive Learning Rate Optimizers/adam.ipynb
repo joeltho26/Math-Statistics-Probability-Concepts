{
 "cells": [
  {
   "cell_type": "markdown",
   "id": "ae33106b",
   "metadata": {},
   "source": [
    "1. [Adam](#adam)"
   ]
  },
  {
   "cell_type": "markdown",
   "id": "85d32c1e",
   "metadata": {},
   "source": [
    "#### Adam:\n",
    "- calculate the gradient\n",
    "- first moment (mean of gradients)\n",
    "    - maintains the exponential decaying averaege of gradients\n",
    "- second moment (mean of squared gradients)\n",
    "    - maintains the exponential decaying average of squared gradients\n",
    "- bias correction   \n",
    "    - both moments are corrected for their initial bias towards 0\n",
    "- parameter update\n",
    "    - using bias corrected first and second momentum\n",
    "\n",
    "Advantages:\n",
    "- combines both rmsprop and momentum"
   ]
  },
  {
   "cell_type": "markdown",
   "id": "2d45768d",
   "metadata": {},
   "source": []
  }
 ],
 "metadata": {
  "language_info": {
   "name": "python"
  }
 },
 "nbformat": 4,
 "nbformat_minor": 5
}
