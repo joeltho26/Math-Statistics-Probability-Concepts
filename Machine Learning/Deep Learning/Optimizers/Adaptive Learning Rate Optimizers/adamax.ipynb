{
 "cells": [
  {
   "cell_type": "markdown",
   "id": "eb16c466",
   "metadata": {},
   "source": [
    "1. [AdaMax](#adamax)"
   ]
  },
  {
   "cell_type": "markdown",
   "id": "dc7a15e1",
   "metadata": {},
   "source": [
    "#### AdaMax:\n",
    "- calculate the gradient\n",
    "- first moment (mean of gradients)\n",
    "- exponentially weighted norm of past gradients \n",
    "    - instead of second moment i.e. mean of the squared gradients it uses exponentially weighted maximum of the past gradients \n",
    "- bias correction   \n",
    "    - first moments are corrected for their initial bias towards 0\n",
    "- parameter update\n",
    "    - it uses the 1st momentum and the exponentially weighted maximum of the past gradients to update parametrs"
   ]
  },
  {
   "cell_type": "markdown",
   "id": "aafacd81",
   "metadata": {},
   "source": []
  }
 ],
 "metadata": {
  "language_info": {
   "name": "python"
  }
 },
 "nbformat": 4,
 "nbformat_minor": 5
}
