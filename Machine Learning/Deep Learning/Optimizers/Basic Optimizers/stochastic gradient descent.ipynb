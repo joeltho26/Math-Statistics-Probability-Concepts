{
 "cells": [
  {
   "cell_type": "markdown",
   "id": "049074fb",
   "metadata": {},
   "source": [
    "1. [Stochastic Gradient Descent](#stochastic-gradient-descent)"
   ]
  },
  {
   "cell_type": "markdown",
   "id": "ce6f9c0a",
   "metadata": {},
   "source": [
    "#### Stochastic Gradient Descent:\n",
    "- it uses one data point at a given time to train and update the weights of a neural network\n",
    "- stochastic gradient descent works faster than mini batch and gradient descent\n",
    "- could contain more noise then mini batch grdient descent and results in high variance leading to overfitting issues\n",
    "- it might overshoot global minima "
   ]
  },
  {
   "cell_type": "markdown",
   "id": "fb2aebcf",
   "metadata": {},
   "source": []
  }
 ],
 "metadata": {
  "language_info": {
   "name": "python"
  }
 },
 "nbformat": 4,
 "nbformat_minor": 5
}
