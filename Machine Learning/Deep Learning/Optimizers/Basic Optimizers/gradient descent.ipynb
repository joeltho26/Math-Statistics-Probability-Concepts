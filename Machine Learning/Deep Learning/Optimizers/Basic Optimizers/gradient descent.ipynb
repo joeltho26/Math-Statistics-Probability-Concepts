{
 "cells": [
  {
   "cell_type": "markdown",
   "id": "3daa2deb",
   "metadata": {},
   "source": [
    "1. [Gradient Descent](#gradient-descent)"
   ]
  },
  {
   "cell_type": "markdown",
   "id": "53b00935",
   "metadata": {},
   "source": [
    "#### Gradient Descent:\n",
    "- the whole dataset record is taken all at once to train and update the weights of a neural network as part of back propogation\n",
    "- it is computationally intensive"
   ]
  },
  {
   "cell_type": "markdown",
   "id": "b516ee95",
   "metadata": {},
   "source": []
  }
 ],
 "metadata": {
  "language_info": {
   "name": "python"
  }
 },
 "nbformat": 4,
 "nbformat_minor": 5
}
