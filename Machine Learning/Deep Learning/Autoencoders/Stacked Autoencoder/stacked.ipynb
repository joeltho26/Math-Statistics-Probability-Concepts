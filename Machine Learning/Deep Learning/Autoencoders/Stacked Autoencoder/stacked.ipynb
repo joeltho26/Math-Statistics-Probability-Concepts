{
 "cells": [
  {
   "cell_type": "markdown",
   "id": "1fe08f04",
   "metadata": {},
   "source": [
    "1. [Stacked Autoencoder](#stacked-autoencoder)"
   ]
  },
  {
   "cell_type": "markdown",
   "id": "f5d3b114",
   "metadata": {},
   "source": [
    "#### Stacked Autoencoder:\n",
    "- a traditional approach to training deep autoencoders by training multiple undercomplete autoencoders layer by layer\n",
    "- The output of one autoencoder's bottleneck layer becomes the input to the next autoencoder's input layer\n",
    "- Pre-training deep neural networks for classification"
   ]
  }
 ],
 "metadata": {
  "language_info": {
   "name": "python"
  }
 },
 "nbformat": 4,
 "nbformat_minor": 5
}
