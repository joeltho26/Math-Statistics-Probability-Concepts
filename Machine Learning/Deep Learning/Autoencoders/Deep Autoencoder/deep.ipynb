{
 "cells": [
  {
   "cell_type": "markdown",
   "id": "adeeaeb1",
   "metadata": {},
   "source": [
    "1. [Deep Autoencoders](#deep-autoencoders)"
   ]
  },
  {
   "cell_type": "markdown",
   "id": "18c85c66",
   "metadata": {},
   "source": [
    "#### Deep Autoencoders:\n",
    "- it consist of multiple hidden layers in both the encoder and decoder, making it a \"deep\" neural network\n",
    "- stacking multiple layers allows the autoencoder to learn more complex and hierarchical representations of the data"
   ]
  }
 ],
 "metadata": {
  "language_info": {
   "name": "python"
  }
 },
 "nbformat": 4,
 "nbformat_minor": 5
}
