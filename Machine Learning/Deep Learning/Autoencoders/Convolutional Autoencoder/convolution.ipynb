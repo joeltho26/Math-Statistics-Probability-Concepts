{
 "cells": [
  {
   "cell_type": "markdown",
   "id": "39a2134d",
   "metadata": {},
   "source": [
    "1. [Convolutional Autoencoder](#convolutional-autoencoder)"
   ]
  },
  {
   "cell_type": "markdown",
   "id": "74a18e35",
   "metadata": {},
   "source": [
    "#### Convolutional Autoencoder:\n",
    "- it uses convolutional layers in the encoder and deconvolutional/transposed convolutional layers in the decoder instead of dense layer\n",
    "- the encoder uses convolutions and pooling to extract spatial features and downsample the input. \n",
    "- the decoder uses transposed convolutions (often called \"deconvolutions\") and unpooling to upsample and reconstruct the output\n",
    "- used in Image compression, image denoising, image reconstruction"
   ]
  },
  {
   "cell_type": "markdown",
   "id": "c1f513ce",
   "metadata": {},
   "source": []
  }
 ],
 "metadata": {
  "language_info": {
   "name": "python"
  }
 },
 "nbformat": 4,
 "nbformat_minor": 5
}
