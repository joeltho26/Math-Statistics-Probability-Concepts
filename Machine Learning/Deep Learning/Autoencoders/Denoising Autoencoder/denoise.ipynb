{
 "cells": [
  {
   "cell_type": "markdown",
   "id": "4aaca402",
   "metadata": {},
   "source": [
    "1. [Denoising Autoencoder](#denoising-autoencoder)"
   ]
  },
  {
   "cell_type": "markdown",
   "id": "b9a821bb",
   "metadata": {},
   "source": [
    "#### Denoising Autoencoder\n",
    "- trained to reconstruct the original, clean input from a corrupted (noisy) version of that input\n",
    "- it will still try to minimize the reconstruction error betweeen the output and the orginal input without noise\n",
    "- used in noise reduction, anomaly detection"
   ]
  }
 ],
 "metadata": {
  "language_info": {
   "name": "python"
  }
 },
 "nbformat": 4,
 "nbformat_minor": 5
}
