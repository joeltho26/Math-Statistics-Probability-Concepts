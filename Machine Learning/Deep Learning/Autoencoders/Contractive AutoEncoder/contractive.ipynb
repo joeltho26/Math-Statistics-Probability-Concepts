{
 "cells": [
  {
   "cell_type": "markdown",
   "id": "3180329c",
   "metadata": {},
   "source": [
    "1. [Contractive Autoencoder](#contractive-autoencoder)"
   ]
  },
  {
   "cell_type": "markdown",
   "id": "59a7fa3e",
   "metadata": {},
   "source": [
    "#### Contractive Autoencoder:\n",
    "- a regularization term is added to the loss function to penalise if there are large changes in the compressed representation of features\n",
    "- penalizes the Frobenius norm of the Jacobian matrix of the encoder activations w.r.t input\n",
    "- used in dimensionality reduction, learning robust features"
   ]
  }
 ],
 "metadata": {
  "language_info": {
   "name": "python"
  }
 },
 "nbformat": 4,
 "nbformat_minor": 5
}
