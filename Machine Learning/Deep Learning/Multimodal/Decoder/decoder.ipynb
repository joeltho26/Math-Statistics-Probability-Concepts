{
 "cells": [
  {
   "cell_type": "markdown",
   "id": "c249cd5c",
   "metadata": {},
   "source": [
    "1. [Decoder](#decoder)"
   ]
  },
  {
   "cell_type": "markdown",
   "id": "41a9c834",
   "metadata": {},
   "source": [
    "#### Decoder:\n",
    "- it uses either a fully connected layer to perform specific output prediction or transposed convolution to perform image segmentation or higher resolution"
   ]
  }
 ],
 "metadata": {
  "language_info": {
   "name": "python"
  }
 },
 "nbformat": 4,
 "nbformat_minor": 5
}
