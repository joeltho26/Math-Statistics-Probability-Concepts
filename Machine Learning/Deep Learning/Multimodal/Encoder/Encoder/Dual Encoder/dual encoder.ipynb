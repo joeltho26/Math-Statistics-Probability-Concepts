{
 "cells": [
  {
   "cell_type": "markdown",
   "id": "c0f8e59b",
   "metadata": {},
   "source": [
    "1. [Dual Encoder](#dual-encoder)"
   ]
  },
  {
   "cell_type": "markdown",
   "id": "762f7ca9",
   "metadata": {},
   "source": [
    "#### Dual Encoder:\n",
    "- here we have more than two encoder present especially used in multimodal architectures\n",
    "    - Image encoder\n",
    "    - Text Encoder"
   ]
  }
 ],
 "metadata": {
  "language_info": {
   "name": "python"
  }
 },
 "nbformat": 4,
 "nbformat_minor": 5
}
