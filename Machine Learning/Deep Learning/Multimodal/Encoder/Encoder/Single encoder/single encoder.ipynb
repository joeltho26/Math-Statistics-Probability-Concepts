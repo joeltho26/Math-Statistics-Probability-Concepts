{
 "cells": [
  {
   "cell_type": "markdown",
   "id": "5c0da156",
   "metadata": {},
   "source": [
    "1. [Single Encoder](#single-encoder)"
   ]
  },
  {
   "cell_type": "markdown",
   "metadata": {},
   "source": [
    "#### Single Encoder:\n",
    "- it uses only one encoder to performing encoding of text, images, audio, video, etc to generate embeddings i.e. features in low dimensional vector representation"
   ]
  },
  {
   "cell_type": "markdown",
   "id": "5c53cd50",
   "metadata": {},
   "source": []
  }
 ],
 "metadata": {
  "language_info": {
   "name": "python"
  }
 },
 "nbformat": 4,
 "nbformat_minor": 5
}
