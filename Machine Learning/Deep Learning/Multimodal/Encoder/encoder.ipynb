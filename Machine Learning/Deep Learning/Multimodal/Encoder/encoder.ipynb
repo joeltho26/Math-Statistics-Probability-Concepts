{
 "cells": [
  {
   "cell_type": "markdown",
   "id": "80cb13e3",
   "metadata": {},
   "source": [
    "1. [Encoder](#encoder)"
   ]
  },
  {
   "cell_type": "markdown",
   "id": "b0d27c6b",
   "metadata": {},
   "source": [
    "#### Encoder:\n",
    "- it is used to performing encoding and generate embeddings which are in low dimensional latent space i.e. compressed features"
   ]
  }
 ],
 "metadata": {
  "language_info": {
   "name": "python"
  }
 },
 "nbformat": 4,
 "nbformat_minor": 5
}
