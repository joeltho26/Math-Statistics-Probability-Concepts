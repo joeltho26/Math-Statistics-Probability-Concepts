{
 "cells": [
  {
   "cell_type": "markdown",
   "id": "5a546814",
   "metadata": {},
   "source": [
    "1. [Tensor Fusion Network](#tensor-fusion-network)"
   ]
  },
  {
   "cell_type": "markdown",
   "id": "ac1e1661",
   "metadata": {},
   "source": [
    "#### Tensor Fusion Network:\n",
    "- it has 3 components\n",
    "    - modality embedding subnetwork\n",
    "    - tensor fusion layer\n",
    "        - consit of field vector using 3 fold cartesian product \n",
    "    - sentiment inference subnetwork"
   ]
  }
 ],
 "metadata": {
  "language_info": {
   "name": "python"
  }
 },
 "nbformat": 4,
 "nbformat_minor": 5
}
