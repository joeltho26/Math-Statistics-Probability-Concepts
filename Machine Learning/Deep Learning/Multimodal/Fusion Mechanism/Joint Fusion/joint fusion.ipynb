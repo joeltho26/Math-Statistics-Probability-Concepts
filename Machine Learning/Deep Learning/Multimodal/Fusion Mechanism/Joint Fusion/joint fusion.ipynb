{
 "cells": [
  {
   "cell_type": "markdown",
   "id": "7f5f6700",
   "metadata": {},
   "source": [
    "1. [Joint Fusion](#joint-fusion)"
   ]
  },
  {
   "cell_type": "markdown",
   "id": "ab47d5f1",
   "metadata": {},
   "source": [
    "#### Joint Fusion:\n",
    "- here the features are extracted for the multimodal data and they are given separately into the model\n",
    "- inside the model there is contrastive learning which creates an embedding which has text and image embeddings in shared latent space \n",
    "- these shared latent space embeddings are used to train the model and predict the output"
   ]
  }
 ],
 "metadata": {
  "language_info": {
   "name": "python"
  }
 },
 "nbformat": 4,
 "nbformat_minor": 5
}
