{
 "cells": [
  {
   "cell_type": "markdown",
   "id": "4a51cd4f",
   "metadata": {},
   "source": [
    "1. [Early Fusion](#early-fusion)"
   ]
  },
  {
   "cell_type": "markdown",
   "id": "95aaee64",
   "metadata": {},
   "source": [
    "#### Early Fusion:\n",
    "- here after performing the preprocessing of multimodal data features separately, we merge them together and then give it for model training\n"
   ]
  }
 ],
 "metadata": {
  "language_info": {
   "name": "python"
  }
 },
 "nbformat": 4,
 "nbformat_minor": 5
}
