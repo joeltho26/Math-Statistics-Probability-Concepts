{
 "cells": [
  {
   "cell_type": "markdown",
   "id": "59f9ed92",
   "metadata": {},
   "source": [
    "1. [Late Fusion](#late-fusion)"
   ]
  },
  {
   "cell_type": "markdown",
   "id": "f402d2a0",
   "metadata": {},
   "source": [
    "#### Late Fusion:\n",
    "- here we extracted the multimodal features from input data such as audio, video, text, photo and then give them separately to the individual models to be trained on and then the output from the respective models is concatenated"
   ]
  }
 ],
 "metadata": {
  "language_info": {
   "name": "python"
  }
 },
 "nbformat": 4,
 "nbformat_minor": 5
}
