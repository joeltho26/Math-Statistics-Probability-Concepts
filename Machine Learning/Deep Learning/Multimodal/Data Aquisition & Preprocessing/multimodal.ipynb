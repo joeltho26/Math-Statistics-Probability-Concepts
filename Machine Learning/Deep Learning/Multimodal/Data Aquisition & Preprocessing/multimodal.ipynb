{
 "cells": [
  {
   "cell_type": "markdown",
   "id": "561a49dc",
   "metadata": {},
   "source": [
    "1. [Multimodal Architecture](#multimodal-architecture)"
   ]
  },
  {
   "cell_type": "markdown",
   "id": "9cfc0fd8",
   "metadata": {},
   "source": [
    "#### Multimodal Architecture:\n",
    "- Data Aquisition and Preprocessing\n",
    "    - Text:\n",
    "        - removal of stopwords\n",
    "        - removal of special characters\n",
    "        - lowering of words\n",
    "        - lemmatization\n",
    "        - tokenization\n",
    "    - Image:\n",
    "        - Data Augmentation\n",
    "            - Based on movement\n",
    "                - clipping\n",
    "                - cropping\n",
    "                - shifting\n",
    "                - rotating\n",
    "                - scaling\n",
    "                - zoom\n",
    "            - Based on color\n",
    "                - contrast\n",
    "                - jittering\n",
    "                - brightness\n",
    "    - Audio:\n",
    "        - sampling rate conversion\n",
    "        - MFCC (Mel Frequency Cepstral Coefficient uses short term power spectrum of a sound)\n",
    "        - Zero crossing rate\n",
    "        - chroma features (distribution of energy across different pitch class C,D,E, etc)\n",
    "        - spectral rolloff (signal's energy concentrated)\n",
    "        - spectral centroid\n",
    "    - Video:\n",
    "        - Decomposition of frames\n",
    "        - Optical flow (motion feature)\n",
    "        - also use above audio and image feature extraction process\n",
    "    - Synchronization/Alignment:\n",
    "        - if modalities are time dependent, ensure they are properly synchronized"
   ]
  },
  {
   "cell_type": "markdown",
   "id": "cc0b3fb0",
   "metadata": {},
   "source": []
  }
 ],
 "metadata": {
  "language_info": {
   "name": "python"
  }
 },
 "nbformat": 4,
 "nbformat_minor": 5
}
