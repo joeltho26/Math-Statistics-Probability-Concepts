{
 "cells": [
  {
   "cell_type": "markdown",
   "id": "251d7dce",
   "metadata": {},
   "source": [
    "1. [Cross Modal Attention](#cross-modal-attention)"
   ]
  },
  {
   "cell_type": "markdown",
   "id": "00e4553a",
   "metadata": {},
   "source": [
    "#### Cross Modal Attention:\n",
    "- consider there 2 modalities image and text\n",
    "- Text -> text embeddings (Query)\n",
    "- Image -> image embeddings (Key-Value)\n",
    "- perform the dot product of Query and Key to measure the similarities\n",
    "- results in attention score matrix\n",
    "- apply softmax function to attention score to normalize them into probabilities \n",
    "- use attention probability to calculate the weighted sum of Values (V)\n",
    "- produces a context vector \n",
    "- context vectors are combined with original text embeddings to produce final cross modal representation"
   ]
  },
  {
   "cell_type": "markdown",
   "id": "f751e843",
   "metadata": {},
   "source": []
  }
 ],
 "metadata": {
  "language_info": {
   "name": "python"
  }
 },
 "nbformat": 4,
 "nbformat_minor": 5
}
