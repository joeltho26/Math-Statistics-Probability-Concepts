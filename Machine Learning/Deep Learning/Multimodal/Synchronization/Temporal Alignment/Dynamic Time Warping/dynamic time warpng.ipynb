{
 "cells": [
  {
   "cell_type": "markdown",
   "id": "f3ba8123",
   "metadata": {},
   "source": [
    "1. [Dynamic Time Warping](#dynamic-time-warping)"
   ]
  },
  {
   "cell_type": "markdown",
   "metadata": {},
   "source": [
    "#### Dynamic Time Warping:\n",
    "- it is commonly used on time series data\n",
    "- calculate the distance matrix \n",
    "    - used to check the similarities between two sequences at certain points i.e. euclidean distance is calculated\n",
    "- calculate the cost matrix and the accumulated cost \n",
    "    - it accumulates the minimum distances from the start of the sequence to the current point in the sequence \n",
    "    - it helps in optimal path finding by the accumulated cost \n",
    "- Optimal path finding\n",
    "    - identifies the optimal path by backtracking from the last element in the cost matrix to the first element \n",
    "- Warping path:\n",
    "    - warping path shows how one sequence can be warped (stretched or compressed)"
   ]
  },
  {
   "cell_type": "markdown",
   "id": "247c495e",
   "metadata": {},
   "source": []
  }
 ],
 "metadata": {
  "language_info": {
   "name": "python"
  }
 },
 "nbformat": 4,
 "nbformat_minor": 5
}
