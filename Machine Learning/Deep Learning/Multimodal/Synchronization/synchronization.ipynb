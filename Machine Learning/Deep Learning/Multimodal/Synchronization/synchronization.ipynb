{
 "cells": [
  {
   "cell_type": "markdown",
   "id": "7db60e58",
   "metadata": {},
   "source": [
    "1. [Synchronization](#synchronization)"
   ]
  },
  {
   "cell_type": "markdown",
   "id": "25586d80",
   "metadata": {},
   "source": [
    "#### Synchronization:\n",
    "- Dynamic Time Warping\n",
    "    - stretching or compressing them to match the timing of another sequence\n",
    "- Cross Model Attention\n",
    "    - allow the model to focus on the most relevant parts of each modality\n",
    "- Checkpoints\n",
    "    - are points from which results from different modalities are aligned"
   ]
  },
  {
   "cell_type": "markdown",
   "id": "6724991f",
   "metadata": {},
   "source": []
  }
 ],
 "metadata": {
  "language_info": {
   "name": "python"
  }
 },
 "nbformat": 4,
 "nbformat_minor": 5
}
