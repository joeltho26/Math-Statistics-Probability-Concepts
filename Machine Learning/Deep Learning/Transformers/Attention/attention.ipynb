{
 "cells": [
  {
   "cell_type": "markdown",
   "id": "d2e2e325",
   "metadata": {},
   "source": [
    "1. [Attention Models]"
   ]
  },
  {
   "cell_type": "markdown",
   "id": "f8cffe1d",
   "metadata": {},
   "source": []
  }
 ],
 "metadata": {
  "language_info": {
   "name": "python"
  }
 },
 "nbformat": 4,
 "nbformat_minor": 5
}
