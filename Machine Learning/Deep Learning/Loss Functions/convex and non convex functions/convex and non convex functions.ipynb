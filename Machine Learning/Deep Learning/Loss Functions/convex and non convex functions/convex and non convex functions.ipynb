{
 "cells": [
  {
   "cell_type": "markdown",
   "id": "7a12a8c0",
   "metadata": {},
   "source": [
    "1. [Convex & Non-convex functions](#convex--non-convex-functions)"
   ]
  },
  {
   "cell_type": "markdown",
   "id": "03f237aa",
   "metadata": {},
   "source": [
    "#### Convex & Non-convex functions:\n",
    "\n",
    "Convex functions:\n",
    "- consist of a global minima\n",
    "- eg: \n",
    "    - log loss/ binary cross entropy\n",
    "        - used for binary classification\n",
    "        - used in logistic regression \n",
    "    - MSE \n",
    "        - used for regression\n",
    "    - Hinge loss\n",
    "        - used for SVM\n",
    "    - L1 & L2\n",
    "        - used in regression and prevent overfitting issues\n",
    "\n",
    "Non Convex functions:\n",
    "- consist of global and local minima\n",
    "- provides robustness to outlier and also improve generalization of the model\n",
    "-eg: \n",
    "    - ramp loss\n",
    "        - alternate to hinge loss used in SVM\n",
    "        - \n",
    "    - zero one loss\n",
    "        - used for binary classification\n",
    "        - 0 values means correct prediction and 1 means incorrect prediction\n",
    "    - sigmoid loss\n",
    "        - sometimes when the log loss/binary cross entropy function is embbedded with sigmoid function will result in non convex function (looks like a smoothed 0-1 loss function)\n",
    "    - φ loss, "
   ]
  }
 ],
 "metadata": {
  "language_info": {
   "name": "python"
  }
 },
 "nbformat": 4,
 "nbformat_minor": 5
}
