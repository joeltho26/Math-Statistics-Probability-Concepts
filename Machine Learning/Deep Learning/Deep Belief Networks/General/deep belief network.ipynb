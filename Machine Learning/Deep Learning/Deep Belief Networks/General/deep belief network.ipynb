{
 "cells": [
  {
   "cell_type": "markdown",
   "id": "b2f1ce0d",
   "metadata": {},
   "source": [
    "1. [Deep Belief Network](#deep-belief-network)"
   ]
  },
  {
   "cell_type": "markdown",
   "id": "9f71af73",
   "metadata": {},
   "source": [
    "#### Deep Belief Network:\n",
    "- Unsupervised Pre-training:\n",
    "    - train the first RBM using contrastive divergence algorithm\n",
    "    - train the subsequenct RBMs using the learned hidden activations units as  (visible layer) inputs to the second RBM\n",
    "    - helps us to initialize weights appropriately overcoming vanishing gradient problem\n",
    "- Supervised Fine tuning:\n",
    "    - an output layer is added to the last RBM\n",
    "    - the weights are adjusted using backpropogation and gradient descent "
   ]
  },
  {
   "cell_type": "markdown",
   "id": "2362f65f",
   "metadata": {},
   "source": []
  }
 ],
 "metadata": {
  "language_info": {
   "name": "python"
  }
 },
 "nbformat": 4,
 "nbformat_minor": 5
}
