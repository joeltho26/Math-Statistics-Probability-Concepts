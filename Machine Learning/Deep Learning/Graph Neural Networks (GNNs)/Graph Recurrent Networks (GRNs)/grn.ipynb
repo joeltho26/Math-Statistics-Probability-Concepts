{
 "cells": [
  {
   "cell_type": "markdown",
   "id": "c9b84570",
   "metadata": {},
   "source": [
    "1. [Graph Recurrent Neural Networks](#graph-recurrent-neural-networks)"
   ]
  },
  {
   "cell_type": "markdown",
   "id": "de463c14",
   "metadata": {},
   "source": [
    "#### Graph Recurrent Neural Networks:\n",
    "- Node hidden state\n",
    "- Message Passing with recurrence\n",
    "- propogation through time and graph\n",
    "- prediction"
   ]
  }
 ],
 "metadata": {
  "language_info": {
   "name": "python"
  }
 },
 "nbformat": 4,
 "nbformat_minor": 5
}
