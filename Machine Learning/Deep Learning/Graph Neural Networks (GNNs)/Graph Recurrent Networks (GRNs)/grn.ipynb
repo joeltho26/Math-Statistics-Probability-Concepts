{
 "cells": [
  {
   "cell_type": "markdown",
   "id": "c9b84570",
   "metadata": {},
   "source": [
    "1. [Graph Recurrent Neural Networks](#graph-recurrent-neural-networks)"
   ]
  },
  {
   "cell_type": "markdown",
   "id": "de463c14",
   "metadata": {},
   "source": [
    "#### Graph Recurrent Neural Networks:\n",
    "- Node hidden state\n",
    "    - each node \"v\" in a graph maintains a hidden state which is called memory of past activities\n",
    "- Message Passing with recurrence\n",
    "    - at each time step, the hidden state is updated based on \n",
    "        - previous hidden state\n",
    "        - current input features\n",
    "    - aggregated information from its neighbors in previous and current step\n",
    "- propogation through time and graph\n",
    "    - the updates propogate through each nodes in the graph and also through time step\n",
    "        - captures spatial dependencies\n",
    "            - relationship between nodes in the graph\n",
    "        - captures temporal dependencies\n",
    "            - relationship between nodes that evolve over a period of time\n",
    "- prediction\n",
    "    - node level\n",
    "    - graph level"
   ]
  },
  {
   "cell_type": "markdown",
   "id": "058b73e2",
   "metadata": {},
   "source": []
  }
 ],
 "metadata": {
  "language_info": {
   "name": "python"
  }
 },
 "nbformat": 4,
 "nbformat_minor": 5
}
