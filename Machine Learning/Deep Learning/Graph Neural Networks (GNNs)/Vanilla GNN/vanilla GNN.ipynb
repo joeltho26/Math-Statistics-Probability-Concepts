{
 "cells": [
  {
   "cell_type": "markdown",
   "id": "d89f7e15",
   "metadata": {},
   "source": [
    "1. [Vanilla GNN](#vanilla-gnn)"
   ]
  },
  {
   "cell_type": "markdown",
   "id": "90bf3cf8",
   "metadata": {},
   "source": [
    "#### Vanilla GNN:\n",
    "- a graph neural network uses below feature:\n",
    "    - initialization\n",
    "        - each node has a input feature vector\n",
    "    - message passing\n",
    "        - for K iterations, we update feature representation for each node by passing messages\n",
    "        - 3 components\n",
    "            - message generation\n",
    "                - each neighbor \"u\" of a node \"v\" generate a message\n",
    "                - the generated message is a transformation of neighbor feature vector \"u\"\n",
    "            - aggregation\n",
    "                - all the messages from the neighbour is gathered and aggregated into a single vector\n",
    "                - the aggregate function is permutation invariant i.e. the order of the messages received doesnt change the aggregated result\n",
    "            - updation\n",
    "                - combines its own feature representation vector with the aggregated result \n",
    "                - this combination is usually done by MLP, GRU or LSTM\n",
    "    - prediction\n",
    "        - now all nodes have their final learned embeddings\n",
    "        - node level tasks\n",
    "            - eg: users interest\n",
    "        - edge level tasks\n",
    "            - eg: friendships\n",
    "        - graph level tasks\n",
    "            - aggregate all embedding to classify the whole graph"
   ]
  },
  {
   "cell_type": "markdown",
   "id": "8893e726",
   "metadata": {},
   "source": []
  }
 ],
 "metadata": {
  "language_info": {
   "name": "python"
  }
 },
 "nbformat": 4,
 "nbformat_minor": 5
}
