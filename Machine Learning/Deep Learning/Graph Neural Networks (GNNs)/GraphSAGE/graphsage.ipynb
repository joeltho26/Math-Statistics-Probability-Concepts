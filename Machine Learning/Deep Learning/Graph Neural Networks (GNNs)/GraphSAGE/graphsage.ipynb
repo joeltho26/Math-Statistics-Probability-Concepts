{
 "cells": [
  {
   "cell_type": "markdown",
   "id": "285feb0e",
   "metadata": {},
   "source": [
    "1. [GraphSAGE](#graphsage)"
   ]
  },
  {
   "cell_type": "markdown",
   "id": "a7d477f5",
   "metadata": {},
   "source": [
    "#### GraphSAGE:\n",
    "- the graphSAGE introduces the inductive learning \n",
    "- inductive learning means the graph has a generalization function which can generate embedding for future nodes or for entirely new graph without retraining the existing graph model\n",
    "- steps of GraphSAGE:\n",
    "    - initialization\n",
    "        - each node is given an initial feature representation vector\n",
    "    - neighborhood sampling\n",
    "        - here it doesnt consider the whole list of neighbors instead a selective sample of neighbors \n",
    "    - feature aggregation\n",
    "        - now to aggregate the sampled neighbors transformed feature representation via below learnable aggregation functions\n",
    "            - Mean Aggregator\n",
    "            - Pooling Aggregator\n",
    "            - LSTM Aggregator\n",
    "    - concatenation and update\n",
    "        - the new feature representation of node is produced by the aggregated neighbour information and the node's previous layer embedding information\n",
    "    - normalization\n",
    "        - the resulting embedding is normalized ot overcome vanishing or exploding gradients problem\n",
    "    - prediction"
   ]
  },
  {
   "cell_type": "markdown",
   "id": "17ecc987",
   "metadata": {},
   "source": []
  }
 ],
 "metadata": {
  "language_info": {
   "name": "python"
  }
 },
 "nbformat": 4,
 "nbformat_minor": 5
}
