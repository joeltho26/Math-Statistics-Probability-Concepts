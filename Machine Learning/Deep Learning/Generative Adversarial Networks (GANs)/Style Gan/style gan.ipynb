{
 "cells": [
  {
   "cell_type": "markdown",
   "id": "09c2389d",
   "metadata": {},
   "source": [
    "1. [Style GAN](#style-gan)"
   ]
  },
  {
   "cell_type": "markdown",
   "id": "30eb689f",
   "metadata": {},
   "source": [
    "#### Style GAN:\n",
    "- Mapping Network:\n",
    "    - in style GAN, before the noise added to the input data, we have a mapping network (8 layer MLP)\n",
    "    - mapping network transforms the noise vector \"x\" into a latent vector \"w\"\n",
    "- Adaptive Instance Normalization (AdaIN) & Style Injection:\n",
    "    - instead of sending the noise directly into GAN, it uses AdaIN\n",
    "    - AdaIN normalizes the mean and the variance of feature maps and scales and fits them based on style parameters\n",
    "- Progressing Growing:\n",
    "    - improves stability and image quality\n",
    "    - gradually adding new layers to both generator and discriminator \n",
    "- Constant Input and Noise injection:\n",
    "    - a constant input and random gaussian noise is added at different layer\n",
    "- Mixing regularization:\n",
    "    - sometimes it used two different \"w\" vectors\n",
    "    - first \"w\" used to control style for initial layers and the second \"w\" used for the later layers"
   ]
  },
  {
   "cell_type": "markdown",
   "metadata": {},
   "source": []
  }
 ],
 "metadata": {
  "language_info": {
   "name": "python"
  }
 },
 "nbformat": 4,
 "nbformat_minor": 5
}
