{
 "cells": [
  {
   "cell_type": "markdown",
   "id": "57fa30dc",
   "metadata": {},
   "source": [
    "1. [Deep Convolutional GAN](#deep-convolutional-gan)"
   ]
  },
  {
   "cell_type": "markdown",
   "id": "e4833305",
   "metadata": {},
   "source": [
    "#### Deep Convolutional GAN:\n",
    "- Generator:\n",
    "    - uses transposed convolutions\n",
    "        - reshape the noise vector into small spatial volume with high number of feature maps\n",
    "        - upsamples the small feature maps while reducing the number of feature channels\n",
    "    - activation functions\n",
    "        - RELU\n",
    "        - Tanh\n",
    "- Discrimnator:\n",
    "    - performs convolutions\n",
    "        - downsamples the spatial dimensions\n",
    "    - activation functions\n",
    "            - leaky RELU\n",
    "            - Sigmoid \n",
    "- it performs the same operation as vanilla GAN\n",
    "- replace pooling layers with strided convolutions\n",
    "- removed fully connected layers in both discriminator and generator\n",
    "- use Batch Normalization"
   ]
  },
  {
   "cell_type": "markdown",
   "id": "d6e080ab",
   "metadata": {},
   "source": []
  }
 ],
 "metadata": {
  "language_info": {
   "name": "python"
  }
 },
 "nbformat": 4,
 "nbformat_minor": 5
}
