{
 "cells": [
  {
   "cell_type": "markdown",
   "id": "0f613d7d",
   "metadata": {},
   "source": [
    "1. [Cycle GAN](#cycle-gan)"
   ]
  },
  {
   "cell_type": "markdown",
   "id": "43cec313",
   "metadata": {},
   "source": [
    "#### Cycle GAN:\n",
    "- it uses 2 discriminator and 2 generator\n",
    "    - Generator F, Discriminator A\n",
    "    - Generator G, Discriminator B\n",
    "- there are 6 losses associated to this GAN model\n",
    "    - 2 cycle consistency \n",
    "        - uses forward and backward cycles\n",
    "        - forward:\n",
    "            -  an image y from Domain B, if you translate it to Domain A using Generator F, and then translate it back to Domain B using Generator G, the reconstructed image G(F(y)) should be very similar to the original image y\n",
    "    - 2 identity loss\n",
    "    - 2 adversal loss (generator and discriminator loss)\n",
    "- eg:\n",
    "    - converting photos into paintings and vice versa\n",
    "    - changing seasons in the photos\n",
    "    - changing horse in zebras, etc"
   ]
  },
  {
   "cell_type": "markdown",
   "id": "b8fe3e90",
   "metadata": {},
   "source": []
  }
 ],
 "metadata": {
  "language_info": {
   "name": "python"
  }
 },
 "nbformat": 4,
 "nbformat_minor": 5
}
