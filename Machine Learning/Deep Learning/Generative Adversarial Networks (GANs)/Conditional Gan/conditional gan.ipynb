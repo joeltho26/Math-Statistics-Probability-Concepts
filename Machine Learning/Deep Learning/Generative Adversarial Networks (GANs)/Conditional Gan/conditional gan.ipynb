{
 "cells": [
  {
   "cell_type": "markdown",
   "id": "be310232",
   "metadata": {},
   "source": [
    "1. [Conditional Gan](#conditional-gan)"
   ]
  },
  {
   "cell_type": "markdown",
   "id": "b0b54fb6",
   "metadata": {},
   "source": [
    "#### Conditional Gan:\n",
    "- in conditional gan it's very similar to vanilla GAN except there is an additional input added to conditional gan \n",
    "- the additional input added to conditional GAN provides context or guidance to the generation process\n",
    "- the additional input is given to both discriminator and generator\n",
    "- rest of the training process is similar to vanilla GAN"
   ]
  },
  {
   "cell_type": "markdown",
   "id": "499ccd64",
   "metadata": {},
   "source": []
  }
 ],
 "metadata": {
  "language_info": {
   "name": "python"
  }
 },
 "nbformat": 4,
 "nbformat_minor": 5
}
