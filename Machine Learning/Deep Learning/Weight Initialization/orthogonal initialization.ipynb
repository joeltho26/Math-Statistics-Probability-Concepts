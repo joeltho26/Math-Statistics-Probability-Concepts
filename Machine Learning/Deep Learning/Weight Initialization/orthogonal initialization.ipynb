{
 "cells": [
  {
   "cell_type": "markdown",
   "id": "64745721",
   "metadata": {},
   "source": [
    "1. [Orthogonal Weight Initialization](#orthogonal-weight-initialization)"
   ]
  },
  {
   "cell_type": "markdown",
   "id": "eddedbfd",
   "metadata": {},
   "source": [
    "#### Orthogonal Weight Initialization:\n",
    "- it overcomes the vanishing and exploding gradient problem\n",
    "- the orthogonal weight initialization works by\n",
    "    - generate a random matrix with elements from standard normal distribution\n",
    "    - transform the matrix into orthogonal via \n",
    "        - QR decomposition\n",
    "        - Singular Value Decomposition\n",
    "    - perform scaling\n",
    "- its useful when used in RNNs"
   ]
  },
  {
   "cell_type": "markdown",
   "id": "863e8ba8",
   "metadata": {},
   "source": []
  }
 ],
 "metadata": {
  "language_info": {
   "name": "python"
  }
 },
 "nbformat": 4,
 "nbformat_minor": 5
}
