{
 "cells": [
  {
   "cell_type": "markdown",
   "id": "99f302ee",
   "metadata": {},
   "source": [
    "1. [Random weight initialization](#random-weight-initialization)"
   ]
  },
  {
   "cell_type": "markdown",
   "id": "a15aa746",
   "metadata": {},
   "source": [
    "#### Random weight initialization:\n",
    "- we initialize random weight values and then update it via back propogation\n"
   ]
  }
 ],
 "metadata": {
  "language_info": {
   "name": "python"
  }
 },
 "nbformat": 4,
 "nbformat_minor": 5
}
