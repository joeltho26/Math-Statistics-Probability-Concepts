{
 "cells": [
  {
   "cell_type": "markdown",
   "id": "02298141",
   "metadata": {},
   "source": [
    "1. [Zero weight initialization](#zero-weight-initialization)"
   ]
  },
  {
   "cell_type": "markdown",
   "id": "63d125f5",
   "metadata": {},
   "source": [
    "#### Zero weight initialization:\n",
    "- we initialize the weights to 0 and then update it during the back propogation step"
   ]
  },
  {
   "cell_type": "markdown",
   "id": "5f64ca78",
   "metadata": {},
   "source": []
  }
 ],
 "metadata": {
  "language_info": {
   "name": "python"
  }
 },
 "nbformat": 4,
 "nbformat_minor": 5
}
