{
 "cells": [
  {
   "cell_type": "markdown",
   "id": "12d34375",
   "metadata": {},
   "source": [
    "1. [Weight Initialization Rule](#weight-initialization-rule)"
   ]
  },
  {
   "cell_type": "markdown",
   "id": "5945a5dc",
   "metadata": {},
   "source": [
    "#### Weight Initialization Rule:\n",
    "- weights should be small\n",
    "- weights should not be same\n",
    "- weights should have good variance"
   ]
  },
  {
   "cell_type": "markdown",
   "id": "94f6e5f6",
   "metadata": {},
   "source": []
  }
 ],
 "metadata": {
  "language_info": {
   "name": "python"
  }
 },
 "nbformat": 4,
 "nbformat_minor": 5
}
