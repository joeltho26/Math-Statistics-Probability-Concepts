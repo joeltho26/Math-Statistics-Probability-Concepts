{
 "cells": [
  {
   "cell_type": "markdown",
   "id": "af287c1e",
   "metadata": {},
   "source": [
    "1. [Horizontal Stride](#horizontal-stride)"
   ]
  },
  {
   "cell_type": "markdown",
   "id": "659c1844",
   "metadata": {},
   "source": [
    "#### Horizontal Stride:\n",
    "- the movement of kernels across input matrix i.e. input channel is horizontal"
   ]
  }
 ],
 "metadata": {
  "language_info": {
   "name": "python"
  }
 },
 "nbformat": 4,
 "nbformat_minor": 5
}
