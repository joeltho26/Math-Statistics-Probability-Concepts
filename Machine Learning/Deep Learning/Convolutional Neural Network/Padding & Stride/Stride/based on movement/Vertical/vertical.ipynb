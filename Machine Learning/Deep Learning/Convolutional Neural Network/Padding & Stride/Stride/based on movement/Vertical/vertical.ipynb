{
 "cells": [
  {
   "cell_type": "markdown",
   "id": "f146ea6b",
   "metadata": {},
   "source": [
    "1. [Vertical Stride](#vertical-stride)"
   ]
  },
  {
   "cell_type": "markdown",
   "id": "20f7e3b4",
   "metadata": {},
   "source": [
    "#### Vertical Stride:\n",
    "- the movement of kernels across input matrix i.e. input channel is vertical"
   ]
  }
 ],
 "metadata": {
  "language_info": {
   "name": "python"
  }
 },
 "nbformat": 4,
 "nbformat_minor": 5
}
