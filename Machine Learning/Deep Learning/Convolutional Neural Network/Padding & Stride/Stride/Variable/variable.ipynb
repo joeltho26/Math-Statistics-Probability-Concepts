{
 "cells": [
  {
   "cell_type": "markdown",
   "id": "551db032",
   "metadata": {},
   "source": [
    "1. [Variable Stride](#variable-stride)"
   ]
  },
  {
   "cell_type": "markdown",
   "id": "13079eb6",
   "metadata": {},
   "source": [
    "#### Variable Stride:\n",
    "- here the variable stride means that the stride at each iteration of convolution or pooling process has various dimension of size"
   ]
  },
  {
   "cell_type": "markdown",
   "id": "7b49add8",
   "metadata": {},
   "source": []
  }
 ],
 "metadata": {
  "language_info": {
   "name": "python"
  }
 },
 "nbformat": 4,
 "nbformat_minor": 5
}
