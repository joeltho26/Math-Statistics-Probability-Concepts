{
 "cells": [
  {
   "cell_type": "markdown",
   "id": "3ad7f5f7",
   "metadata": {},
   "source": [
    "1. [Fixed Stride](#fixed-stride)"
   ]
  },
  {
   "cell_type": "markdown",
   "id": "60c1ceea",
   "metadata": {},
   "source": [
    "#### Fixed Stride:\n",
    "- here the variable stride means that the stride at each iteration of convolution or pooling process has fixed dimension of size"
   ]
  },
  {
   "cell_type": "markdown",
   "id": "2334adbd",
   "metadata": {},
   "source": []
  }
 ],
 "metadata": {
  "language_info": {
   "name": "python"
  }
 },
 "nbformat": 4,
 "nbformat_minor": 5
}
