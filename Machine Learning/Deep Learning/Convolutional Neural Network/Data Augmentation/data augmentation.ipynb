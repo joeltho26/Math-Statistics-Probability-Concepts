{
 "cells": [
  {
   "cell_type": "markdown",
   "id": "5c8cc1c2",
   "metadata": {},
   "source": [
    "1. [Data Augmentation](#data-augmentation)"
   ]
  },
  {
   "cell_type": "markdown",
   "id": "25094496",
   "metadata": {},
   "source": [
    "#### Data Augmentation:\n",
    "- it is a process of modifying the image such as performing cropping, scaling, flipping, rotating, brightness, contrast, etc\n",
    "- it is performed before the convolution layers"
   ]
  },
  {
   "cell_type": "markdown",
   "id": "49eb9d98",
   "metadata": {},
   "source": [
    "There are 2 common types of data augmentation:\n",
    "- Color Augmentation\n",
    "    - brightness\n",
    "    - contrast\n",
    "    - jittering\n",
    "- Geometric Augmentation\n",
    "    - cropping\n",
    "    - flipping\n",
    "    - rotating\n",
    "    - scaling"
   ]
  },
  {
   "cell_type": "markdown",
   "id": "dc872a6d",
   "metadata": {},
   "source": []
  }
 ],
 "metadata": {
  "language_info": {
   "name": "python"
  }
 },
 "nbformat": 4,
 "nbformat_minor": 5
}
