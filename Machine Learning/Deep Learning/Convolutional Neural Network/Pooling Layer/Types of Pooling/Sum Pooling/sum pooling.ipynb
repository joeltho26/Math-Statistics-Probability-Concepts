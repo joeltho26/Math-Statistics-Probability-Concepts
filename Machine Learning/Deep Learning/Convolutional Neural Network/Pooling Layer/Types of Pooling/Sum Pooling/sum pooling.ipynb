{
 "cells": [
  {
   "cell_type": "markdown",
   "id": "2f04f6b7",
   "metadata": {},
   "source": [
    "1. [Sum Pooling](#sum-pooling)"
   ]
  },
  {
   "cell_type": "markdown",
   "id": "086c0253",
   "metadata": {},
   "source": [
    "#### Sum Pooling:\n",
    "- here in sum pooling, the pooling matrix overlapping with the regions of feature map matrix and the values sum is taken as output"
   ]
  },
  {
   "cell_type": "markdown",
   "id": "6f95dfa5",
   "metadata": {},
   "source": [
    "![SegmentLocal](images/pooling.gif \"segment\")"
   ]
  },
  {
   "cell_type": "markdown",
   "id": "f05f6998",
   "metadata": {},
   "source": []
  }
 ],
 "metadata": {
  "kernelspec": {
   "display_name": "Python 3",
   "language": "python",
   "name": "python3"
  },
  "language_info": {
   "codemirror_mode": {
    "name": "ipython",
    "version": 3
   },
   "file_extension": ".py",
   "mimetype": "text/x-python",
   "name": "python",
   "nbconvert_exporter": "python",
   "pygments_lexer": "ipython3",
   "version": "3.9.6"
  }
 },
 "nbformat": 4,
 "nbformat_minor": 5
}
