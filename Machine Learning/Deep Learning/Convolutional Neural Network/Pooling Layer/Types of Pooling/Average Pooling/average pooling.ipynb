{
 "cells": [
  {
   "cell_type": "markdown",
   "id": "a79bcd94",
   "metadata": {},
   "source": [
    "1. [Average Pooling](#average-pooling)"
   ]
  },
  {
   "cell_type": "markdown",
   "metadata": {},
   "source": [
    "#### Average Pooling:\n",
    "- the pooling here is performed based on the average values of the pooling matrix overlapping the feature map"
   ]
  },
  {
   "cell_type": "markdown",
   "id": "1542bd9f",
   "metadata": {},
   "source": [
    "![SegmentLocal](images/pooling.gif \"segment\")"
   ]
  },
  {
   "cell_type": "markdown",
   "id": "0f43e784",
   "metadata": {},
   "source": []
  }
 ],
 "metadata": {
  "language_info": {
   "name": "python"
  }
 },
 "nbformat": 4,
 "nbformat_minor": 5
}
