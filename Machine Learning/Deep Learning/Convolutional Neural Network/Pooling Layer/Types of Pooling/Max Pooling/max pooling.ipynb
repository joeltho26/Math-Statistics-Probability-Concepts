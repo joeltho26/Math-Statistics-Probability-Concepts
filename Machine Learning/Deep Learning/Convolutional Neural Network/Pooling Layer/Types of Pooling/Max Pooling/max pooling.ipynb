{
 "cells": [
  {
   "cell_type": "markdown",
   "id": "f5beb735",
   "metadata": {},
   "source": [
    "1. [Max Pooling](#max-pooling)"
   ]
  },
  {
   "cell_type": "markdown",
   "id": "8e647199",
   "metadata": {},
   "source": [
    "#### Max Pooling:\n",
    "- while performing max pooling, we will apply the pooling matrix over feature map matrix and choose the maximum value during each iteration"
   ]
  },
  {
   "cell_type": "markdown",
   "id": "73ba14b5",
   "metadata": {},
   "source": [
    "![SegmentLocal](images/pooling.gif \"segment\")"
   ]
  },
  {
   "cell_type": "markdown",
   "id": "2c1ec893",
   "metadata": {},
   "source": []
  }
 ],
 "metadata": {
  "language_info": {
   "name": "python"
  }
 },
 "nbformat": 4,
 "nbformat_minor": 5
}
