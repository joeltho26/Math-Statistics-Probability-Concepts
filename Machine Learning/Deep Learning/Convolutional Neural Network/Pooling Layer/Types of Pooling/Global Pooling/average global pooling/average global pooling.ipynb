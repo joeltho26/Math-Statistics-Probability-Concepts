{
 "cells": [
  {
   "cell_type": "markdown",
   "id": "01cfaadb",
   "metadata": {},
   "source": [
    "1. [Global Average Pooling](#global-average-pooling)"
   ]
  },
  {
   "cell_type": "markdown",
   "id": "800cf828",
   "metadata": {},
   "source": [
    "#### Global Average Pooling:\n",
    "- this type of pooling is performed when we have n feature maps produced by the convolutions\n",
    "- using GAP, we will reduce the 7x7x512 feature maps into 1x1x512 pooled feature map\n",
    "- it will reduce the 7x7 pixels of input channel into a single scalar channel, here the scalar value will be the average value of 7x7 matrix values"
   ]
  },
  {
   "cell_type": "markdown",
   "id": "c06bf895",
   "metadata": {},
   "source": []
  }
 ],
 "metadata": {
  "language_info": {
   "name": "python"
  }
 },
 "nbformat": 4,
 "nbformat_minor": 5
}
