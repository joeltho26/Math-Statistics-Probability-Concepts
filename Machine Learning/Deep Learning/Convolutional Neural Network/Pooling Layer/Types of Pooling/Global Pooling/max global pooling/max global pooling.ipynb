{
 "cells": [
  {
   "cell_type": "markdown",
   "id": "a469edc4",
   "metadata": {},
   "source": [
    "1. [Global Max Pooling](#global-max-pooling)"
   ]
  },
  {
   "cell_type": "markdown",
   "id": "515cc200",
   "metadata": {},
   "source": [
    "#### Global Max Pooling:\n",
    "- this type of pooling is performed when we have n feature maps produced by the convolutions\n",
    "- using GAP, we will reduce the 7x7x512 feature maps into 1x1x512 pooled feature map\n",
    "- it will reduce the 7x7 pixels of input channel into a single scalar channel, here the scalar value will be the max value of 7x7 matrix values"
   ]
  },
  {
   "cell_type": "markdown",
   "id": "c8521887",
   "metadata": {},
   "source": []
  }
 ],
 "metadata": {
  "language_info": {
   "name": "python"
  }
 },
 "nbformat": 4,
 "nbformat_minor": 5
}
