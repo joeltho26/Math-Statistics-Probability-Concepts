{
 "cells": [
  {
   "cell_type": "markdown",
   "id": "b9524e54",
   "metadata": {},
   "source": [
    "1. [LP Pooling](#)"
   ]
  },
  {
   "cell_type": "markdown",
   "id": "25e401da",
   "metadata": {},
   "source": [
    "#### LP Pooling:\n",
    "- it uses the lp norm\n",
    "- lp norm is also known as p-norm which is the generalization of the euclidean distance that measure the length of the vector"
   ]
  }
 ],
 "metadata": {
  "language_info": {
   "name": "python"
  }
 },
 "nbformat": 4,
 "nbformat_minor": 5
}
