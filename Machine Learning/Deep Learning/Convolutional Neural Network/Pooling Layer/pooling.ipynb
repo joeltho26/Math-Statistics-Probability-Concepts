{
 "cells": [
  {
   "cell_type": "markdown",
   "id": "4699fb44",
   "metadata": {},
   "source": [
    "1. [Pooling](#pooling)"
   ]
  },
  {
   "cell_type": "markdown",
   "id": "a45c0b18",
   "metadata": {},
   "source": [
    "#### Pooling:\n",
    "- it is used to reduce the spatial dimensions of the feature map\n",
    "- it is used to prevent overfitting\n",
    "- even in pooling we can choose the kernel dimensions and strides\n",
    "- there are few types of pooling\n",
    "    - max pooling\n",
    "    - sum pooling\n",
    "    - average/mean pooling\n",
    "    - global pooling"
   ]
  },
  {
   "cell_type": "markdown",
   "id": "3167e7be",
   "metadata": {},
   "source": [
    "![SegmentLocal](images/pooling.gif \"segment\")"
   ]
  },
  {
   "cell_type": "markdown",
   "id": "819391b2",
   "metadata": {},
   "source": []
  }
 ],
 "metadata": {
  "language_info": {
   "name": "python"
  }
 },
 "nbformat": 4,
 "nbformat_minor": 5
}
