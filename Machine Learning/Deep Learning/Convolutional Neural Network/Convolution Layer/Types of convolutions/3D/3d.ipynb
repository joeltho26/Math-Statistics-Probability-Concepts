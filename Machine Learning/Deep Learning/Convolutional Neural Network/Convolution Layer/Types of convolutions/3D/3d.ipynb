{
 "cells": [
  {
   "cell_type": "markdown",
   "id": "0e66a234",
   "metadata": {},
   "source": [
    "1. [3D convolutions](#3d-convolutions)"
   ]
  },
  {
   "cell_type": "markdown",
   "id": "910bde89",
   "metadata": {},
   "source": [
    "#### 3D convolutions:\n",
    "- here the kernels size is 3x3 and the corresponding filter size is 4x4\n",
    "- these convolutions are used in medical 3d imaging"
   ]
  },
  {
   "cell_type": "markdown",
   "id": "22d4cfbf",
   "metadata": {},
   "source": []
  }
 ],
 "metadata": {
  "language_info": {
   "name": "python"
  }
 },
 "nbformat": 4,
 "nbformat_minor": 5
}
