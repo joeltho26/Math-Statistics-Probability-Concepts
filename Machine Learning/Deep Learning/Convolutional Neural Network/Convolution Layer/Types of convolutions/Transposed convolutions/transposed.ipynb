{
 "cells": [
  {
   "cell_type": "markdown",
   "id": "c95174be",
   "metadata": {},
   "source": [
    "1. [Transposed Convolutions](#transposed-convolutions)"
   ]
  },
  {
   "cell_type": "markdown",
   "id": "d54c9138",
   "metadata": {},
   "source": [
    "#### Transposed Convolutions:\n",
    "- here in transposed convolutions, it uses upsampling i.e. it increases the dimension of the matrix\n",
    "- it is not truly reversing the convolution operations\n",
    "- in transposed convolution, we use the kernels in transposed form and then multiply with the encoded vector to produce the input data matrix. \n",
    "\n",
    "Note:\n",
    "- https://medium.com/data-science/understand-transposed-convolutions-and-build-your-own-transposed-convolution-layer-from-scratch-4f5d97b2967"
   ]
  },
  {
   "cell_type": "markdown",
   "id": "f91c6a24",
   "metadata": {},
   "source": []
  }
 ],
 "metadata": {
  "language_info": {
   "name": "python"
  }
 },
 "nbformat": 4,
 "nbformat_minor": 5
}
