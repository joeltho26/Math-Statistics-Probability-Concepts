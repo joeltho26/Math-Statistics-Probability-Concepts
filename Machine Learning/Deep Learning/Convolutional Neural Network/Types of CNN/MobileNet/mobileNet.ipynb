{
 "cells": [
  {
   "cell_type": "markdown",
   "id": "c6a923cc",
   "metadata": {},
   "source": [
    "1. [MobileNet](#mobilenet)"
   ]
  },
  {
   "cell_type": "markdown",
   "id": "dbad27c7",
   "metadata": {},
   "source": [
    "#### MobileNet:\n",
    "- it is 10x faster than vgg16\n",
    "- it uses depthwise separable convolutions and uses relu6 instead of regular relu\n",
    "- it also has resolution and width hyperparameters\n",
    "- they also have skip layers, which will be passed to the later layers directly by skipping few intermediate layers\n",
    "- there are 3 variant to mobileNet\n",
    "    - MobileNet v1\n",
    "    - MobileNet v2\n",
    "        - 0.3% faster than v1\n",
    "        - linear bottleneck instead of non linear bottleneck\n",
    "            - linear bottleneck => 1x1 convolutions\n",
    "            - non linear bottleneck => relu activations\n",
    "        - Expansion — Projection way\n",
    "        - inverted residual blocks\n",
    "            - large number of channels in intermediate layer than input or output layers\n",
    "    - MobileNet v3\n",
    "        - uses hardswish instead of relu6\n",
    "        - MnasNet & NetAdapt\n",
    "            - MnasNet: its a cnn used for mobile devices\n",
    "            - NetAdapt: network shrinking algorithm to adapt a pretrained network to a mobile platform\n",
    "        - Squeeze-and-Excitation module\n",
    "            - to enhance the representational power of convolutional neural networks by explicitly modeling channel relationships\n",
    "            - Squeeze: \n",
    "                - global average pooling to compress each channel's feature map into a single numerical value.\n",
    "            - Excitation:\n",
    "                - uses a small neural network (usually 2 fully connected layers with a ReLU and sigmoid activation) to learn channel-wise dependencies\n",
    "        - Redesigning Expensive Layers"
   ]
  },
  {
   "cell_type": "code",
   "execution_count": null,
   "id": "ffb1d7ea",
   "metadata": {},
   "outputs": [],
   "source": [
    "from PIL import Image \n",
    "from IPython.display import display\n",
    "\n",
    "img = Image.open('images/inception.png')\n",
    "new_image = img.resize((980, 330))\n",
    "display(new_image)"
   ]
  },
  {
   "cell_type": "markdown",
   "id": "4dbb9307",
   "metadata": {},
   "source": []
  }
 ],
 "metadata": {
  "kernelspec": {
   "display_name": "Python 3",
   "language": "python",
   "name": "python3"
  },
  "language_info": {
   "codemirror_mode": {
    "name": "ipython",
    "version": 3
   },
   "file_extension": ".py",
   "mimetype": "text/x-python",
   "name": "python",
   "nbconvert_exporter": "python",
   "pygments_lexer": "ipython3",
   "version": "3.9.6"
  }
 },
 "nbformat": 4,
 "nbformat_minor": 5
}
