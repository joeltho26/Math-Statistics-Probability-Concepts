{
 "cells": [
  {
   "cell_type": "markdown",
   "id": "49d9cc83",
   "metadata": {},
   "source": [
    "1. [LeNet](#lenet)"
   ]
  },
  {
   "cell_type": "markdown",
   "id": "d83cae4d",
   "metadata": {},
   "source": [
    "#### LeNet:\n",
    "- it is also called as LeNet-5\n",
    "- input layer:\n",
    "    - 32x32 pixels\n",
    "    - normalized\n",
    "        - 0 = white\n",
    "        - 1 = black\n",
    "- convolution layer:\n",
    "    - 3 convolution layers\n",
    "    - 6 feature maps\n",
    "- pooling layer:\n",
    "    - 2 pooling layers\n",
    "    - multiplied by training coefficient, adds bias, applies sigmoid function\n",
    "- fully connected layer:\n",
    "    - scaled hyperbolic tangent function as activation function\n",
    "- output layer:\n",
    "    - each class is represented by Euclidean Radial basis function unit\n",
    "\n"
   ]
  },
  {
   "cell_type": "markdown",
   "id": "7616b011",
   "metadata": {},
   "source": []
  }
 ],
 "metadata": {
  "language_info": {
   "name": "python"
  }
 },
 "nbformat": 4,
 "nbformat_minor": 5
}
