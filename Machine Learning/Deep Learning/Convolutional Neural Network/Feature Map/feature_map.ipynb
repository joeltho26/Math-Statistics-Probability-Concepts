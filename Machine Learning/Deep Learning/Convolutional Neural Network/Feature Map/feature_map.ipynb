{
 "cells": [
  {
   "cell_type": "markdown",
   "id": "f3e8d1e2",
   "metadata": {},
   "source": [
    "1. [Feature Map](#feature-map)"
   ]
  },
  {
   "cell_type": "markdown",
   "id": "a0ed850c",
   "metadata": {},
   "source": [
    "#### Feature Map:\n",
    "- it is an output generated part of convolutions\n",
    "- the feature map generated could be the same dimension as the input or greater or lesser based on the padding techniques implemented"
   ]
  }
 ],
 "metadata": {
  "language_info": {
   "name": "python"
  }
 },
 "nbformat": 4,
 "nbformat_minor": 5
}
