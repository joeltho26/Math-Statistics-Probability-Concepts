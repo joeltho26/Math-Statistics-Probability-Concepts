{
 "cells": [
  {
   "cell_type": "markdown",
   "id": "a54d81a4",
   "metadata": {},
   "source": [
    "1. [Filters](#filters)"
   ]
  },
  {
   "cell_type": "markdown",
   "id": "1c13121e",
   "metadata": {},
   "source": [
    "#### Filters:\n",
    "- Filters are used in CNN to generate the feature map\n",
    "- used to compress the input image data and capture the important features/details from the image\n",
    "- combination of kernels will form the filters for convolutions\n",
    "- there are several types of filters\n",
    "    - sharpen\n",
    "    - emboss\n",
    "    - edge detection\n",
    "    - frequency based\n",
    "    - smoothing"
   ]
  },
  {
   "cell_type": "markdown",
   "id": "ef96d2fc",
   "metadata": {},
   "source": []
  }
 ],
 "metadata": {
  "language_info": {
   "name": "python"
  }
 },
 "nbformat": 4,
 "nbformat_minor": 5
}
