{
 "cells": [
  {
   "cell_type": "markdown",
   "id": "5910a864",
   "metadata": {},
   "source": [
    "1. [Dropouts](#dropouts)"
   ]
  },
  {
   "cell_type": "markdown",
   "id": "b0d701fe",
   "metadata": {},
   "source": [
    "#### Dropouts:\n",
    "- dropouts is a part of regularization technique which are used to prevent overfitting\n",
    "- using dropouts, we can control the firing of the neurons, i.e. subset of neurons and the input features are ignored by the NN models for training purpose\n",
    "- to perform dropout we have a dropout ratio ranging between 0-1\n",
    "- for test data, the dropout process is not performed instead the dropout ratio is multiplied by the trained weights\n",
    "    - W (Weights) x D (Dropout Ratio)\n",
    "- variant of dropouts:\n",
    "    - standard dropout\n",
    "    - group dropout\n",
    "    - flipout\n",
    "    - alpha dropout\n",
    "    - variational dropout\n",
    "    - spatial dropout"
   ]
  },
  {
   "cell_type": "markdown",
   "id": "68a709f1",
   "metadata": {},
   "source": []
  }
 ],
 "metadata": {
  "language_info": {
   "name": "python"
  }
 },
 "nbformat": 4,
 "nbformat_minor": 5
}
