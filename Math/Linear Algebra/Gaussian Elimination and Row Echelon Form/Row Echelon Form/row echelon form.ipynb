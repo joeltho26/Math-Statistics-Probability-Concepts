{
 "cells": [
  {
   "cell_type": "markdown",
   "id": "dec7d8c0",
   "metadata": {},
   "source": [
    "1. [Row Echelon Form](#row-echelon-form)"
   ]
  },
  {
   "cell_type": "markdown",
   "id": "dfc205cf",
   "metadata": {},
   "source": [
    "#### Row Echelon Form:\n",
    "- "
   ]
  }
 ],
 "metadata": {
  "language_info": {
   "name": "python"
  }
 },
 "nbformat": 4,
 "nbformat_minor": 5
}
