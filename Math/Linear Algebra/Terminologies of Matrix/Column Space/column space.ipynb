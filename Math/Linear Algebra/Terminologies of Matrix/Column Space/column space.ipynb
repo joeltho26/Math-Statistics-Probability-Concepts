{
 "cells": [
  {
   "cell_type": "markdown",
   "id": "44c476a9",
   "metadata": {},
   "source": [
    "1. [Column Space](#column-space)"
   ]
  },
  {
   "cell_type": "markdown",
   "metadata": {},
   "source": [
    "#### Column Space:\n",
    "- ```set of all possible outputs for AV→``` i.e. the various ranks of transformation of space\n",
    "    - talks about the output dimensions from transformation\n",
    "\n",
    "Note:\n",
    "- 2D transformation,\n",
    "    - gets squished into a line: line of vectors in 2D space in different direction get squished into the origin \n",
    "- In 3D transformation,\n",
    "    - full rank transformation: only ```[0 0]``` vector lies at the ```origin```\n",
    "    - gets squished into a plane: line of vectors in 3D space get squished in a different direction into the origin\n",
    "    - gets squished into a line: plane full of vectors in 3D space get squished in a different direction into the origin"
   ]
  },
  {
   "cell_type": "markdown",
   "id": "d0540e09",
   "metadata": {},
   "source": []
  }
 ],
 "metadata": {
  "language_info": {
   "name": "python"
  }
 },
 "nbformat": 4,
 "nbformat_minor": 5
}
