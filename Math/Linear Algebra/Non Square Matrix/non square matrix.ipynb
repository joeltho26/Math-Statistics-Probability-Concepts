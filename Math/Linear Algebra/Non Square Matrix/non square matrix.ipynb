{
 "cells": [
  {
   "cell_type": "markdown",
   "id": "78329f5b",
   "metadata": {},
   "source": [
    "1. [Non Square Matrix](#non-square-matrix)"
   ]
  },
  {
   "cell_type": "markdown",
   "id": "5857aaf4",
   "metadata": {},
   "source": [
    "#### Non Square Matrix:\n",
    "- a ```square matrix``` has ```equal``` number of ```rows``` and ```columns``` in a matrix i.e. 1x1, 2x2, 3x3, 4x4, etc\n",
    "- a ```non square matrix``` has ```no equal``` number of ```rows``` and ```columns``` in a matrix i.e. 1x2, 2x1, 3x2, 4x2, \n",
    "- non square matrix in transformation is used to reduce or increase the output dimensions of the vector\n",
    "- transformation from 2D to 1D:\n",
    "    - A (transformation matrix 1x2) V→ (2x1) => 1D\n",
    "- transformation from 1D to 2D:\n",
    "    - A (transformation matrix 2x1) V→ (1x1) => 2D\n",
    "- transformation from 2D to 3D:\n",
    "    - A (transformation matrix 3x1, 3x2) V→ (2x1) => 3D\n",
    "- transformation from 3D to 2D:\n",
    "    - A (transformation matrix 2x1, 2x3) V→ (3x1) => 2D"
   ]
  },
  {
   "cell_type": "markdown",
   "id": "ae443f45",
   "metadata": {},
   "source": []
  }
 ],
 "metadata": {
  "language_info": {
   "name": "python"
  }
 },
 "nbformat": 4,
 "nbformat_minor": 5
}
