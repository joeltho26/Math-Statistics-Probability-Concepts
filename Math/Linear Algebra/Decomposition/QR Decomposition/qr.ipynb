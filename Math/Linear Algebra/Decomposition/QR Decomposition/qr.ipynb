{
 "cells": [
  {
   "cell_type": "markdown",
   "id": "538b8a7d",
   "metadata": {},
   "source": [
    "1. [QR Factorization/Decomposition](#qr-factorizationdecomposition)"
   ]
  },
  {
   "cell_type": "markdown",
   "id": "9ee74a63",
   "metadata": {},
   "source": [
    "#### QR Factorization/Decomposition:\n",
    "- decomposes a single matrix into 2 simpler matrices\n",
    "    - upper triangular matrix\n",
    "    - orthogonal matrix"
   ]
  }
 ],
 "metadata": {
  "language_info": {
   "name": "python"
  }
 },
 "nbformat": 4,
 "nbformat_minor": 5
}
