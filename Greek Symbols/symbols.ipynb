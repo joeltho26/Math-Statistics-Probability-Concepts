{
 "cells": [
  {
   "cell_type": "markdown",
   "metadata": {},
   "source": [
    "μ\n",
    "θ\n",
    "β\n",
    "λ\n",
    "σ\n",
    "γ\n",
    "ε\n",
    "δ\n",
    "ζ\n",
    "Σ\n",
    "ω\n",
    "φ"
   ]
  }
 ],
 "metadata": {
  "language_info": {
   "name": "python"
  }
 },
 "nbformat": 4,
 "nbformat_minor": 2
}
