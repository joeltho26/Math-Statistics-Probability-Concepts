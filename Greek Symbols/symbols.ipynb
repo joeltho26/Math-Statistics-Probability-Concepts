{
 "cells": [
  {
   "cell_type": "markdown",
   "metadata": {},
   "source": [
    "μ\n",
    "θ\n",
    "β\n",
    "λ\n",
    "σ\n",
    "γ\n",
    "ε\n",
    "δ\n",
    "ζ\n",
    "Σ\n",
    "ω\n",
    "φ\n",
    "α\n",
    "≠\n",
    "η\n",
    "↑\n",
    "↓\n",
    "³\n",
    "²\n",
    "ᵢ\n",
    "√\n",
    "ⁱ\n",
    "→\n",
    "←\n",
    "≠"
   ]
  },
  {
   "cell_type": "markdown",
   "metadata": {},
   "source": []
  }
 ],
 "metadata": {
  "language_info": {
   "name": "python"
  }
 },
 "nbformat": 4,
 "nbformat_minor": 2
}
